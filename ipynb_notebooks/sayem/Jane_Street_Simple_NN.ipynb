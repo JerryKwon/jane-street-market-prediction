{
  "nbformat": 4,
  "nbformat_minor": 0,
  "metadata": {
    "colab": {
      "name": "Jane-Street-Simple NN.ipynb",
      "provenance": []
    },
    "kernelspec": {
      "name": "python3",
      "display_name": "Python 3"
    },
    "accelerator": "GPU"
  },
  "cells": [
    {
      "cell_type": "code",
      "metadata": {
        "id": "svcGMnzM4PcL"
      },
      "source": [
        "from google.colab import files\r\n",
        "\r\n",
        "uploaded = files.upload()\r\n",
        "\r\n",
        "for fn in uploaded.keys():\r\n",
        "  print('User uploaded file \"{name}\" with length {length} bytes'.format(\r\n",
        "      name=fn, length=len(uploaded[fn])))\r\n",
        "  \r\n",
        "# Then move kaggle.json into the folder where the API expects to find it.\r\n",
        "!mkdir -p ~/.kaggle/ && mv kaggle.json ~/.kaggle/ && chmod 600 ~/.kaggle/kaggle.json"
      ],
      "execution_count": null,
      "outputs": []
    },
    {
      "cell_type": "code",
      "metadata": {
        "colab": {
          "base_uri": "https://localhost:8080/"
        },
        "id": "rFPB6bPG4cFb",
        "outputId": "d5c6f4de-83f6-483a-bfe7-f58f41fa336e"
      },
      "source": [
        "!kaggle competitions download -c jane-street-market-prediction"
      ],
      "execution_count": null,
      "outputs": [
        {
          "output_type": "stream",
          "text": [
            "Warning: Looks like you're using an outdated API Version, please consider updating (server 1.5.10 / client 1.5.4)\n",
            "competition.cpython-37m-x86_64-linux-gnu.so: Skipping, found more recently modified local copy (use --force to force download)\n",
            "__init__.py: Skipping, found more recently modified local copy (use --force to force download)\n",
            "example_test.csv.zip: Skipping, found more recently modified local copy (use --force to force download)\n",
            "train.csv.zip: Skipping, found more recently modified local copy (use --force to force download)\n",
            "example_sample_submission.csv: Skipping, found more recently modified local copy (use --force to force download)\n",
            "features.csv: Skipping, found more recently modified local copy (use --force to force download)\n"
          ],
          "name": "stdout"
        }
      ]
    },
    {
      "cell_type": "code",
      "metadata": {
        "colab": {
          "base_uri": "https://localhost:8080/"
        },
        "id": "f0PtJ9lF4gel",
        "outputId": "97aea3b1-9296-4725-efd0-eb75b4b91108"
      },
      "source": [
        "!unzip train.csv.zip"
      ],
      "execution_count": null,
      "outputs": [
        {
          "output_type": "stream",
          "text": [
            "Archive:  train.csv.zip\n",
            "replace train.csv? [y]es, [n]o, [A]ll, [N]one, [r]ename: n\n"
          ],
          "name": "stdout"
        }
      ]
    },
    {
      "cell_type": "code",
      "metadata": {
        "id": "ACO51zRO41iE"
      },
      "source": [
        "\"\"\"\r\n",
        "Reduce Memory Usage by 75%\r\n",
        "https://www.kaggle.com/tomwarrens/nan-values-depending-on-time-of-day\r\n",
        "\"\"\"\r\n",
        "\r\n",
        "## Reduce Memory\r\n",
        "\r\n",
        "def reduce_memory_usage(df):\r\n",
        "    \r\n",
        "    start_memory = df.memory_usage().sum() / 1024**2\r\n",
        "    print(f\"Memory usage of dataframe is {start_memory} MB\")\r\n",
        "    \r\n",
        "    for col in df.columns:\r\n",
        "        col_type = df[col].dtype\r\n",
        "        \r\n",
        "        if col_type != 'object':\r\n",
        "            c_min = df[col].min()\r\n",
        "            c_max = df[col].max()\r\n",
        "            \r\n",
        "            if str(col_type)[:3] == 'int':\r\n",
        "                if c_min > np.iinfo(np.int8).min and c_max < np.iinfo(np.int8).max:\r\n",
        "                    df[col] = df[col].astype(np.int8)\r\n",
        "                elif c_min > np.iinfo(np.int16).min and c_max < np.iinfo(np.int16).max:\r\n",
        "                    df[col] = df[col].astype(np.int16)\r\n",
        "                elif c_min > np.iinfo(np.int32).min and c_max < np.iinfo(np.int32).max:\r\n",
        "                    df[col] = df[col].astype(np.int32)\r\n",
        "                elif c_min > np.iinfo(np.int64).min and c_max < np.iinfo(np.int64).max:\r\n",
        "                    df[col] = df[col].astype(np.int64)\r\n",
        "            \r\n",
        "            else:\r\n",
        "#                 reducing float16 for calculating numpy.nanmean\r\n",
        "#                 if c_min > np.finfo(np.float16).min and c_max < np.finfo(np.float16).max:\r\n",
        "#                     df[col] = df[col].astype(np.float16)\r\n",
        "                if c_min > np.finfo(np.float32).min and c_max < np.finfo(np.float32).max:\r\n",
        "                    df[col] = df[col].astype(np.float32)\r\n",
        "                else:\r\n",
        "                    pass\r\n",
        "        else:\r\n",
        "            df[col] = df[col].astype('category')\r\n",
        "    \r\n",
        "    end_memory = df.memory_usage().sum() / 1024**2\r\n",
        "    print(f\"Memory usage of dataframe after reduction {end_memory} MB\")\r\n",
        "    print(f\"Reduced by {100 * (start_memory - end_memory) / start_memory} % \")\r\n",
        "    return df\r\n",
        "\r\n"
      ],
      "execution_count": null,
      "outputs": []
    },
    {
      "cell_type": "code",
      "metadata": {
        "colab": {
          "base_uri": "https://localhost:8080/"
        },
        "id": "WeAwzmIt5gI0",
        "outputId": "8fe70c8b-2c28-4615-da40-a08af3977efc"
      },
      "source": [
        "!pip install keras-tuner"
      ],
      "execution_count": null,
      "outputs": [
        {
          "output_type": "stream",
          "text": [
            "Collecting keras-tuner\n",
            "\u001b[?25l  Downloading https://files.pythonhosted.org/packages/20/ec/1ef246787174b1e2bb591c95f29d3c1310070cad877824f907faba3dade9/keras-tuner-1.0.2.tar.gz (62kB)\n",
            "\r\u001b[K     |█████▏                          | 10kB 24.8MB/s eta 0:00:01\r\u001b[K     |██████████▍                     | 20kB 31.8MB/s eta 0:00:01\r\u001b[K     |███████████████▋                | 30kB 24.5MB/s eta 0:00:01\r\u001b[K     |████████████████████▉           | 40kB 21.8MB/s eta 0:00:01\r\u001b[K     |██████████████████████████      | 51kB 22.6MB/s eta 0:00:01\r\u001b[K     |███████████████████████████████▎| 61kB 16.6MB/s eta 0:00:01\r\u001b[K     |████████████████████████████████| 71kB 8.7MB/s \n",
            "\u001b[?25hRequirement already satisfied: packaging in /usr/local/lib/python3.6/dist-packages (from keras-tuner) (20.8)\n",
            "Requirement already satisfied: future in /usr/local/lib/python3.6/dist-packages (from keras-tuner) (0.16.0)\n",
            "Requirement already satisfied: numpy in /usr/local/lib/python3.6/dist-packages (from keras-tuner) (1.19.5)\n",
            "Requirement already satisfied: tabulate in /usr/local/lib/python3.6/dist-packages (from keras-tuner) (0.8.7)\n",
            "Collecting terminaltables\n",
            "  Downloading https://files.pythonhosted.org/packages/9b/c4/4a21174f32f8a7e1104798c445dacdc1d4df86f2f26722767034e4de4bff/terminaltables-3.1.0.tar.gz\n",
            "Collecting colorama\n",
            "  Downloading https://files.pythonhosted.org/packages/44/98/5b86278fbbf250d239ae0ecb724f8572af1c91f4a11edf4d36a206189440/colorama-0.4.4-py2.py3-none-any.whl\n",
            "Requirement already satisfied: tqdm in /usr/local/lib/python3.6/dist-packages (from keras-tuner) (4.41.1)\n",
            "Requirement already satisfied: requests in /usr/local/lib/python3.6/dist-packages (from keras-tuner) (2.23.0)\n",
            "Requirement already satisfied: scipy in /usr/local/lib/python3.6/dist-packages (from keras-tuner) (1.4.1)\n",
            "Requirement already satisfied: scikit-learn in /usr/local/lib/python3.6/dist-packages (from keras-tuner) (0.22.2.post1)\n",
            "Requirement already satisfied: pyparsing>=2.0.2 in /usr/local/lib/python3.6/dist-packages (from packaging->keras-tuner) (2.4.7)\n",
            "Requirement already satisfied: certifi>=2017.4.17 in /usr/local/lib/python3.6/dist-packages (from requests->keras-tuner) (2020.12.5)\n",
            "Requirement already satisfied: chardet<4,>=3.0.2 in /usr/local/lib/python3.6/dist-packages (from requests->keras-tuner) (3.0.4)\n",
            "Requirement already satisfied: urllib3!=1.25.0,!=1.25.1,<1.26,>=1.21.1 in /usr/local/lib/python3.6/dist-packages (from requests->keras-tuner) (1.24.3)\n",
            "Requirement already satisfied: idna<3,>=2.5 in /usr/local/lib/python3.6/dist-packages (from requests->keras-tuner) (2.10)\n",
            "Requirement already satisfied: joblib>=0.11 in /usr/local/lib/python3.6/dist-packages (from scikit-learn->keras-tuner) (1.0.0)\n",
            "Building wheels for collected packages: keras-tuner, terminaltables\n",
            "  Building wheel for keras-tuner (setup.py) ... \u001b[?25l\u001b[?25hdone\n",
            "  Created wheel for keras-tuner: filename=keras_tuner-1.0.2-cp36-none-any.whl size=78939 sha256=14f9483f440a81e375a7ffb58629431ff4156b913b0382606ef1d1b54131f65b\n",
            "  Stored in directory: /root/.cache/pip/wheels/bb/a1/8a/7c3de0efb3707a1701b36ebbfdbc4e67aedf6d4943a1f463d6\n",
            "  Building wheel for terminaltables (setup.py) ... \u001b[?25l\u001b[?25hdone\n",
            "  Created wheel for terminaltables: filename=terminaltables-3.1.0-cp36-none-any.whl size=15358 sha256=2e70bda9ad2dbfd57ee6269daa74c6a480c5bf152370a8e3090946c8f417381d\n",
            "  Stored in directory: /root/.cache/pip/wheels/30/6b/50/6c75775b681fb36cdfac7f19799888ef9d8813aff9e379663e\n",
            "Successfully built keras-tuner terminaltables\n",
            "Installing collected packages: terminaltables, colorama, keras-tuner\n",
            "Successfully installed colorama-0.4.4 keras-tuner-1.0.2 terminaltables-3.1.0\n"
          ],
          "name": "stdout"
        }
      ]
    },
    {
      "cell_type": "code",
      "metadata": {
        "id": "T-ikT0g75l2D"
      },
      "source": [
        "import tensorflow as tf\r\n",
        "import keras\r\n",
        "from tensorflow.keras.layers import Input, Dense, BatchNormalization, Dropout, Concatenate, Lambda, GaussianNoise, Activation\r\n",
        "from tensorflow.keras.models import Model, Sequential\r\n",
        "from tensorflow.keras.losses import BinaryCrossentropy\r\n",
        "from tensorflow.keras.optimizers import Adam\r\n",
        "from tensorflow.keras.callbacks import EarlyStopping\r\n",
        "from tensorflow.keras.layers.experimental.preprocessing import Normalization\r\n",
        "import kerastuner as kt\r\n",
        "from keras import layers\r\n",
        "import tensorflow_addons as tfa\r\n",
        "\r\n",
        "from kerastuner.tuners import RandomSearch, Hyperband\r\n",
        "from tensorflow.keras.callbacks import Callback, ReduceLROnPlateau, ModelCheckpoint, EarlyStopping\r\n",
        "from keras.wrappers.scikit_learn import KerasClassifier\r\n",
        "from sklearn.model_selection import GridSearchCV\r\n",
        "\r\n",
        "from sklearn.model_selection import GroupKFold\r\n",
        "from sklearn.model_selection import KFold\r\n",
        "from sklearn.model_selection._split import _BaseKFold, indexable, _num_samples\r\n",
        "from sklearn.utils.validation import _deprecate_positional_args\r\n",
        "\r\n",
        "import numpy as np\r\n",
        "import pandas as pd\r\n",
        "from random import choices\r\n",
        "from tqdm import tqdm\r\n",
        "import matplotlib.pyplot as plt\r\n",
        "\r\n",
        "# import janestreet"
      ],
      "execution_count": null,
      "outputs": []
    },
    {
      "cell_type": "code",
      "metadata": {
        "colab": {
          "base_uri": "https://localhost:8080/"
        },
        "id": "1dc5Dh-r72WR",
        "outputId": "56a575ed-69cd-46f5-a6b6-3c07eae1a07f"
      },
      "source": [
        "# Check GPU\r\n",
        "!nvidia-smi"
      ],
      "execution_count": null,
      "outputs": [
        {
          "output_type": "stream",
          "text": [
            "Wed Feb  3 19:11:31 2021       \n",
            "+-----------------------------------------------------------------------------+\n",
            "| NVIDIA-SMI 460.39       Driver Version: 418.67       CUDA Version: 10.1     |\n",
            "|-------------------------------+----------------------+----------------------+\n",
            "| GPU  Name        Persistence-M| Bus-Id        Disp.A | Volatile Uncorr. ECC |\n",
            "| Fan  Temp  Perf  Pwr:Usage/Cap|         Memory-Usage | GPU-Util  Compute M. |\n",
            "|                               |                      |               MIG M. |\n",
            "|===============================+======================+======================|\n",
            "|   0  Tesla T4            Off  | 00000000:00:04.0 Off |                    0 |\n",
            "| N/A   50C    P8    10W /  70W |      0MiB / 15079MiB |      0%      Default |\n",
            "|                               |                      |                 ERR! |\n",
            "+-------------------------------+----------------------+----------------------+\n",
            "                                                                               \n",
            "+-----------------------------------------------------------------------------+\n",
            "| Processes:                                                                  |\n",
            "|  GPU   GI   CI        PID   Type   Process name                  GPU Memory |\n",
            "|        ID   ID                                                   Usage      |\n",
            "|=============================================================================|\n",
            "|  No running processes found                                                 |\n",
            "+-----------------------------------------------------------------------------+\n"
          ],
          "name": "stdout"
        }
      ]
    },
    {
      "cell_type": "code",
      "metadata": {
        "id": "3WZmKtOD7iYU"
      },
      "source": [
        "# import pynvml\r\n",
        "\r\n",
        "# pynvml.nvmlInit()\r\n",
        "# handle = pynvml.nvmlDeviceGetHandleByIndex(0)\r\n",
        "# device_name = pynvml.nvmlDeviceGetName(handle)\r\n",
        "\r\n",
        "# if device_name != b'Tesla T4':\r\n",
        "#   raise Exception(\"\"\"\r\n",
        "#     Unfortunately this instance does not have a T4 GPU.\r\n",
        "    \r\n",
        "#     Please make sure you've configured Colab to request a GPU instance type.\r\n",
        "    \r\n",
        "#     Sometimes Colab allocates a Tesla K80 instead of a T4. Resetting the instance.\r\n",
        "\r\n",
        "#     If you get a K80 GPU, try Runtime -> Reset all runtimes...\r\n",
        "#   \"\"\")\r\n",
        "# else:\r\n",
        "#   print('Woo! You got the right kind of GPU!')"
      ],
      "execution_count": null,
      "outputs": []
    },
    {
      "cell_type": "code",
      "metadata": {
        "id": "q1EmITUV8NDd"
      },
      "source": [
        "# # Install RAPIDS\r\n",
        "# !git clone https://github.com/rapidsai/rapidsai-csp-utils.git\r\n",
        "# !bash rapidsai-csp-utils/colab/rapids-colab.sh\r\n",
        "\r\n",
        "# import sys, os\r\n",
        "\r\n",
        "# dist_package_index = sys.path.index('/usr/local/lib/python3.6/dist-packages')\r\n",
        "# sys.path = sys.path[:dist_package_index] + ['/usr/local/lib/python3.6/site-packages'] + sys.path[dist_package_index:]\r\n",
        "# sys.path\r\n",
        "# exec(open('rapidsai-csp-utils/colab/update_modules.py').read(), globals())\r\n"
      ],
      "execution_count": null,
      "outputs": []
    },
    {
      "cell_type": "code",
      "metadata": {
        "id": "BY8RhgaD8NKh"
      },
      "source": [
        "# import cudf"
      ],
      "execution_count": null,
      "outputs": []
    },
    {
      "cell_type": "code",
      "metadata": {
        "id": "J0DcAcHC8NNY"
      },
      "source": [
        "# %%time\r\n",
        "\r\n",
        "# train = cudf.read_csv('train.csv')"
      ],
      "execution_count": null,
      "outputs": []
    },
    {
      "cell_type": "code",
      "metadata": {
        "colab": {
          "base_uri": "https://localhost:8080/"
        },
        "id": "ylG-b7IvDpZH",
        "outputId": "56ce381a-d9bf-4b54-e6f7-347c9f5c362f"
      },
      "source": [
        "# def reduce_memory_usage(df):\r\n",
        "train = pd.read_csv('train.csv')\r\n",
        "train = reduce_memory_usage(train)"
      ],
      "execution_count": null,
      "outputs": [
        {
          "output_type": "stream",
          "text": [
            "Memory usage of dataframe is 2516.843978881836 MB\n",
            "Memory usage of dataframe after reduction 1247.0233011245728 MB\n",
            "Reduced by 50.45289610369131 % \n"
          ],
          "name": "stdout"
        }
      ]
    },
    {
      "cell_type": "code",
      "metadata": {
        "id": "f2030XRDEBGj"
      },
      "source": [
        "train.fillna(train.mean(),inplace=True)\r\n",
        "train = train.query('weight > 0').reset_index(drop = True)"
      ],
      "execution_count": null,
      "outputs": []
    },
    {
      "cell_type": "code",
      "metadata": {
        "id": "TNOd-IvAEn6q"
      },
      "source": [
        "train['action'] =  (  (train['resp_1'] > 0.00001 ) & (train['resp_2'] > 0.00001 ) & (train['resp_3'] > 0.00001 ) & (train['resp_4'] > 0.00001 ) &  (train['resp'] * train['weight'] > 0.001 )).astype('int')"
      ],
      "execution_count": null,
      "outputs": []
    },
    {
      "cell_type": "code",
      "metadata": {
        "id": "khYNMuYmFjbq"
      },
      "source": [
        "def lower_sample_data(df, percent=1):\r\n",
        "    data1 = df[df['action'] == 1]\r\n",
        "    data0 = df[df['action'] == 0]\r\n",
        "    index = np.random.randint(len(data0), size=percent * (len(df) - len(data0))) #randomly pick the sample with action=0\r\n",
        "    lower_data0 = data0.iloc[list(index)]\r\n",
        "    return(pd.concat([lower_data0, data1]))\r\n",
        "\r\n",
        "train = lower_sample_data(train)"
      ],
      "execution_count": null,
      "outputs": []
    },
    {
      "cell_type": "code",
      "metadata": {
        "colab": {
          "base_uri": "https://localhost:8080/",
          "height": 253
        },
        "id": "P3pvOCJRF8aZ",
        "outputId": "f837dabe-9c4e-42de-e779-81b92bd5107f"
      },
      "source": [
        "train.head()"
      ],
      "execution_count": null,
      "outputs": [
        {
          "output_type": "execute_result",
          "data": {
            "text/html": [
              "<div>\n",
              "<style scoped>\n",
              "    .dataframe tbody tr th:only-of-type {\n",
              "        vertical-align: middle;\n",
              "    }\n",
              "\n",
              "    .dataframe tbody tr th {\n",
              "        vertical-align: top;\n",
              "    }\n",
              "\n",
              "    .dataframe thead th {\n",
              "        text-align: right;\n",
              "    }\n",
              "</style>\n",
              "<table border=\"1\" class=\"dataframe\">\n",
              "  <thead>\n",
              "    <tr style=\"text-align: right;\">\n",
              "      <th></th>\n",
              "      <th>date</th>\n",
              "      <th>weight</th>\n",
              "      <th>resp_1</th>\n",
              "      <th>resp_2</th>\n",
              "      <th>resp_3</th>\n",
              "      <th>resp_4</th>\n",
              "      <th>resp</th>\n",
              "      <th>feature_0</th>\n",
              "      <th>feature_1</th>\n",
              "      <th>feature_2</th>\n",
              "      <th>feature_3</th>\n",
              "      <th>feature_4</th>\n",
              "      <th>feature_5</th>\n",
              "      <th>feature_6</th>\n",
              "      <th>feature_7</th>\n",
              "      <th>feature_8</th>\n",
              "      <th>feature_9</th>\n",
              "      <th>feature_10</th>\n",
              "      <th>feature_11</th>\n",
              "      <th>feature_12</th>\n",
              "      <th>feature_13</th>\n",
              "      <th>feature_14</th>\n",
              "      <th>feature_15</th>\n",
              "      <th>feature_16</th>\n",
              "      <th>feature_17</th>\n",
              "      <th>feature_18</th>\n",
              "      <th>feature_19</th>\n",
              "      <th>feature_20</th>\n",
              "      <th>feature_21</th>\n",
              "      <th>feature_22</th>\n",
              "      <th>feature_23</th>\n",
              "      <th>feature_24</th>\n",
              "      <th>feature_25</th>\n",
              "      <th>feature_26</th>\n",
              "      <th>feature_27</th>\n",
              "      <th>feature_28</th>\n",
              "      <th>feature_29</th>\n",
              "      <th>feature_30</th>\n",
              "      <th>feature_31</th>\n",
              "      <th>feature_32</th>\n",
              "      <th>...</th>\n",
              "      <th>feature_92</th>\n",
              "      <th>feature_93</th>\n",
              "      <th>feature_94</th>\n",
              "      <th>feature_95</th>\n",
              "      <th>feature_96</th>\n",
              "      <th>feature_97</th>\n",
              "      <th>feature_98</th>\n",
              "      <th>feature_99</th>\n",
              "      <th>feature_100</th>\n",
              "      <th>feature_101</th>\n",
              "      <th>feature_102</th>\n",
              "      <th>feature_103</th>\n",
              "      <th>feature_104</th>\n",
              "      <th>feature_105</th>\n",
              "      <th>feature_106</th>\n",
              "      <th>feature_107</th>\n",
              "      <th>feature_108</th>\n",
              "      <th>feature_109</th>\n",
              "      <th>feature_110</th>\n",
              "      <th>feature_111</th>\n",
              "      <th>feature_112</th>\n",
              "      <th>feature_113</th>\n",
              "      <th>feature_114</th>\n",
              "      <th>feature_115</th>\n",
              "      <th>feature_116</th>\n",
              "      <th>feature_117</th>\n",
              "      <th>feature_118</th>\n",
              "      <th>feature_119</th>\n",
              "      <th>feature_120</th>\n",
              "      <th>feature_121</th>\n",
              "      <th>feature_122</th>\n",
              "      <th>feature_123</th>\n",
              "      <th>feature_124</th>\n",
              "      <th>feature_125</th>\n",
              "      <th>feature_126</th>\n",
              "      <th>feature_127</th>\n",
              "      <th>feature_128</th>\n",
              "      <th>feature_129</th>\n",
              "      <th>ts_id</th>\n",
              "      <th>action</th>\n",
              "    </tr>\n",
              "  </thead>\n",
              "  <tbody>\n",
              "    <tr>\n",
              "      <th>865316</th>\n",
              "      <td>228</td>\n",
              "      <td>0.485024</td>\n",
              "      <td>0.006512</td>\n",
              "      <td>0.000428</td>\n",
              "      <td>-0.006964</td>\n",
              "      <td>-0.012145</td>\n",
              "      <td>-0.011132</td>\n",
              "      <td>-1</td>\n",
              "      <td>1.067063</td>\n",
              "      <td>1.758998</td>\n",
              "      <td>-0.946981</td>\n",
              "      <td>-1.056832</td>\n",
              "      <td>-1.151208</td>\n",
              "      <td>-1.385745</td>\n",
              "      <td>0.051773</td>\n",
              "      <td>0.026825</td>\n",
              "      <td>-0.278389</td>\n",
              "      <td>0.131507</td>\n",
              "      <td>-1.997445</td>\n",
              "      <td>-3.748260</td>\n",
              "      <td>-3.732770</td>\n",
              "      <td>-3.817390</td>\n",
              "      <td>-1.031656</td>\n",
              "      <td>-1.300626</td>\n",
              "      <td>0.121220</td>\n",
              "      <td>0.113582</td>\n",
              "      <td>-0.972639</td>\n",
              "      <td>-1.588603</td>\n",
              "      <td>-4.080263</td>\n",
              "      <td>-3.410172</td>\n",
              "      <td>-3.324315</td>\n",
              "      <td>-5.063827</td>\n",
              "      <td>-1.214634</td>\n",
              "      <td>-1.836943</td>\n",
              "      <td>0.135482</td>\n",
              "      <td>0.160878</td>\n",
              "      <td>0.908344</td>\n",
              "      <td>1.557845</td>\n",
              "      <td>0.372436</td>\n",
              "      <td>0.703770</td>\n",
              "      <td>...</td>\n",
              "      <td>-0.229309</td>\n",
              "      <td>-0.155368</td>\n",
              "      <td>-0.229395</td>\n",
              "      <td>-2.302408</td>\n",
              "      <td>0.402257</td>\n",
              "      <td>-1.338859</td>\n",
              "      <td>0.764688</td>\n",
              "      <td>0.856174</td>\n",
              "      <td>-1.194013</td>\n",
              "      <td>-1.198947</td>\n",
              "      <td>0.405025</td>\n",
              "      <td>-0.940190</td>\n",
              "      <td>0.109524</td>\n",
              "      <td>0.407665</td>\n",
              "      <td>-1.781693</td>\n",
              "      <td>-2.031842</td>\n",
              "      <td>0.399989</td>\n",
              "      <td>-0.902339</td>\n",
              "      <td>0.359242</td>\n",
              "      <td>0.483226</td>\n",
              "      <td>-1.289019</td>\n",
              "      <td>-1.840845</td>\n",
              "      <td>0.407116</td>\n",
              "      <td>-1.670158</td>\n",
              "      <td>-0.104203</td>\n",
              "      <td>0.149757</td>\n",
              "      <td>-2.056890</td>\n",
              "      <td>-1.555642</td>\n",
              "      <td>0.773427</td>\n",
              "      <td>2.109244</td>\n",
              "      <td>0.251341</td>\n",
              "      <td>0.383942</td>\n",
              "      <td>0.768659</td>\n",
              "      <td>2.323401</td>\n",
              "      <td>0.941635</td>\n",
              "      <td>1.463951</td>\n",
              "      <td>0.946444</td>\n",
              "      <td>1.395075</td>\n",
              "      <td>1078076</td>\n",
              "      <td>0</td>\n",
              "    </tr>\n",
              "    <tr>\n",
              "      <th>893211</th>\n",
              "      <td>235</td>\n",
              "      <td>2.176115</td>\n",
              "      <td>0.011735</td>\n",
              "      <td>0.009464</td>\n",
              "      <td>0.003452</td>\n",
              "      <td>-0.001319</td>\n",
              "      <td>0.003178</td>\n",
              "      <td>1</td>\n",
              "      <td>-0.114411</td>\n",
              "      <td>-0.717512</td>\n",
              "      <td>0.993715</td>\n",
              "      <td>0.656452</td>\n",
              "      <td>1.268570</td>\n",
              "      <td>0.929699</td>\n",
              "      <td>0.051773</td>\n",
              "      <td>0.026825</td>\n",
              "      <td>-0.099017</td>\n",
              "      <td>-0.502824</td>\n",
              "      <td>0.089116</td>\n",
              "      <td>0.049479</td>\n",
              "      <td>1.027177</td>\n",
              "      <td>0.426471</td>\n",
              "      <td>0.191417</td>\n",
              "      <td>-0.334537</td>\n",
              "      <td>0.121220</td>\n",
              "      <td>0.113582</td>\n",
              "      <td>1.340595</td>\n",
              "      <td>1.173040</td>\n",
              "      <td>0.186911</td>\n",
              "      <td>0.176981</td>\n",
              "      <td>1.995923</td>\n",
              "      <td>1.967844</td>\n",
              "      <td>1.761728</td>\n",
              "      <td>1.503628</td>\n",
              "      <td>0.135482</td>\n",
              "      <td>0.160878</td>\n",
              "      <td>-1.087858</td>\n",
              "      <td>-1.174936</td>\n",
              "      <td>0.220559</td>\n",
              "      <td>0.250122</td>\n",
              "      <td>...</td>\n",
              "      <td>0.404779</td>\n",
              "      <td>0.863946</td>\n",
              "      <td>-0.302553</td>\n",
              "      <td>-1.948853</td>\n",
              "      <td>0.402257</td>\n",
              "      <td>0.788332</td>\n",
              "      <td>0.406779</td>\n",
              "      <td>0.372027</td>\n",
              "      <td>0.425962</td>\n",
              "      <td>-1.695694</td>\n",
              "      <td>0.405025</td>\n",
              "      <td>1.999594</td>\n",
              "      <td>0.402193</td>\n",
              "      <td>1.764927</td>\n",
              "      <td>2.226700</td>\n",
              "      <td>-1.490595</td>\n",
              "      <td>0.399989</td>\n",
              "      <td>-0.623777</td>\n",
              "      <td>0.400732</td>\n",
              "      <td>0.002031</td>\n",
              "      <td>-0.699650</td>\n",
              "      <td>-2.677060</td>\n",
              "      <td>0.407116</td>\n",
              "      <td>1.130506</td>\n",
              "      <td>0.404427</td>\n",
              "      <td>1.860816</td>\n",
              "      <td>1.029689</td>\n",
              "      <td>-1.229184</td>\n",
              "      <td>0.335134</td>\n",
              "      <td>0.268782</td>\n",
              "      <td>-0.409049</td>\n",
              "      <td>0.356614</td>\n",
              "      <td>-0.345410</td>\n",
              "      <td>0.679605</td>\n",
              "      <td>-0.511296</td>\n",
              "      <td>0.452887</td>\n",
              "      <td>-0.373402</td>\n",
              "      <td>0.504219</td>\n",
              "      <td>1111263</td>\n",
              "      <td>0</td>\n",
              "    </tr>\n",
              "    <tr>\n",
              "      <th>1055679</th>\n",
              "      <td>278</td>\n",
              "      <td>0.181485</td>\n",
              "      <td>-0.002526</td>\n",
              "      <td>-0.000264</td>\n",
              "      <td>0.010809</td>\n",
              "      <td>0.025885</td>\n",
              "      <td>0.015172</td>\n",
              "      <td>1</td>\n",
              "      <td>-3.172026</td>\n",
              "      <td>-3.093182</td>\n",
              "      <td>0.405788</td>\n",
              "      <td>0.284262</td>\n",
              "      <td>-0.355784</td>\n",
              "      <td>-0.285833</td>\n",
              "      <td>0.051773</td>\n",
              "      <td>0.026825</td>\n",
              "      <td>-5.219111</td>\n",
              "      <td>-3.614536</td>\n",
              "      <td>3.137135</td>\n",
              "      <td>4.384707</td>\n",
              "      <td>5.083986</td>\n",
              "      <td>4.325328</td>\n",
              "      <td>-3.463443</td>\n",
              "      <td>-4.221748</td>\n",
              "      <td>0.121220</td>\n",
              "      <td>0.113582</td>\n",
              "      <td>0.426817</td>\n",
              "      <td>0.333303</td>\n",
              "      <td>5.340745</td>\n",
              "      <td>3.855617</td>\n",
              "      <td>5.346605</td>\n",
              "      <td>6.340704</td>\n",
              "      <td>0.448363</td>\n",
              "      <td>0.305265</td>\n",
              "      <td>0.135482</td>\n",
              "      <td>0.160878</td>\n",
              "      <td>-3.274225</td>\n",
              "      <td>-4.077749</td>\n",
              "      <td>-1.467694</td>\n",
              "      <td>-2.421895</td>\n",
              "      <td>...</td>\n",
              "      <td>-0.986136</td>\n",
              "      <td>-0.304707</td>\n",
              "      <td>0.012932</td>\n",
              "      <td>-3.696177</td>\n",
              "      <td>0.402257</td>\n",
              "      <td>1.175231</td>\n",
              "      <td>1.156861</td>\n",
              "      <td>1.844782</td>\n",
              "      <td>0.635880</td>\n",
              "      <td>-1.739762</td>\n",
              "      <td>0.405025</td>\n",
              "      <td>0.283076</td>\n",
              "      <td>0.207415</td>\n",
              "      <td>1.053692</td>\n",
              "      <td>-0.052598</td>\n",
              "      <td>-3.013555</td>\n",
              "      <td>0.399989</td>\n",
              "      <td>0.866758</td>\n",
              "      <td>0.351278</td>\n",
              "      <td>1.091217</td>\n",
              "      <td>0.489977</td>\n",
              "      <td>-2.867470</td>\n",
              "      <td>0.407116</td>\n",
              "      <td>-0.012478</td>\n",
              "      <td>-0.344630</td>\n",
              "      <td>0.713313</td>\n",
              "      <td>-0.435405</td>\n",
              "      <td>-2.362762</td>\n",
              "      <td>21.775967</td>\n",
              "      <td>25.966114</td>\n",
              "      <td>3.187879</td>\n",
              "      <td>2.451068</td>\n",
              "      <td>5.031921</td>\n",
              "      <td>6.229637</td>\n",
              "      <td>6.216775</td>\n",
              "      <td>4.706024</td>\n",
              "      <td>3.991561</td>\n",
              "      <td>2.738759</td>\n",
              "      <td>1303265</td>\n",
              "      <td>0</td>\n",
              "    </tr>\n",
              "    <tr>\n",
              "      <th>400986</th>\n",
              "      <td>85</td>\n",
              "      <td>1.805121</td>\n",
              "      <td>-0.012062</td>\n",
              "      <td>-0.022928</td>\n",
              "      <td>-0.056298</td>\n",
              "      <td>-0.111667</td>\n",
              "      <td>-0.085250</td>\n",
              "      <td>-1</td>\n",
              "      <td>-1.010386</td>\n",
              "      <td>-1.749416</td>\n",
              "      <td>-0.716776</td>\n",
              "      <td>-0.421528</td>\n",
              "      <td>-1.300052</td>\n",
              "      <td>-0.820254</td>\n",
              "      <td>0.051773</td>\n",
              "      <td>0.026825</td>\n",
              "      <td>0.840923</td>\n",
              "      <td>-0.144863</td>\n",
              "      <td>0.365274</td>\n",
              "      <td>-0.021438</td>\n",
              "      <td>1.317865</td>\n",
              "      <td>0.385957</td>\n",
              "      <td>1.137982</td>\n",
              "      <td>0.411316</td>\n",
              "      <td>0.121220</td>\n",
              "      <td>0.113582</td>\n",
              "      <td>-1.320409</td>\n",
              "      <td>-1.220728</td>\n",
              "      <td>-4.687186</td>\n",
              "      <td>-2.463820</td>\n",
              "      <td>-1.340741</td>\n",
              "      <td>-1.251441</td>\n",
              "      <td>-1.655838</td>\n",
              "      <td>-1.397531</td>\n",
              "      <td>0.135482</td>\n",
              "      <td>0.160878</td>\n",
              "      <td>2.008292</td>\n",
              "      <td>1.617754</td>\n",
              "      <td>1.587884</td>\n",
              "      <td>1.684338</td>\n",
              "      <td>...</td>\n",
              "      <td>-0.319131</td>\n",
              "      <td>-0.429792</td>\n",
              "      <td>0.305721</td>\n",
              "      <td>-2.446978</td>\n",
              "      <td>0.463773</td>\n",
              "      <td>-1.338859</td>\n",
              "      <td>0.345776</td>\n",
              "      <td>-1.257774</td>\n",
              "      <td>-1.194013</td>\n",
              "      <td>-1.380657</td>\n",
              "      <td>-0.448610</td>\n",
              "      <td>-0.940190</td>\n",
              "      <td>-0.301667</td>\n",
              "      <td>-1.510224</td>\n",
              "      <td>-1.781693</td>\n",
              "      <td>-2.482175</td>\n",
              "      <td>0.669280</td>\n",
              "      <td>0.353362</td>\n",
              "      <td>0.221968</td>\n",
              "      <td>-0.475836</td>\n",
              "      <td>-0.002227</td>\n",
              "      <td>-1.978619</td>\n",
              "      <td>-0.394305</td>\n",
              "      <td>-0.570486</td>\n",
              "      <td>-0.542444</td>\n",
              "      <td>-2.031889</td>\n",
              "      <td>-0.973060</td>\n",
              "      <td>-1.772838</td>\n",
              "      <td>2.656627</td>\n",
              "      <td>1.864221</td>\n",
              "      <td>2.852338</td>\n",
              "      <td>1.398268</td>\n",
              "      <td>2.378454</td>\n",
              "      <td>1.795895</td>\n",
              "      <td>3.597935</td>\n",
              "      <td>1.571765</td>\n",
              "      <td>3.414866</td>\n",
              "      <td>1.558767</td>\n",
              "      <td>515267</td>\n",
              "      <td>0</td>\n",
              "    </tr>\n",
              "    <tr>\n",
              "      <th>526749</th>\n",
              "      <td>124</td>\n",
              "      <td>4.917284</td>\n",
              "      <td>-0.000834</td>\n",
              "      <td>-0.000888</td>\n",
              "      <td>-0.001045</td>\n",
              "      <td>-0.000947</td>\n",
              "      <td>-0.000577</td>\n",
              "      <td>-1</td>\n",
              "      <td>1.993604</td>\n",
              "      <td>5.245586</td>\n",
              "      <td>-0.638016</td>\n",
              "      <td>-1.123263</td>\n",
              "      <td>0.075409</td>\n",
              "      <td>0.186832</td>\n",
              "      <td>0.124346</td>\n",
              "      <td>0.687342</td>\n",
              "      <td>0.951121</td>\n",
              "      <td>2.916475</td>\n",
              "      <td>0.213003</td>\n",
              "      <td>1.578597</td>\n",
              "      <td>0.563027</td>\n",
              "      <td>1.974775</td>\n",
              "      <td>0.632952</td>\n",
              "      <td>3.308710</td>\n",
              "      <td>-0.448722</td>\n",
              "      <td>-1.038378</td>\n",
              "      <td>-1.367525</td>\n",
              "      <td>-3.093187</td>\n",
              "      <td>-1.274009</td>\n",
              "      <td>-1.180594</td>\n",
              "      <td>-1.387460</td>\n",
              "      <td>-3.044199</td>\n",
              "      <td>-1.714363</td>\n",
              "      <td>-3.466603</td>\n",
              "      <td>0.334316</td>\n",
              "      <td>1.140776</td>\n",
              "      <td>1.589042</td>\n",
              "      <td>4.601795</td>\n",
              "      <td>0.634231</td>\n",
              "      <td>2.326715</td>\n",
              "      <td>...</td>\n",
              "      <td>-0.858642</td>\n",
              "      <td>-0.125666</td>\n",
              "      <td>0.685166</td>\n",
              "      <td>-1.262613</td>\n",
              "      <td>-2.161254</td>\n",
              "      <td>-1.338859</td>\n",
              "      <td>-1.551716</td>\n",
              "      <td>-1.257774</td>\n",
              "      <td>-1.194013</td>\n",
              "      <td>-0.071406</td>\n",
              "      <td>-4.169781</td>\n",
              "      <td>-0.940190</td>\n",
              "      <td>-1.417041</td>\n",
              "      <td>-1.510224</td>\n",
              "      <td>-1.781693</td>\n",
              "      <td>-1.914669</td>\n",
              "      <td>-1.959252</td>\n",
              "      <td>3.524964</td>\n",
              "      <td>0.051171</td>\n",
              "      <td>0.814131</td>\n",
              "      <td>2.879211</td>\n",
              "      <td>0.541099</td>\n",
              "      <td>-3.336379</td>\n",
              "      <td>0.017720</td>\n",
              "      <td>-2.177554</td>\n",
              "      <td>-1.474883</td>\n",
              "      <td>-0.406930</td>\n",
              "      <td>-1.130178</td>\n",
              "      <td>-0.250730</td>\n",
              "      <td>-1.395801</td>\n",
              "      <td>-0.030325</td>\n",
              "      <td>-0.590197</td>\n",
              "      <td>-0.161616</td>\n",
              "      <td>-1.318074</td>\n",
              "      <td>-0.177989</td>\n",
              "      <td>-0.882838</td>\n",
              "      <td>-0.088160</td>\n",
              "      <td>-0.683795</td>\n",
              "      <td>667836</td>\n",
              "      <td>0</td>\n",
              "    </tr>\n",
              "  </tbody>\n",
              "</table>\n",
              "<p>5 rows × 139 columns</p>\n",
              "</div>"
            ],
            "text/plain": [
              "         date    weight    resp_1  ...  feature_129    ts_id  action\n",
              "865316    228  0.485024  0.006512  ...     1.395075  1078076       0\n",
              "893211    235  2.176115  0.011735  ...     0.504219  1111263       0\n",
              "1055679   278  0.181485 -0.002526  ...     2.738759  1303265       0\n",
              "400986     85  1.805121 -0.012062  ...     1.558767   515267       0\n",
              "526749    124  4.917284 -0.000834  ...    -0.683795   667836       0\n",
              "\n",
              "[5 rows x 139 columns]"
            ]
          },
          "metadata": {
            "tags": []
          },
          "execution_count": 16
        }
      ]
    },
    {
      "cell_type": "code",
      "metadata": {
        "id": "oD4H6WPLF-1G"
      },
      "source": [
        "features = [c for c in train.columns if 'feature' in c]\r\n",
        "X = train[['date'] + features]\r\n",
        "y = train[['date', 'action']]"
      ],
      "execution_count": null,
      "outputs": []
    },
    {
      "cell_type": "code",
      "metadata": {
        "id": "urjnQNYiGewZ"
      },
      "source": [
        "X_train = X.loc[(X['date']>=0) & (X['date']<=462)][features].values\r\n",
        "X_validation = X.loc[X['date']>462][features].values\r\n",
        "\r\n",
        "y_train = y.loc[(y['date']>=0) & (y['date']<=462)]['action'].values\r\n",
        "y_validation = y[y['date']>462]['action'].values"
      ],
      "execution_count": null,
      "outputs": []
    },
    {
      "cell_type": "code",
      "metadata": {
        "colab": {
          "base_uri": "https://localhost:8080/"
        },
        "id": "wvH8rGVuYIe5",
        "outputId": "5b2a29c9-10af-4b6f-e42d-8af99359607d"
      },
      "source": [
        "X_train.shape"
      ],
      "execution_count": null,
      "outputs": [
        {
          "output_type": "execute_result",
          "data": {
            "text/plain": [
              "(889056, 130)"
            ]
          },
          "metadata": {
            "tags": []
          },
          "execution_count": 68
        }
      ]
    },
    {
      "cell_type": "code",
      "metadata": {
        "colab": {
          "base_uri": "https://localhost:8080/"
        },
        "id": "-044cBf1GrUJ",
        "outputId": "cf0df5bf-ec44-428d-bbf3-454b3d5e535f"
      },
      "source": [
        "model = Sequential()\r\n",
        "model.add(tf.keras.layers.BatchNormalization())\r\n",
        "model.add(Dense(320,input_shape = (X_train.shape[-1],),activation='relu',kernel_regularizer = 'l2'))\r\n",
        "model.add(layers.Dropout(rate=0.236))\r\n",
        "model.add(Dense(128,activation='relu'))\r\n",
        "model.add(layers.Dropout(rate=0.231))\r\n",
        "model.add(Dense(1312,activation='relu',kernel_regularizer=\"l2\"))\r\n",
        "model.add(layers.Dropout(rate=0.418))\r\n",
        "model.add(Dense(32,activation='relu'))\r\n",
        "model.add(Dense(1,activation='sigmoid'))\r\n",
        "\r\n",
        "opt = keras.optimizers.RMSprop(learning_rate=0.001)\r\n",
        "model.compile(optimizer=opt, loss='binary_crossentropy', metrics=['accuracy'])\r\n",
        "history = model.fit(X_train,y_train,\r\n",
        "                    validation_data=(X_validation,y_validation),\r\n",
        "                    batch_size=2048, epochs=350,\r\n",
        "                   callbacks=[EarlyStopping('val_loss',patience=10,restore_best_weights=True)])"
      ],
      "execution_count": null,
      "outputs": [
        {
          "output_type": "stream",
          "text": [
            "Epoch 1/350\n",
            "435/435 [==============================] - 4s 7ms/step - loss: 1.3335 - accuracy: 0.5346 - val_loss: 0.6929 - val_accuracy: 0.5398\n",
            "Epoch 2/350\n",
            "435/435 [==============================] - 3s 6ms/step - loss: 0.6900 - accuracy: 0.5452 - val_loss: 0.6949 - val_accuracy: 0.5270\n",
            "Epoch 3/350\n",
            "435/435 [==============================] - 2s 6ms/step - loss: 0.6888 - accuracy: 0.5475 - val_loss: 0.6888 - val_accuracy: 0.5453\n",
            "Epoch 4/350\n",
            "435/435 [==============================] - 2s 6ms/step - loss: 0.6878 - accuracy: 0.5500 - val_loss: 0.6898 - val_accuracy: 0.5455\n",
            "Epoch 5/350\n",
            "435/435 [==============================] - 2s 6ms/step - loss: 0.6874 - accuracy: 0.5507 - val_loss: 0.6902 - val_accuracy: 0.5312\n",
            "Epoch 6/350\n",
            "435/435 [==============================] - 2s 6ms/step - loss: 0.6871 - accuracy: 0.5487 - val_loss: 0.6868 - val_accuracy: 0.5509\n",
            "Epoch 7/350\n",
            "435/435 [==============================] - 2s 6ms/step - loss: 0.6868 - accuracy: 0.5496 - val_loss: 0.6865 - val_accuracy: 0.5506\n",
            "Epoch 8/350\n",
            "435/435 [==============================] - 2s 6ms/step - loss: 0.6865 - accuracy: 0.5504 - val_loss: 0.6879 - val_accuracy: 0.5454\n",
            "Epoch 9/350\n",
            "435/435 [==============================] - 2s 6ms/step - loss: 0.6863 - accuracy: 0.5514 - val_loss: 0.6872 - val_accuracy: 0.5475\n",
            "Epoch 10/350\n",
            "435/435 [==============================] - 2s 6ms/step - loss: 0.6858 - accuracy: 0.5511 - val_loss: 0.6862 - val_accuracy: 0.5526\n",
            "Epoch 11/350\n",
            "435/435 [==============================] - 2s 6ms/step - loss: 0.6860 - accuracy: 0.5498 - val_loss: 0.6857 - val_accuracy: 0.5513\n",
            "Epoch 12/350\n",
            "435/435 [==============================] - 2s 6ms/step - loss: 0.6857 - accuracy: 0.5514 - val_loss: 0.6856 - val_accuracy: 0.5484\n",
            "Epoch 13/350\n",
            "435/435 [==============================] - 2s 6ms/step - loss: 0.6855 - accuracy: 0.5521 - val_loss: 0.6854 - val_accuracy: 0.5508\n",
            "Epoch 14/350\n",
            "435/435 [==============================] - 2s 6ms/step - loss: 0.6856 - accuracy: 0.5510 - val_loss: 0.6861 - val_accuracy: 0.5546\n",
            "Epoch 15/350\n",
            "435/435 [==============================] - 2s 6ms/step - loss: 0.6853 - accuracy: 0.5522 - val_loss: 0.6848 - val_accuracy: 0.5536\n",
            "Epoch 16/350\n",
            "435/435 [==============================] - 2s 6ms/step - loss: 0.6852 - accuracy: 0.5522 - val_loss: 0.6869 - val_accuracy: 0.5495\n",
            "Epoch 17/350\n",
            "435/435 [==============================] - 2s 6ms/step - loss: 0.6854 - accuracy: 0.5520 - val_loss: 0.6846 - val_accuracy: 0.5510\n",
            "Epoch 18/350\n",
            "435/435 [==============================] - 2s 6ms/step - loss: 0.6852 - accuracy: 0.5508 - val_loss: 0.6847 - val_accuracy: 0.5526\n",
            "Epoch 19/350\n",
            "435/435 [==============================] - 2s 6ms/step - loss: 0.6853 - accuracy: 0.5514 - val_loss: 0.6851 - val_accuracy: 0.5525\n",
            "Epoch 20/350\n",
            "435/435 [==============================] - 2s 6ms/step - loss: 0.6854 - accuracy: 0.5518 - val_loss: 0.6860 - val_accuracy: 0.5463\n",
            "Epoch 21/350\n",
            "435/435 [==============================] - 2s 6ms/step - loss: 0.6851 - accuracy: 0.5515 - val_loss: 0.6834 - val_accuracy: 0.5521\n",
            "Epoch 22/350\n",
            "435/435 [==============================] - 2s 6ms/step - loss: 0.6847 - accuracy: 0.5517 - val_loss: 0.6863 - val_accuracy: 0.5533\n",
            "Epoch 23/350\n",
            "435/435 [==============================] - 2s 6ms/step - loss: 0.6854 - accuracy: 0.5509 - val_loss: 0.6853 - val_accuracy: 0.5556\n",
            "Epoch 24/350\n",
            "435/435 [==============================] - 2s 6ms/step - loss: 0.6850 - accuracy: 0.5517 - val_loss: 0.6843 - val_accuracy: 0.5533\n",
            "Epoch 25/350\n",
            "435/435 [==============================] - 2s 6ms/step - loss: 0.6848 - accuracy: 0.5524 - val_loss: 0.6845 - val_accuracy: 0.5509\n",
            "Epoch 26/350\n",
            "435/435 [==============================] - 2s 6ms/step - loss: 0.6851 - accuracy: 0.5506 - val_loss: 0.6849 - val_accuracy: 0.5488\n",
            "Epoch 27/350\n",
            "435/435 [==============================] - 2s 6ms/step - loss: 0.6848 - accuracy: 0.5521 - val_loss: 0.6855 - val_accuracy: 0.5512\n",
            "Epoch 28/350\n",
            "435/435 [==============================] - 2s 6ms/step - loss: 0.6850 - accuracy: 0.5521 - val_loss: 0.6951 - val_accuracy: 0.5207\n",
            "Epoch 29/350\n",
            "435/435 [==============================] - 2s 6ms/step - loss: 0.6850 - accuracy: 0.5531 - val_loss: 0.6863 - val_accuracy: 0.5509\n",
            "Epoch 30/350\n",
            "435/435 [==============================] - 2s 6ms/step - loss: 0.6849 - accuracy: 0.5515 - val_loss: 0.6854 - val_accuracy: 0.5552\n",
            "Epoch 31/350\n",
            "435/435 [==============================] - 2s 6ms/step - loss: 0.6851 - accuracy: 0.5519 - val_loss: 0.6840 - val_accuracy: 0.5525\n"
          ],
          "name": "stdout"
        }
      ]
    },
    {
      "cell_type": "code",
      "metadata": {
        "colab": {
          "base_uri": "https://localhost:8080/",
          "height": 281
        },
        "id": "8kszLBBgGyUB",
        "outputId": "86256e1a-408e-46a1-c3b0-569b0ba1b725"
      },
      "source": [
        "loss = history.history['loss']\r\n",
        "val_loss = history.history['val_loss']\r\n",
        "acc = history.history['accuracy']\r\n",
        "val_acc = history.history['val_accuracy']\r\n",
        "\r\n",
        "epochs = range(len(loss))\r\n",
        "\r\n",
        "plt.plot(epochs, acc, 'r', label='Training accuracy')\r\n",
        "plt.plot(epochs, val_acc, 'b', label='Validation accuracy')\r\n",
        "plt.axhline(y=0.5,ls=\":\",c=\"gray\")\r\n",
        "plt.title('Training and validation accuracy')\r\n",
        "plt.legend()\r\n",
        "plt.ylim(ymax=0.6,ymin=0.4)\r\n",
        "\r\n",
        "plt.show()"
      ],
      "execution_count": null,
      "outputs": [
        {
          "output_type": "display_data",
          "data": {
            "image/png": "[encoded data removed]",
            "text/plain": [
              "<Figure size 432x288 with 1 Axes>"
            ]
          },
          "metadata": {
            "tags": [],
            "needs_background": "light"
          }
        }
      ]
    },
    {
      "cell_type": "code",
      "metadata": {
        "colab": {
          "base_uri": "https://localhost:8080/"
        },
        "id": "E8ExC1OdIX-i",
        "outputId": "fb4c85fa-b416-4afa-c5c4-a6200daa7300"
      },
      "source": [
        "from sklearn.metrics import accuracy_score, classification_report\r\n",
        "pred = model.predict(X_validation)\r\n",
        "print(classification_report(y_validation, pred.round(), labels=[True,False]))\r\n"
      ],
      "execution_count": null,
      "outputs": [
        {
          "output_type": "stream",
          "text": [
            "              precision    recall  f1-score   support\n",
            "\n",
            "        True       0.55      0.58      0.57     40454\n",
            "       False       0.56      0.53      0.54     40722\n",
            "\n",
            "    accuracy                           0.55     81176\n",
            "   macro avg       0.55      0.55      0.55     81176\n",
            "weighted avg       0.55      0.55      0.55     81176\n",
            "\n"
          ],
          "name": "stdout"
        }
      ]
    },
    {
      "cell_type": "code",
      "metadata": {
        "colab": {
          "base_uri": "https://localhost:8080/"
        },
        "id": "wTtjyPDmjXHn",
        "outputId": "a1b2178a-a603-488d-fcad-0734923c7d7a"
      },
      "source": [
        ""
      ],
      "execution_count": null,
      "outputs": [
        {
          "output_type": "execute_result",
          "data": {
            "text/plain": [
              "1"
            ]
          },
          "metadata": {
            "tags": []
          },
          "execution_count": 74
        }
      ]
    },
    {
      "cell_type": "code",
      "metadata": {
        "colab": {
          "base_uri": "https://localhost:8080/"
        },
        "id": "03OKzQDpIdrj",
        "outputId": "fb0c9d7d-f53d-438e-a64b-78a62695bb7e"
      },
      "source": [
        "model = Sequential()\r\n",
        "model.add(tf.keras.layers.BatchNormalization())\r\n",
        "model.add(Dense(512,input_shape = (X_train.shape[-1],),activation='relu',kernel_regularizer = 'l2'))\r\n",
        "model.add(layers.Dropout(rate=0.2))\r\n",
        "model.add(Dense(256,activation='relu'))\r\n",
        "model.add(layers.Dropout(rate=0.231))\r\n",
        "model.add(Dense(1024,activation='relu',kernel_regularizer=\"l2\"))\r\n",
        "model.add(layers.Dropout(rate=0.5))\r\n",
        "# model.add(Dense(2000,activation='relu',kernel_regularizer=\"l2\"))\r\n",
        "# model.add(layers.Dropout(rate=0.564))\r\n",
        "model.add(Dense(32,activation='relu'))\r\n",
        "model.add(Dense(1,activation='sigmoid'))\r\n",
        "\r\n",
        "opt = keras.optimizers.Adam(learning_rate=0.001)\r\n",
        "model.compile(optimizer=opt, loss='binary_crossentropy', metrics=['accuracy'])\r\n",
        "history = model.fit(X_train,y_train,\r\n",
        "                    validation_data=(X_validation,y_validation),\r\n",
        "                    batch_size=2048, epochs=350,\r\n",
        "                   callbacks=[EarlyStopping('val_loss',patience=10,restore_best_weights=True)])"
      ],
      "execution_count": null,
      "outputs": [
        {
          "output_type": "stream",
          "text": [
            "Epoch 1/350\n",
            "435/435 [==============================] - 4s 7ms/step - loss: 1.8416 - accuracy: 0.5379 - val_loss: 0.6883 - val_accuracy: 0.5492\n",
            "Epoch 2/350\n",
            "435/435 [==============================] - 3s 6ms/step - loss: 0.6897 - accuracy: 0.5457 - val_loss: 0.6866 - val_accuracy: 0.5540\n",
            "Epoch 3/350\n",
            "435/435 [==============================] - 3s 6ms/step - loss: 0.6886 - accuracy: 0.5483 - val_loss: 0.6868 - val_accuracy: 0.5506\n",
            "Epoch 4/350\n",
            "435/435 [==============================] - 3s 6ms/step - loss: 0.6879 - accuracy: 0.5484 - val_loss: 0.6868 - val_accuracy: 0.5518\n",
            "Epoch 5/350\n",
            "435/435 [==============================] - 3s 6ms/step - loss: 0.6868 - accuracy: 0.5501 - val_loss: 0.6858 - val_accuracy: 0.5515\n",
            "Epoch 6/350\n",
            "435/435 [==============================] - 3s 6ms/step - loss: 0.6867 - accuracy: 0.5492 - val_loss: 0.6863 - val_accuracy: 0.5515\n",
            "Epoch 7/350\n",
            "435/435 [==============================] - 3s 6ms/step - loss: 0.6862 - accuracy: 0.5508 - val_loss: 0.6845 - val_accuracy: 0.5518\n",
            "Epoch 8/350\n",
            "435/435 [==============================] - 3s 6ms/step - loss: 0.6860 - accuracy: 0.5517 - val_loss: 0.6859 - val_accuracy: 0.5533\n",
            "Epoch 9/350\n",
            "435/435 [==============================] - 3s 6ms/step - loss: 0.6859 - accuracy: 0.5509 - val_loss: 0.6853 - val_accuracy: 0.5513\n",
            "Epoch 10/350\n",
            "435/435 [==============================] - 3s 6ms/step - loss: 0.6858 - accuracy: 0.5497 - val_loss: 0.6846 - val_accuracy: 0.5509\n",
            "Epoch 11/350\n",
            "435/435 [==============================] - 3s 6ms/step - loss: 0.6858 - accuracy: 0.5506 - val_loss: 0.6836 - val_accuracy: 0.5550\n",
            "Epoch 12/350\n",
            "435/435 [==============================] - 3s 6ms/step - loss: 0.6856 - accuracy: 0.5508 - val_loss: 0.6835 - val_accuracy: 0.5572\n",
            "Epoch 13/350\n",
            "435/435 [==============================] - 3s 6ms/step - loss: 0.6852 - accuracy: 0.5514 - val_loss: 0.6840 - val_accuracy: 0.5537\n",
            "Epoch 14/350\n",
            "435/435 [==============================] - 3s 6ms/step - loss: 0.6851 - accuracy: 0.5509 - val_loss: 0.6834 - val_accuracy: 0.5536\n",
            "Epoch 15/350\n",
            "435/435 [==============================] - 3s 6ms/step - loss: 0.6851 - accuracy: 0.5520 - val_loss: 0.6839 - val_accuracy: 0.5556\n",
            "Epoch 16/350\n",
            "435/435 [==============================] - 3s 6ms/step - loss: 0.6851 - accuracy: 0.5517 - val_loss: 0.6835 - val_accuracy: 0.5550\n",
            "Epoch 17/350\n",
            "435/435 [==============================] - 3s 6ms/step - loss: 0.6853 - accuracy: 0.5506 - val_loss: 0.6838 - val_accuracy: 0.5568\n",
            "Epoch 18/350\n",
            "435/435 [==============================] - 3s 6ms/step - loss: 0.6849 - accuracy: 0.5519 - val_loss: 0.6836 - val_accuracy: 0.5535\n",
            "Epoch 19/350\n",
            "435/435 [==============================] - 3s 6ms/step - loss: 0.6848 - accuracy: 0.5517 - val_loss: 0.6833 - val_accuracy: 0.5564\n",
            "Epoch 20/350\n",
            "435/435 [==============================] - 3s 6ms/step - loss: 0.6849 - accuracy: 0.5523 - val_loss: 0.6833 - val_accuracy: 0.5565\n",
            "Epoch 21/350\n",
            "435/435 [==============================] - 3s 6ms/step - loss: 0.6846 - accuracy: 0.5522 - val_loss: 0.6840 - val_accuracy: 0.5548\n",
            "Epoch 22/350\n",
            "435/435 [==============================] - 3s 6ms/step - loss: 0.6848 - accuracy: 0.5512 - val_loss: 0.6834 - val_accuracy: 0.5587\n",
            "Epoch 23/350\n",
            "435/435 [==============================] - 3s 6ms/step - loss: 0.6848 - accuracy: 0.5517 - val_loss: 0.6830 - val_accuracy: 0.5585\n",
            "Epoch 24/350\n",
            "435/435 [==============================] - 3s 6ms/step - loss: 0.6849 - accuracy: 0.5514 - val_loss: 0.6836 - val_accuracy: 0.5588\n",
            "Epoch 25/350\n",
            "435/435 [==============================] - 3s 6ms/step - loss: 0.6845 - accuracy: 0.5531 - val_loss: 0.6832 - val_accuracy: 0.5582\n",
            "Epoch 26/350\n",
            "435/435 [==============================] - 3s 6ms/step - loss: 0.6846 - accuracy: 0.5515 - val_loss: 0.6836 - val_accuracy: 0.5579\n",
            "Epoch 27/350\n",
            "435/435 [==============================] - 3s 6ms/step - loss: 0.6843 - accuracy: 0.5517 - val_loss: 0.6839 - val_accuracy: 0.5568\n",
            "Epoch 28/350\n",
            "435/435 [==============================] - 3s 6ms/step - loss: 0.6843 - accuracy: 0.5517 - val_loss: 0.6833 - val_accuracy: 0.5563\n",
            "Epoch 29/350\n",
            "435/435 [==============================] - 3s 6ms/step - loss: 0.6845 - accuracy: 0.5524 - val_loss: 0.6836 - val_accuracy: 0.5592\n",
            "Epoch 30/350\n",
            "435/435 [==============================] - 3s 6ms/step - loss: 0.6844 - accuracy: 0.5527 - val_loss: 0.6853 - val_accuracy: 0.5540\n",
            "Epoch 31/350\n",
            "435/435 [==============================] - 3s 6ms/step - loss: 0.6843 - accuracy: 0.5533 - val_loss: 0.6840 - val_accuracy: 0.5551\n",
            "Epoch 32/350\n",
            "435/435 [==============================] - 3s 6ms/step - loss: 0.6845 - accuracy: 0.5526 - val_loss: 0.6835 - val_accuracy: 0.5564\n",
            "Epoch 33/350\n",
            "435/435 [==============================] - 3s 6ms/step - loss: 0.6844 - accuracy: 0.5522 - val_loss: 0.6841 - val_accuracy: 0.5570\n"
          ],
          "name": "stdout"
        }
      ]
    },
    {
      "cell_type": "code",
      "metadata": {
        "colab": {
          "base_uri": "https://localhost:8080/",
          "height": 281
        },
        "id": "MXafkrHmIptJ",
        "outputId": "9ab0ff86-29eb-43d7-e56e-7c5f55b2de51"
      },
      "source": [
        "loss = history.history['loss']\r\n",
        "val_loss = history.history['val_loss']\r\n",
        "acc = history.history['accuracy']\r\n",
        "val_acc = history.history['val_accuracy']\r\n",
        "\r\n",
        "epochs = range(len(loss))\r\n",
        "\r\n",
        "plt.plot(epochs, acc, 'r', label='Training accuracy')\r\n",
        "plt.plot(epochs, val_acc, 'b', label='Validation accuracy')\r\n",
        "plt.axhline(y=0.5,ls=\":\",c=\"gray\")\r\n",
        "plt.title('Training and validation accuracy')\r\n",
        "plt.legend()\r\n",
        "plt.ylim(ymax=0.6,ymin=0.4)\r\n",
        "\r\n",
        "plt.show()"
      ],
      "execution_count": null,
      "outputs": [
        {
          "output_type": "display_data",
          "data": {
            "image/png": "[encoded data removed]",
            "text/plain": [
              "<Figure size 432x288 with 1 Axes>"
            ]
          },
          "metadata": {
            "tags": [],
            "needs_background": "light"
          }
        }
      ]
    },
    {
      "cell_type": "code",
      "metadata": {
        "colab": {
          "base_uri": "https://localhost:8080/"
        },
        "id": "z2ENJWNBIvqK",
        "outputId": "afdcd3cb-9ba8-4e67-8aa4-1d8a2bfdaaf8"
      },
      "source": [
        "pred = model.predict(X_validation)\r\n",
        "print(classification_report(y_validation, pred.round(), labels=[True,False]))"
      ],
      "execution_count": null,
      "outputs": [
        {
          "output_type": "stream",
          "text": [
            "              precision    recall  f1-score   support\n",
            "\n",
            "        True       0.55      0.60      0.57     40454\n",
            "       False       0.56      0.51      0.54     40722\n",
            "\n",
            "    accuracy                           0.56     81176\n",
            "   macro avg       0.56      0.56      0.56     81176\n",
            "weighted avg       0.56      0.56      0.56     81176\n",
            "\n"
          ],
          "name": "stdout"
        }
      ]
    },
    {
      "cell_type": "code",
      "metadata": {
        "id": "-u-sHB2VlSU7",
        "colab": {
          "base_uri": "https://localhost:8080/",
          "height": 953
        },
        "outputId": "c7423c2e-74c8-427d-cfcb-1878beea626b"
      },
      "source": [
        "tf.keras.utils.plot_model(model)"
      ],
      "execution_count": null,
      "outputs": [
        {
          "output_type": "execute_result",
          "data": {
            "image/png": "[encoded data removed]",
            "text/plain": [
              "<IPython.core.display.Image object>"
            ]
          },
          "metadata": {
            "tags": []
          },
          "execution_count": 34
        }
      ]
    },
    {
      "cell_type": "code",
      "metadata": {
        "colab": {
          "base_uri": "https://localhost:8080/"
        },
        "id": "KuJhU74Nmb0F",
        "outputId": "ceec5211-ee8d-4aa7-a777-896798ab5a82"
      },
      "source": [
        "model = Sequential()\r\n",
        "model.add(tf.keras.layers.BatchNormalization())\r\n",
        "model.add(Dense(512,input_shape = (X_train.shape[-1],),activation='relu',kernel_regularizer = 'l2'))\r\n",
        "model.add(layers.Dropout(rate=0.2))\r\n",
        "model.add(Dense(256,activation='swish'))\r\n",
        "model.add(layers.Dropout(rate=0.231))\r\n",
        "model.add(Dense(1024,activation='swish',kernel_regularizer=\"l2\"))\r\n",
        "model.add(layers.Dropout(rate=0.5))\r\n",
        "# model.add(Dense(2000,activation='relu',kernel_regularizer=\"l2\"))\r\n",
        "# model.add(layers.Dropout(rate=0.564))\r\n",
        "model.add(Dense(2))\r\n",
        "model.add(Dense(1,activation='sigmoid'))\r\n",
        "\r\n",
        "opt = tfa.optimizers.RectifiedAdam(learning_rate=0.001)\r\n",
        "model.compile(optimizer=opt, loss='binary_crossentropy', metrics=['AUC'])\r\n",
        "history = model.fit(X_train,y_train,\r\n",
        "                    validation_data=(X_validation,y_validation),\r\n",
        "                    batch_size=2048, epochs=350,\r\n",
        "                   callbacks=[EarlyStopping('val_loss',patience=10,restore_best_weights=True)])"
      ],
      "execution_count": null,
      "outputs": [
        {
          "output_type": "stream",
          "text": [
            "Epoch 1/350\n",
            "435/435 [==============================] - 8s 12ms/step - loss: 4.4379 - auc: 0.5418 - val_loss: 0.7114 - val_auc: 0.5706\n",
            "Epoch 2/350\n",
            "435/435 [==============================] - 5s 12ms/step - loss: 0.6958 - auc: 0.5662 - val_loss: 0.6884 - val_auc: 0.5688\n",
            "Epoch 3/350\n",
            "435/435 [==============================] - 5s 11ms/step - loss: 0.6883 - auc: 0.5686 - val_loss: 0.6871 - val_auc: 0.5737\n",
            "Epoch 4/350\n",
            "435/435 [==============================] - 5s 11ms/step - loss: 0.6877 - auc: 0.5720 - val_loss: 0.6880 - val_auc: 0.5685\n",
            "Epoch 5/350\n",
            "435/435 [==============================] - 5s 11ms/step - loss: 0.6881 - auc: 0.5690 - val_loss: 0.6868 - val_auc: 0.5754\n",
            "Epoch 6/350\n",
            "435/435 [==============================] - 5s 12ms/step - loss: 0.6872 - auc: 0.5724 - val_loss: 0.6872 - val_auc: 0.5755\n",
            "Epoch 7/350\n",
            "435/435 [==============================] - 5s 12ms/step - loss: 0.6869 - auc: 0.5724 - val_loss: 0.6864 - val_auc: 0.5785\n",
            "Epoch 8/350\n",
            "435/435 [==============================] - 5s 11ms/step - loss: 0.6868 - auc: 0.5722 - val_loss: 0.6865 - val_auc: 0.5781\n",
            "Epoch 9/350\n",
            "435/435 [==============================] - 5s 11ms/step - loss: 0.6861 - auc: 0.5743 - val_loss: 0.6847 - val_auc: 0.5775\n",
            "Epoch 10/350\n",
            "435/435 [==============================] - 5s 11ms/step - loss: 0.6859 - auc: 0.5746 - val_loss: 0.6846 - val_auc: 0.5793\n",
            "Epoch 11/350\n",
            "435/435 [==============================] - 5s 11ms/step - loss: 0.6858 - auc: 0.5749 - val_loss: 0.6847 - val_auc: 0.5813\n",
            "Epoch 12/350\n",
            "435/435 [==============================] - 5s 11ms/step - loss: 0.6858 - auc: 0.5738 - val_loss: 0.6840 - val_auc: 0.5794\n",
            "Epoch 13/350\n",
            "435/435 [==============================] - 5s 11ms/step - loss: 0.6857 - auc: 0.5738 - val_loss: 0.6836 - val_auc: 0.5807\n",
            "Epoch 14/350\n",
            "435/435 [==============================] - 5s 11ms/step - loss: 0.6852 - auc: 0.5748 - val_loss: 0.6839 - val_auc: 0.5787\n",
            "Epoch 15/350\n",
            "435/435 [==============================] - 5s 12ms/step - loss: 0.6853 - auc: 0.5743 - val_loss: 0.6849 - val_auc: 0.5826\n",
            "Epoch 16/350\n",
            "435/435 [==============================] - 5s 11ms/step - loss: 0.6853 - auc: 0.5744 - val_loss: 0.6851 - val_auc: 0.5809\n",
            "Epoch 17/350\n",
            "435/435 [==============================] - 5s 11ms/step - loss: 0.6852 - auc: 0.5748 - val_loss: 0.6842 - val_auc: 0.5802\n",
            "Epoch 18/350\n",
            "435/435 [==============================] - 5s 12ms/step - loss: 0.6849 - auc: 0.5753 - val_loss: 0.6852 - val_auc: 0.5769\n",
            "Epoch 19/350\n",
            "435/435 [==============================] - 5s 11ms/step - loss: 0.6850 - auc: 0.5754 - val_loss: 0.6834 - val_auc: 0.5816\n",
            "Epoch 20/350\n",
            "435/435 [==============================] - 5s 11ms/step - loss: 0.6846 - auc: 0.5766 - val_loss: 0.6832 - val_auc: 0.5804\n",
            "Epoch 21/350\n",
            "435/435 [==============================] - 5s 11ms/step - loss: 0.6847 - auc: 0.5758 - val_loss: 0.6856 - val_auc: 0.5795\n",
            "Epoch 22/350\n",
            "435/435 [==============================] - 5s 12ms/step - loss: 0.6848 - auc: 0.5753 - val_loss: 0.6840 - val_auc: 0.5773\n",
            "Epoch 23/350\n",
            "435/435 [==============================] - 5s 11ms/step - loss: 0.6849 - auc: 0.5745 - val_loss: 0.6857 - val_auc: 0.5812\n",
            "Epoch 24/350\n",
            "435/435 [==============================] - 5s 11ms/step - loss: 0.6846 - auc: 0.5760 - val_loss: 0.6837 - val_auc: 0.5832\n",
            "Epoch 25/350\n",
            "435/435 [==============================] - 5s 11ms/step - loss: 0.6845 - auc: 0.5760 - val_loss: 0.6838 - val_auc: 0.5808\n",
            "Epoch 26/350\n",
            "435/435 [==============================] - 5s 11ms/step - loss: 0.6847 - auc: 0.5754 - val_loss: 0.6828 - val_auc: 0.5819\n",
            "Epoch 27/350\n",
            "435/435 [==============================] - 5s 11ms/step - loss: 0.6843 - auc: 0.5763 - val_loss: 0.6840 - val_auc: 0.5829\n",
            "Epoch 28/350\n",
            "435/435 [==============================] - 5s 12ms/step - loss: 0.6843 - auc: 0.5768 - val_loss: 0.6826 - val_auc: 0.5820\n",
            "Epoch 29/350\n",
            "435/435 [==============================] - 5s 11ms/step - loss: 0.6844 - auc: 0.5764 - val_loss: 0.6830 - val_auc: 0.5805\n",
            "Epoch 30/350\n",
            "435/435 [==============================] - 5s 12ms/step - loss: 0.6847 - auc: 0.5745 - val_loss: 0.6844 - val_auc: 0.5829\n",
            "Epoch 31/350\n",
            "435/435 [==============================] - 5s 11ms/step - loss: 0.6840 - auc: 0.5780 - val_loss: 0.6839 - val_auc: 0.5791\n",
            "Epoch 32/350\n",
            "435/435 [==============================] - 5s 11ms/step - loss: 0.6845 - auc: 0.5756 - val_loss: 0.6833 - val_auc: 0.5833\n",
            "Epoch 33/350\n",
            "435/435 [==============================] - 5s 11ms/step - loss: 0.6845 - auc: 0.5755 - val_loss: 0.6839 - val_auc: 0.5799\n",
            "Epoch 34/350\n",
            "435/435 [==============================] - 5s 11ms/step - loss: 0.6844 - auc: 0.5758 - val_loss: 0.6831 - val_auc: 0.5822\n",
            "Epoch 35/350\n",
            "435/435 [==============================] - 5s 11ms/step - loss: 0.6841 - auc: 0.5771 - val_loss: 0.6823 - val_auc: 0.5820\n",
            "Epoch 36/350\n",
            "435/435 [==============================] - 5s 12ms/step - loss: 0.6841 - auc: 0.5768 - val_loss: 0.6823 - val_auc: 0.5818\n",
            "Epoch 37/350\n",
            "435/435 [==============================] - 5s 11ms/step - loss: 0.6840 - auc: 0.5774 - val_loss: 0.6841 - val_auc: 0.5792\n",
            "Epoch 38/350\n",
            "435/435 [==============================] - 5s 11ms/step - loss: 0.6842 - auc: 0.5761 - val_loss: 0.6824 - val_auc: 0.5831\n",
            "Epoch 39/350\n",
            "435/435 [==============================] - 5s 11ms/step - loss: 0.6842 - auc: 0.5772 - val_loss: 0.6820 - val_auc: 0.5836\n",
            "Epoch 40/350\n",
            "435/435 [==============================] - 5s 11ms/step - loss: 0.6842 - auc: 0.5761 - val_loss: 0.6834 - val_auc: 0.5789\n",
            "Epoch 41/350\n",
            "435/435 [==============================] - 5s 11ms/step - loss: 0.6841 - auc: 0.5770 - val_loss: 0.6825 - val_auc: 0.5822\n",
            "Epoch 42/350\n",
            "435/435 [==============================] - 5s 11ms/step - loss: 0.6844 - auc: 0.5757 - val_loss: 0.6837 - val_auc: 0.5817\n",
            "Epoch 43/350\n",
            "435/435 [==============================] - 5s 12ms/step - loss: 0.6840 - auc: 0.5773 - val_loss: 0.6834 - val_auc: 0.5828\n",
            "Epoch 44/350\n",
            "435/435 [==============================] - 5s 11ms/step - loss: 0.6838 - auc: 0.5779 - val_loss: 0.6826 - val_auc: 0.5817\n",
            "Epoch 45/350\n",
            "435/435 [==============================] - 5s 11ms/step - loss: 0.6844 - auc: 0.5759 - val_loss: 0.6824 - val_auc: 0.5813\n",
            "Epoch 46/350\n",
            "435/435 [==============================] - 5s 11ms/step - loss: 0.6836 - auc: 0.5787 - val_loss: 0.6826 - val_auc: 0.5807\n",
            "Epoch 47/350\n",
            "435/435 [==============================] - 5s 11ms/step - loss: 0.6839 - auc: 0.5775 - val_loss: 0.6826 - val_auc: 0.5803\n",
            "Epoch 48/350\n",
            "435/435 [==============================] - 5s 11ms/step - loss: 0.6839 - auc: 0.5775 - val_loss: 0.6831 - val_auc: 0.5782\n",
            "Epoch 49/350\n",
            "435/435 [==============================] - 5s 11ms/step - loss: 0.6841 - auc: 0.5768 - val_loss: 0.6829 - val_auc: 0.5815\n"
          ],
          "name": "stdout"
        }
      ]
    },
    {
      "cell_type": "code",
      "metadata": {
        "colab": {
          "base_uri": "https://localhost:8080/"
        },
        "id": "DNLlHNMYnkv2",
        "outputId": "87770d43-0014-4238-e9f8-68906cf32115"
      },
      "source": [
        "pred = model.predict(X_validation)\r\n",
        "print(classification_report(y_validation, pred.round(), labels=[True,False]))"
      ],
      "execution_count": null,
      "outputs": [
        {
          "output_type": "stream",
          "text": [
            "              precision    recall  f1-score   support\n",
            "\n",
            "        True       0.56      0.53      0.54     40454\n",
            "       False       0.56      0.59      0.57     40722\n",
            "\n",
            "    accuracy                           0.56     81176\n",
            "   macro avg       0.56      0.56      0.56     81176\n",
            "weighted avg       0.56      0.56      0.56     81176\n",
            "\n"
          ],
          "name": "stdout"
        }
      ]
    },
    {
      "cell_type": "code",
      "metadata": {
        "colab": {
          "base_uri": "https://localhost:8080/"
        },
        "id": "shMMNSvWph-R",
        "outputId": "b6c89bd4-e278-4d5a-d73a-62cc89cb36ab"
      },
      "source": [
        "model = Sequential()\r\n",
        "model.add(tf.keras.layers.BatchNormalization())\r\n",
        "model.add(Dense(512,input_shape = (X_train.shape[-1],),activation='relu',kernel_regularizer = 'l2'))\r\n",
        "model.add(layers.Dropout(rate=0.2))\r\n",
        "model.add(Dense(256,activation='swish'))\r\n",
        "model.add(layers.Dropout(rate=0.231))\r\n",
        "model.add(Dense(1024,activation='swish',kernel_regularizer=\"l2\"))\r\n",
        "model.add(layers.Dropout(rate=0.5))\r\n",
        "# model.add(Dense(2000,activation='relu',kernel_regularizer=\"l2\"))\r\n",
        "# model.add(layers.Dropout(rate=0.564))\r\n",
        "model.add(Dense(32, activation=\"relu\"))\r\n",
        "model.add(layers.BatchNormalization())\r\n",
        "\r\n",
        "model.add(layers.Dense(1))\r\n",
        "model.add(layers.BatchNormalization())\r\n",
        "model.add(layers.Activation(\"sigmoid\"))\r\n",
        "\r\n",
        "opt = tfa.optimizers.RectifiedAdam(learning_rate=0.001)\r\n",
        "model.compile(optimizer=opt, loss='binary_crossentropy', metrics=['AUC'])\r\n",
        "history = model.fit(X_train,y_train,\r\n",
        "                    validation_data=(X_validation,y_validation),\r\n",
        "                    batch_size=2048, epochs=350,\r\n",
        "                   callbacks=[EarlyStopping('val_loss',patience=10,restore_best_weights=True)])"
      ],
      "execution_count": null,
      "outputs": [
        {
          "output_type": "stream",
          "text": [
            "Epoch 1/350\n",
            "435/435 [==============================] - 9s 15ms/step - loss: 4.7138 - auc: 0.5380 - val_loss: 0.7723 - val_auc: 0.5510\n",
            "Epoch 2/350\n",
            "435/435 [==============================] - 6s 14ms/step - loss: 0.7391 - auc: 0.5636 - val_loss: 0.7244 - val_auc: 0.5679\n",
            "Epoch 3/350\n",
            "435/435 [==============================] - 6s 14ms/step - loss: 0.7091 - auc: 0.5644 - val_loss: 0.7014 - val_auc: 0.5657\n",
            "Epoch 4/350\n",
            "435/435 [==============================] - 6s 14ms/step - loss: 0.7030 - auc: 0.5638 - val_loss: 0.6911 - val_auc: 0.5766\n",
            "Epoch 5/350\n",
            "435/435 [==============================] - 6s 14ms/step - loss: 0.6925 - auc: 0.5681 - val_loss: 0.6892 - val_auc: 0.5727\n",
            "Epoch 6/350\n",
            "435/435 [==============================] - 6s 14ms/step - loss: 0.6887 - auc: 0.5717 - val_loss: 0.6858 - val_auc: 0.5767\n",
            "Epoch 7/350\n",
            "435/435 [==============================] - 7s 15ms/step - loss: 0.6867 - auc: 0.5730 - val_loss: 0.6851 - val_auc: 0.5771\n",
            "Epoch 8/350\n",
            "435/435 [==============================] - 6s 14ms/step - loss: 0.6865 - auc: 0.5736 - val_loss: 0.6869 - val_auc: 0.5764\n",
            "Epoch 9/350\n",
            "435/435 [==============================] - 6s 15ms/step - loss: 0.6867 - auc: 0.5722 - val_loss: 0.6868 - val_auc: 0.5719\n",
            "Epoch 10/350\n",
            "435/435 [==============================] - 6s 14ms/step - loss: 0.6867 - auc: 0.5734 - val_loss: 0.6855 - val_auc: 0.5783\n",
            "Epoch 11/350\n",
            "435/435 [==============================] - 6s 14ms/step - loss: 0.6866 - auc: 0.5740 - val_loss: 0.6869 - val_auc: 0.5764\n",
            "Epoch 12/350\n",
            "435/435 [==============================] - 6s 14ms/step - loss: 0.6867 - auc: 0.5731 - val_loss: 0.6858 - val_auc: 0.5769\n",
            "Epoch 13/350\n",
            "435/435 [==============================] - 6s 14ms/step - loss: 0.6867 - auc: 0.5741 - val_loss: 0.6850 - val_auc: 0.5782\n",
            "Epoch 14/350\n",
            "435/435 [==============================] - 6s 14ms/step - loss: 0.6868 - auc: 0.5729 - val_loss: 0.6877 - val_auc: 0.5787\n",
            "Epoch 15/350\n",
            "435/435 [==============================] - 6s 15ms/step - loss: 0.6863 - auc: 0.5746 - val_loss: 0.6859 - val_auc: 0.5777\n",
            "Epoch 16/350\n",
            "435/435 [==============================] - 7s 15ms/step - loss: 0.6865 - auc: 0.5750 - val_loss: 0.6849 - val_auc: 0.5803\n",
            "Epoch 17/350\n",
            "435/435 [==============================] - 6s 14ms/step - loss: 0.6863 - auc: 0.5751 - val_loss: 0.6850 - val_auc: 0.5810\n",
            "Epoch 18/350\n",
            "435/435 [==============================] - 6s 14ms/step - loss: 0.6864 - auc: 0.5747 - val_loss: 0.6843 - val_auc: 0.5806\n",
            "Epoch 19/350\n",
            "435/435 [==============================] - 7s 15ms/step - loss: 0.6861 - auc: 0.5745 - val_loss: 0.6854 - val_auc: 0.5780\n",
            "Epoch 20/350\n",
            "435/435 [==============================] - 6s 14ms/step - loss: 0.6860 - auc: 0.5752 - val_loss: 0.6860 - val_auc: 0.5795\n",
            "Epoch 21/350\n",
            "435/435 [==============================] - 6s 14ms/step - loss: 0.6861 - auc: 0.5746 - val_loss: 0.6857 - val_auc: 0.5790\n",
            "Epoch 22/350\n",
            "435/435 [==============================] - 6s 14ms/step - loss: 0.6864 - auc: 0.5744 - val_loss: 0.6839 - val_auc: 0.5837\n",
            "Epoch 23/350\n",
            "435/435 [==============================] - 6s 14ms/step - loss: 0.6859 - auc: 0.5758 - val_loss: 0.6852 - val_auc: 0.5795\n",
            "Epoch 24/350\n",
            "435/435 [==============================] - 6s 14ms/step - loss: 0.6860 - auc: 0.5758 - val_loss: 0.6859 - val_auc: 0.5793\n",
            "Epoch 25/350\n",
            "435/435 [==============================] - 6s 14ms/step - loss: 0.6861 - auc: 0.5754 - val_loss: 0.6840 - val_auc: 0.5830\n",
            "Epoch 26/350\n",
            "435/435 [==============================] - 6s 14ms/step - loss: 0.6857 - auc: 0.5756 - val_loss: 0.6851 - val_auc: 0.5809\n",
            "Epoch 27/350\n",
            "435/435 [==============================] - 6s 14ms/step - loss: 0.6859 - auc: 0.5758 - val_loss: 0.6844 - val_auc: 0.5824\n",
            "Epoch 28/350\n",
            "435/435 [==============================] - 7s 15ms/step - loss: 0.6858 - auc: 0.5760 - val_loss: 0.6853 - val_auc: 0.5806\n",
            "Epoch 29/350\n",
            "435/435 [==============================] - 6s 13ms/step - loss: 0.6856 - auc: 0.5764 - val_loss: 0.6843 - val_auc: 0.5811\n",
            "Epoch 30/350\n",
            "435/435 [==============================] - 6s 14ms/step - loss: 0.6855 - auc: 0.5764 - val_loss: 0.6842 - val_auc: 0.5838\n",
            "Epoch 31/350\n",
            "435/435 [==============================] - 6s 13ms/step - loss: 0.6857 - auc: 0.5771 - val_loss: 0.6854 - val_auc: 0.5812\n",
            "Epoch 32/350\n",
            "435/435 [==============================] - 6s 15ms/step - loss: 0.6853 - auc: 0.5775 - val_loss: 0.6855 - val_auc: 0.5818\n"
          ],
          "name": "stdout"
        }
      ]
    },
    {
      "cell_type": "code",
      "metadata": {
        "colab": {
          "base_uri": "https://localhost:8080/"
        },
        "id": "XSbDXDcRUhMQ",
        "outputId": "c304710f-893e-498f-bd3d-265252eb6500"
      },
      "source": [
        "pred = model.predict(X_validation)\r\n",
        "print(classification_report(y_validation, pred.round(), labels=[True,False]))"
      ],
      "execution_count": null,
      "outputs": [
        {
          "output_type": "stream",
          "text": [
            "              precision    recall  f1-score   support\n",
            "\n",
            "        True       0.56      0.53      0.54     40454\n",
            "       False       0.56      0.58      0.57     40722\n",
            "\n",
            "    accuracy                           0.56     81176\n",
            "   macro avg       0.56      0.56      0.56     81176\n",
            "weighted avg       0.56      0.56      0.56     81176\n",
            "\n"
          ],
          "name": "stdout"
        }
      ]
    },
    {
      "cell_type": "code",
      "metadata": {
        "colab": {
          "base_uri": "https://localhost:8080/"
        },
        "id": "Ddu2q0x3VX_1",
        "outputId": "d32ff2e3-8ae4-4cee-fbe6-0590b7330308"
      },
      "source": [
        "model = Sequential()\r\n",
        "model.add(tf.keras.layers.BatchNormalization())\r\n",
        "model.add(Dense(320,input_shape = (X_train.shape[-1],),activation='relu',kernel_regularizer = 'l2'))\r\n",
        "model.add(layers.Dropout(rate=0.236))\r\n",
        "model.add(Dense(128,activation='relu'))\r\n",
        "model.add(layers.Dropout(rate=0.231))\r\n",
        "model.add(Dense(1312,activation='relu',kernel_regularizer=\"l2\"))\r\n",
        "model.add(layers.Dropout(rate=0.418))\r\n",
        "model.add(Dense(32,activation='relu'))\r\n",
        "model.add(layers.BatchNormalization())\r\n",
        "\r\n",
        "model.add(layers.Dense(1))\r\n",
        "model.add(layers.BatchNormalization())\r\n",
        "model.add(layers.Activation(\"sigmoid\"))\r\n",
        "\r\n",
        "opt = keras.optimizers.RMSprop(learning_rate=0.001)\r\n",
        "model.compile(optimizer=opt, loss='binary_crossentropy', metrics=['accuracy'])\r\n",
        "history = model.fit(X_train,y_train,\r\n",
        "                    validation_data=(X_validation,y_validation),\r\n",
        "                    batch_size=2048, epochs=350,\r\n",
        "                   callbacks=[EarlyStopping('val_loss',patience=10,restore_best_weights=True)])"
      ],
      "execution_count": null,
      "outputs": [
        {
          "output_type": "stream",
          "text": [
            "Epoch 1/350\n",
            "435/435 [==============================] - 5s 8ms/step - loss: 1.4680 - accuracy: 0.5357 - val_loss: 0.7035 - val_accuracy: 0.5301\n",
            "Epoch 2/350\n",
            "435/435 [==============================] - 3s 7ms/step - loss: 0.7015 - accuracy: 0.5451 - val_loss: 0.6930 - val_accuracy: 0.5371\n",
            "Epoch 3/350\n",
            "435/435 [==============================] - 3s 7ms/step - loss: 0.6891 - accuracy: 0.5482 - val_loss: 0.6910 - val_accuracy: 0.5408\n",
            "Epoch 4/350\n",
            "435/435 [==============================] - 3s 7ms/step - loss: 0.6879 - accuracy: 0.5494 - val_loss: 0.6884 - val_accuracy: 0.5485\n",
            "Epoch 5/350\n",
            "435/435 [==============================] - 3s 7ms/step - loss: 0.6872 - accuracy: 0.5500 - val_loss: 0.6911 - val_accuracy: 0.5496\n",
            "Epoch 6/350\n",
            "435/435 [==============================] - 3s 8ms/step - loss: 0.6869 - accuracy: 0.5498 - val_loss: 0.6864 - val_accuracy: 0.5479\n",
            "Epoch 7/350\n",
            "435/435 [==============================] - 3s 7ms/step - loss: 0.6866 - accuracy: 0.5500 - val_loss: 0.6864 - val_accuracy: 0.5520\n",
            "Epoch 8/350\n",
            "435/435 [==============================] - 3s 8ms/step - loss: 0.6863 - accuracy: 0.5513 - val_loss: 0.6857 - val_accuracy: 0.5533\n",
            "Epoch 9/350\n",
            "435/435 [==============================] - 3s 7ms/step - loss: 0.6860 - accuracy: 0.5508 - val_loss: 0.6868 - val_accuracy: 0.5502\n",
            "Epoch 10/350\n",
            "435/435 [==============================] - 3s 7ms/step - loss: 0.6860 - accuracy: 0.5508 - val_loss: 0.6864 - val_accuracy: 0.5474\n",
            "Epoch 11/350\n",
            "435/435 [==============================] - 3s 7ms/step - loss: 0.6858 - accuracy: 0.5513 - val_loss: 0.6867 - val_accuracy: 0.5372\n",
            "Epoch 12/350\n",
            "435/435 [==============================] - 3s 7ms/step - loss: 0.6855 - accuracy: 0.5520 - val_loss: 0.6854 - val_accuracy: 0.5522\n",
            "Epoch 13/350\n",
            "435/435 [==============================] - 3s 7ms/step - loss: 0.6852 - accuracy: 0.5521 - val_loss: 0.6854 - val_accuracy: 0.5558\n",
            "Epoch 14/350\n",
            "435/435 [==============================] - 3s 7ms/step - loss: 0.6854 - accuracy: 0.5508 - val_loss: 0.6847 - val_accuracy: 0.5526\n",
            "Epoch 15/350\n",
            "435/435 [==============================] - 3s 7ms/step - loss: 0.6851 - accuracy: 0.5519 - val_loss: 0.6847 - val_accuracy: 0.5519\n",
            "Epoch 16/350\n",
            "435/435 [==============================] - 3s 7ms/step - loss: 0.6852 - accuracy: 0.5521 - val_loss: 0.6852 - val_accuracy: 0.5432\n",
            "Epoch 17/350\n",
            "435/435 [==============================] - 3s 7ms/step - loss: 0.6851 - accuracy: 0.5509 - val_loss: 0.6838 - val_accuracy: 0.5566\n",
            "Epoch 18/350\n",
            "435/435 [==============================] - 3s 7ms/step - loss: 0.6851 - accuracy: 0.5513 - val_loss: 0.6875 - val_accuracy: 0.5477\n",
            "Epoch 19/350\n",
            "435/435 [==============================] - 3s 7ms/step - loss: 0.6848 - accuracy: 0.5530 - val_loss: 0.6832 - val_accuracy: 0.5564\n",
            "Epoch 20/350\n",
            "435/435 [==============================] - 3s 7ms/step - loss: 0.6849 - accuracy: 0.5529 - val_loss: 0.6845 - val_accuracy: 0.5510\n",
            "Epoch 21/350\n",
            "435/435 [==============================] - 3s 7ms/step - loss: 0.6849 - accuracy: 0.5521 - val_loss: 0.6851 - val_accuracy: 0.5507\n",
            "Epoch 22/350\n",
            "435/435 [==============================] - 3s 7ms/step - loss: 0.6848 - accuracy: 0.5527 - val_loss: 0.6848 - val_accuracy: 0.5535\n",
            "Epoch 23/350\n",
            "435/435 [==============================] - 3s 7ms/step - loss: 0.6846 - accuracy: 0.5531 - val_loss: 0.6840 - val_accuracy: 0.5546\n",
            "Epoch 24/350\n",
            "435/435 [==============================] - 3s 7ms/step - loss: 0.6848 - accuracy: 0.5524 - val_loss: 0.6831 - val_accuracy: 0.5570\n",
            "Epoch 25/350\n",
            "435/435 [==============================] - 3s 7ms/step - loss: 0.6848 - accuracy: 0.5512 - val_loss: 0.6852 - val_accuracy: 0.5506\n",
            "Epoch 26/350\n",
            "435/435 [==============================] - 3s 7ms/step - loss: 0.6847 - accuracy: 0.5517 - val_loss: 0.6841 - val_accuracy: 0.5550\n",
            "Epoch 27/350\n",
            "435/435 [==============================] - 3s 7ms/step - loss: 0.6847 - accuracy: 0.5519 - val_loss: 0.6833 - val_accuracy: 0.5550\n",
            "Epoch 28/350\n",
            "435/435 [==============================] - 3s 7ms/step - loss: 0.6848 - accuracy: 0.5518 - val_loss: 0.6839 - val_accuracy: 0.5523\n",
            "Epoch 29/350\n",
            "435/435 [==============================] - 3s 7ms/step - loss: 0.6847 - accuracy: 0.5517 - val_loss: 0.6845 - val_accuracy: 0.5550\n",
            "Epoch 30/350\n",
            "435/435 [==============================] - 3s 7ms/step - loss: 0.6846 - accuracy: 0.5523 - val_loss: 0.6846 - val_accuracy: 0.5520\n",
            "Epoch 31/350\n",
            "435/435 [==============================] - 3s 7ms/step - loss: 0.6843 - accuracy: 0.5527 - val_loss: 0.6834 - val_accuracy: 0.5563\n",
            "Epoch 32/350\n",
            "435/435 [==============================] - 3s 7ms/step - loss: 0.6847 - accuracy: 0.5523 - val_loss: 0.6842 - val_accuracy: 0.5547\n",
            "Epoch 33/350\n",
            "435/435 [==============================] - 3s 7ms/step - loss: 0.6843 - accuracy: 0.5536 - val_loss: 0.6844 - val_accuracy: 0.5518\n",
            "Epoch 34/350\n",
            "435/435 [==============================] - 3s 7ms/step - loss: 0.6848 - accuracy: 0.5519 - val_loss: 0.6843 - val_accuracy: 0.5483\n"
          ],
          "name": "stdout"
        }
      ]
    },
    {
      "cell_type": "code",
      "metadata": {
        "colab": {
          "base_uri": "https://localhost:8080/"
        },
        "id": "wftMMo24V2zQ",
        "outputId": "b02fd3e9-c8a8-44ad-a64d-808c42ac411e"
      },
      "source": [
        "pred = model.predict(X_validation)\r\n",
        "print(classification_report(y_validation, predi(pred), labels=[True,False]))"
      ],
      "execution_count": null,
      "outputs": [
        {
          "output_type": "stream",
          "text": [
            "              precision    recall  f1-score   support\n",
            "\n",
            "        True       0.55      0.63      0.59     40454\n",
            "       False       0.57      0.49      0.52     40722\n",
            "\n",
            "    accuracy                           0.56     81176\n",
            "   macro avg       0.56      0.56      0.56     81176\n",
            "weighted avg       0.56      0.56      0.56     81176\n",
            "\n"
          ],
          "name": "stdout"
        }
      ]
    },
    {
      "cell_type": "code",
      "metadata": {
        "id": "IezP-8e0dPd3"
      },
      "source": [
        "def predi(x):\r\n",
        "  for i in range(len(x)):\r\n",
        "    if x[i] >= 0.5:\r\n",
        "      x[i] = 1\r\n",
        "    else:\r\n",
        "      x[i] = 0\r\n",
        "\r\n",
        "  return x\r\n",
        "  "
      ],
      "execution_count": null,
      "outputs": []
    },
    {
      "cell_type": "code",
      "metadata": {
        "id": "lmdayjTbWimm"
      },
      "source": [
        "from kerastuner.tuners import RandomSearch"
      ],
      "execution_count": null,
      "outputs": []
    },
    {
      "cell_type": "code",
      "metadata": {
        "id": "qSIBt9VavkEP"
      },
      "source": [
        "def build_model(hp):\r\n",
        "    model = keras.Sequential()\r\n",
        "    for i in range(hp.Int('num_layers', 2, 20)):\r\n",
        "        model.add(layers.Dense(units=hp.Int('units_' + str(i),\r\n",
        "                                            min_value=32,\r\n",
        "                                            max_value=512,\r\n",
        "                                            step=32),\r\n",
        "                               activation='relu'))\r\n",
        "    model.add(layers.Dense(1, activation='sigmoid'))\r\n",
        "    model.compile(\r\n",
        "        optimizer=keras.optimizers.Adam(\r\n",
        "            hp.Choice('learning_rate', [1e-2, 1e-3, 1e-4])),\r\n",
        "        loss='binary_crossentropy',\r\n",
        "        metrics=['accuracy'])\r\n",
        "    return model"
      ],
      "execution_count": null,
      "outputs": []
    },
    {
      "cell_type": "code",
      "metadata": {
        "id": "g42IrW0dwIsG"
      },
      "source": [
        "tuner = RandomSearch(\r\n",
        "    build_model,\r\n",
        "    objective='val_accuracy',\r\n",
        "    max_trials=5,\r\n",
        "    executions_per_trial=3,\r\n",
        "    directory='project',\r\n",
        "    project_name='Jane-Street-Market-Prediction')"
      ],
      "execution_count": null,
      "outputs": []
    },
    {
      "cell_type": "code",
      "metadata": {
        "colab": {
          "base_uri": "https://localhost:8080/"
        },
        "id": "GaQRybPVxEUt",
        "outputId": "1f23bb99-d794-4359-be26-097774790221"
      },
      "source": [
        "tuner.search_space_summary()\r\n"
      ],
      "execution_count": null,
      "outputs": [
        {
          "output_type": "stream",
          "text": [
            "Search space summary\n",
            "Default search space size: 4\n",
            "num_layers (Int)\n",
            "{'default': None, 'conditions': [], 'min_value': 2, 'max_value': 20, 'step': 1, 'sampling': None}\n",
            "units_0 (Int)\n",
            "{'default': None, 'conditions': [], 'min_value': 32, 'max_value': 512, 'step': 32, 'sampling': None}\n",
            "units_1 (Int)\n",
            "{'default': None, 'conditions': [], 'min_value': 32, 'max_value': 512, 'step': 32, 'sampling': None}\n",
            "learning_rate (Choice)\n",
            "{'default': 0.01, 'conditions': [], 'values': [0.01, 0.001, 0.0001], 'ordered': True}\n"
          ],
          "name": "stdout"
        }
      ]
    },
    {
      "cell_type": "code",
      "metadata": {
        "colab": {
          "base_uri": "https://localhost:8080/"
        },
        "id": "iEHcO9sexIy1",
        "outputId": "1a7865f1-9118-4207-9948-7d1bb46d7ff6"
      },
      "source": [
        "tuner.search(X_train, y_train,\r\n",
        "             epochs=5,\r\n",
        "             validation_data=(X_validation,y_validation))"
      ],
      "execution_count": null,
      "outputs": [
        {
          "output_type": "stream",
          "text": [
            "Trial 5 Complete [00h 19m 23s]\n",
            "val_accuracy: 0.5016507506370544\n",
            "\n",
            "Best val_accuracy So Far: 0.5594387451807658\n",
            "Total elapsed time: 01h 49m 36s\n",
            "INFO:tensorflow:Oracle triggered exit\n"
          ],
          "name": "stdout"
        }
      ]
    },
    {
      "cell_type": "code",
      "metadata": {
        "colab": {
          "base_uri": "https://localhost:8080/"
        },
        "id": "PqHIulp3xVbG",
        "outputId": "405b13ec-ba35-47d3-af24-17a3e8f888fa"
      },
      "source": [
        "tuner.results_summary()"
      ],
      "execution_count": null,
      "outputs": [
        {
          "output_type": "stream",
          "text": [
            "Results summary\n",
            "Results in project/Jane-Street-Market-Prediction\n",
            "Showing 10 best trials\n",
            "Objective(name='val_accuracy', direction='max')\n",
            "Trial summary\n",
            "Hyperparameters:\n",
            "num_layers: 19\n",
            "units_0: 480\n",
            "units_1: 96\n",
            "learning_rate: 0.0001\n",
            "units_2: 224\n",
            "units_3: 480\n",
            "units_4: 480\n",
            "units_5: 32\n",
            "units_6: 352\n",
            "units_7: 96\n",
            "units_8: 480\n",
            "units_9: 192\n",
            "units_10: 416\n",
            "units_11: 480\n",
            "units_12: 192\n",
            "units_13: 384\n",
            "units_14: 288\n",
            "units_15: 256\n",
            "units_16: 320\n",
            "units_17: 320\n",
            "units_18: 32\n",
            "Score: 0.5594387451807658\n",
            "Trial summary\n",
            "Hyperparameters:\n",
            "num_layers: 15\n",
            "units_0: 64\n",
            "units_1: 224\n",
            "learning_rate: 0.0001\n",
            "units_2: 32\n",
            "units_3: 32\n",
            "units_4: 32\n",
            "units_5: 32\n",
            "units_6: 32\n",
            "units_7: 32\n",
            "units_8: 32\n",
            "units_9: 32\n",
            "units_10: 32\n",
            "units_11: 32\n",
            "units_12: 32\n",
            "units_13: 32\n",
            "units_14: 32\n",
            "Score: 0.5585107405980428\n",
            "Trial summary\n",
            "Hyperparameters:\n",
            "num_layers: 5\n",
            "units_0: 32\n",
            "units_1: 384\n",
            "learning_rate: 0.01\n",
            "units_2: 480\n",
            "units_3: 32\n",
            "units_4: 160\n",
            "units_5: 128\n",
            "units_6: 416\n",
            "units_7: 448\n",
            "units_8: 480\n",
            "units_9: 224\n",
            "units_10: 416\n",
            "units_11: 480\n",
            "units_12: 192\n",
            "units_13: 192\n",
            "units_14: 384\n",
            "Score: 0.5016507506370544\n",
            "Trial summary\n",
            "Hyperparameters:\n",
            "num_layers: 18\n",
            "units_0: 64\n",
            "units_1: 288\n",
            "learning_rate: 0.001\n",
            "units_2: 480\n",
            "units_3: 288\n",
            "units_4: 224\n",
            "units_5: 320\n",
            "units_6: 224\n",
            "units_7: 96\n",
            "units_8: 128\n",
            "units_9: 128\n",
            "units_10: 32\n",
            "units_11: 128\n",
            "units_12: 224\n",
            "units_13: 32\n",
            "units_14: 288\n",
            "units_15: 32\n",
            "units_16: 32\n",
            "units_17: 32\n",
            "Score: 0.5016507506370544\n",
            "Trial summary\n",
            "Hyperparameters:\n",
            "num_layers: 9\n",
            "units_0: 448\n",
            "units_1: 480\n",
            "learning_rate: 0.01\n",
            "units_2: 224\n",
            "units_3: 288\n",
            "units_4: 32\n",
            "units_5: 96\n",
            "units_6: 448\n",
            "units_7: 352\n",
            "units_8: 320\n",
            "units_9: 192\n",
            "units_10: 192\n",
            "units_11: 448\n",
            "units_12: 160\n",
            "units_13: 384\n",
            "units_14: 480\n",
            "units_15: 160\n",
            "units_16: 64\n",
            "units_17: 192\n",
            "units_18: 416\n",
            "Score: 0.5016507506370544\n"
          ],
          "name": "stdout"
        }
      ]
    },
    {
      "cell_type": "code",
      "metadata": {
        "id": "JB4MgsudKi4K"
      },
      "source": [
        "best_model = tuner.get_best_models()[0]"
      ],
      "execution_count": null,
      "outputs": []
    },
    {
      "cell_type": "code",
      "metadata": {
        "id": "gPF2XtuLKwSP"
      },
      "source": [
        "def build_model(hp):\r\n",
        "    model = keras.Sequential()\r\n",
        "    model.add(Dense(units = hp.Int(\"Input Layer\", min_value=32, max_value=512),input_shape = (X_train.shape[-1],),activation='relu',kernel_regularizer = 'l2'))\r\n",
        "    model.add(layers.Dropout(rate=hp.Float(\"Drop Out Input\", 0.1, 0.5, 0.1)))\r\n",
        "    for i in range(hp.Int('num_layers', 2, 20)):\r\n",
        "        model.add(layers.Dense(units=hp.Int('units_' + str(i),\r\n",
        "                                            min_value=32,\r\n",
        "                                            max_value=512,\r\n",
        "                                            step=32),\r\n",
        "                               activation='relu'))\r\n",
        "        model.add(layers.Dropout(rate=hp.Float(\"Drop Out \" + str(i), 0.1, 0.5, 0.1)))\r\n",
        "        model.add(layers.BatchNormalization())\r\n",
        "    model.add(layers.Dense(1))\r\n",
        "    model.add(layers.BatchNormalization())\r\n",
        "    model.add(layers.Activation(\"sigmoid\"))\r\n",
        "    model.compile(\r\n",
        "        optimizer=keras.optimizers.Adam(\r\n",
        "            hp.Choice('learning_rate', [1e-2, 1e-3, 1e-4])),\r\n",
        "        loss='binary_crossentropy',\r\n",
        "        metrics=['accuracy'])\r\n",
        "    return model"
      ],
      "execution_count": null,
      "outputs": []
    },
    {
      "cell_type": "code",
      "metadata": {
        "id": "blKHCDX_LBDf"
      },
      "source": [
        "tuner2 = RandomSearch(\r\n",
        "    build_model,\r\n",
        "    objective='val_accuracy',\r\n",
        "    max_trials=5,\r\n",
        "    executions_per_trial=3,\r\n",
        "    directory='project2',\r\n",
        "    project_name='Jane-Street-Market-Prediction')"
      ],
      "execution_count": null,
      "outputs": []
    },
    {
      "cell_type": "code",
      "metadata": {
        "colab": {
          "base_uri": "https://localhost:8080/"
        },
        "id": "UORo1TfeNhDY",
        "outputId": "da7451c7-486a-4cd9-e48f-6cada5229f1c"
      },
      "source": [
        "tuner.search_space_summary()\r\n"
      ],
      "execution_count": null,
      "outputs": [
        {
          "output_type": "stream",
          "text": [
            "Search space summary\n",
            "Default search space size: 21\n",
            "num_layers (Int)\n",
            "{'default': None, 'conditions': [], 'min_value': 2, 'max_value': 20, 'step': 1, 'sampling': None}\n",
            "units_0 (Int)\n",
            "{'default': None, 'conditions': [], 'min_value': 32, 'max_value': 512, 'step': 32, 'sampling': None}\n",
            "units_1 (Int)\n",
            "{'default': None, 'conditions': [], 'min_value': 32, 'max_value': 512, 'step': 32, 'sampling': None}\n",
            "learning_rate (Choice)\n",
            "{'default': 0.01, 'conditions': [], 'values': [0.01, 0.001, 0.0001], 'ordered': True}\n",
            "units_2 (Int)\n",
            "{'default': None, 'conditions': [], 'min_value': 32, 'max_value': 512, 'step': 32, 'sampling': None}\n",
            "units_3 (Int)\n",
            "{'default': None, 'conditions': [], 'min_value': 32, 'max_value': 512, 'step': 32, 'sampling': None}\n",
            "units_4 (Int)\n",
            "{'default': None, 'conditions': [], 'min_value': 32, 'max_value': 512, 'step': 32, 'sampling': None}\n",
            "units_5 (Int)\n",
            "{'default': None, 'conditions': [], 'min_value': 32, 'max_value': 512, 'step': 32, 'sampling': None}\n",
            "units_6 (Int)\n",
            "{'default': None, 'conditions': [], 'min_value': 32, 'max_value': 512, 'step': 32, 'sampling': None}\n",
            "units_7 (Int)\n",
            "{'default': None, 'conditions': [], 'min_value': 32, 'max_value': 512, 'step': 32, 'sampling': None}\n",
            "units_8 (Int)\n",
            "{'default': None, 'conditions': [], 'min_value': 32, 'max_value': 512, 'step': 32, 'sampling': None}\n",
            "units_9 (Int)\n",
            "{'default': None, 'conditions': [], 'min_value': 32, 'max_value': 512, 'step': 32, 'sampling': None}\n",
            "units_10 (Int)\n",
            "{'default': None, 'conditions': [], 'min_value': 32, 'max_value': 512, 'step': 32, 'sampling': None}\n",
            "units_11 (Int)\n",
            "{'default': None, 'conditions': [], 'min_value': 32, 'max_value': 512, 'step': 32, 'sampling': None}\n",
            "units_12 (Int)\n",
            "{'default': None, 'conditions': [], 'min_value': 32, 'max_value': 512, 'step': 32, 'sampling': None}\n",
            "units_13 (Int)\n",
            "{'default': None, 'conditions': [], 'min_value': 32, 'max_value': 512, 'step': 32, 'sampling': None}\n",
            "units_14 (Int)\n",
            "{'default': None, 'conditions': [], 'min_value': 32, 'max_value': 512, 'step': 32, 'sampling': None}\n",
            "units_15 (Int)\n",
            "{'default': None, 'conditions': [], 'min_value': 32, 'max_value': 512, 'step': 32, 'sampling': None}\n",
            "units_16 (Int)\n",
            "{'default': None, 'conditions': [], 'min_value': 32, 'max_value': 512, 'step': 32, 'sampling': None}\n",
            "units_17 (Int)\n",
            "{'default': None, 'conditions': [], 'min_value': 32, 'max_value': 512, 'step': 32, 'sampling': None}\n",
            "units_18 (Int)\n",
            "{'default': None, 'conditions': [], 'min_value': 32, 'max_value': 512, 'step': 32, 'sampling': None}\n"
          ],
          "name": "stdout"
        }
      ]
    },
    {
      "cell_type": "code",
      "metadata": {
        "colab": {
          "base_uri": "https://localhost:8080/"
        },
        "id": "Q0b_WJyQO0_X",
        "outputId": "8b267925-d2b1-4d22-81d3-cc92c194e88c"
      },
      "source": [
        "tuner2.search(X_train, y_train,\r\n",
        "             epochs=5,\r\n",
        "             validation_data=(X_validation,y_validation))"
      ],
      "execution_count": null,
      "outputs": [
        {
          "output_type": "stream",
          "text": [
            "\n",
            "Search: Running Trial #1\n",
            "\n",
            "Hyperparameter    |Value             |Best Value So Far \n",
            "Input Layer       |157               |?                 \n",
            "Drop Out Input    |0.1               |?                 \n",
            "num_layers        |19                |?                 \n",
            "units_0           |96                |?                 \n",
            "Drop Out 0        |0.1               |?                 \n",
            "units_1           |224               |?                 \n",
            "Drop Out 1        |0.1               |?                 \n",
            "learning_rate     |0.001             |?                 \n",
            "\n",
            "Epoch 1/5\n",
            "27783/27783 [==============================] - 306s 11ms/step - loss: 1.1447 - accuracy: 0.5022 - val_loss: 0.7032 - val_accuracy: 0.5190\n",
            "Epoch 2/5\n",
            "27783/27783 [==============================] - 300s 11ms/step - loss: 0.7030 - accuracy: 0.5163 - val_loss: 0.6970 - val_accuracy: 0.5107\n",
            "Epoch 3/5\n",
            "27783/27783 [==============================] - 298s 11ms/step - loss: 0.6991 - accuracy: 0.5178 - val_loss: 0.7025 - val_accuracy: 0.5089\n",
            "Epoch 4/5\n",
            "27783/27783 [==============================] - 302s 11ms/step - loss: 0.6991 - accuracy: 0.5158 - val_loss: 0.7024 - val_accuracy: 0.5321\n",
            "Epoch 5/5\n",
            "27783/27783 [==============================] - 314s 11ms/step - loss: 0.6996 - accuracy: 0.5261 - val_loss: 0.6959 - val_accuracy: 0.5307\n",
            "Epoch 1/5\n",
            "25030/27783 [==========================>...] - ETA: 30s - loss: 1.1858 - accuracy: 0.5014"
          ],
          "name": "stdout"
        }
      ]
    },
    {
      "cell_type": "code",
      "metadata": {
        "id": "T0G-vFmdO6se"
      },
      "source": [
        ""
      ],
      "execution_count": null,
      "outputs": []
    }
  ]
}