{
 "cells": [
  {
   "cell_type": "code",
   "execution_count": 1,
   "metadata": {
    "execution": {
     "iopub.execute_input": "2021-02-18T00:35:21.420441Z",
     "iopub.status.busy": "2021-02-18T00:35:21.419738Z",
     "iopub.status.idle": "2021-02-18T00:35:21.439921Z",
     "shell.execute_reply": "2021-02-18T00:35:21.440531Z"
    },
    "papermill": {
     "duration": 0.035391,
     "end_time": "2021-02-18T00:35:21.440716",
     "exception": false,
     "start_time": "2021-02-18T00:35:21.405325",
     "status": "completed"
    },
    "tags": []
   },
   "outputs": [
    {
     "name": "stdout",
     "output_type": "stream",
     "text": [
      "/kaggle/input/jane-street-market-prediction/example_sample_submission.csv\n",
      "/kaggle/input/jane-street-market-prediction/features.csv\n",
      "/kaggle/input/jane-street-market-prediction/example_test.csv\n",
      "/kaggle/input/jane-street-market-prediction/train.csv\n",
      "/kaggle/input/jane-street-market-prediction/janestreet/competition.cpython-37m-x86_64-linux-gnu.so\n",
      "/kaggle/input/jane-street-market-prediction/janestreet/__init__.py\n",
      "/kaggle/input/janestreet-save-as-feather/example_test.feather\n",
      "/kaggle/input/janestreet-save-as-feather/features.feather\n",
      "/kaggle/input/janestreet-save-as-feather/__results__.html\n",
      "/kaggle/input/janestreet-save-as-feather/example_sample_submission.feather\n",
      "/kaggle/input/janestreet-save-as-feather/__resultx__.html\n",
      "/kaggle/input/janestreet-save-as-feather/__notebook__.ipynb\n",
      "/kaggle/input/janestreet-save-as-feather/__output__.json\n",
      "/kaggle/input/janestreet-save-as-feather/train.feather\n",
      "/kaggle/input/janestreet-save-as-feather/custom.css\n"
     ]
    }
   ],
   "source": [
    "# This Python 3 environment comes with many helpful analytics libraries installed\n",
    "# It is defined by the kaggle/python Docker image: https://github.com/kaggle/docker-python\n",
    "# For example, here's several helpful packages to load\n",
    "\n",
    "import numpy as np # linear algebra\n",
    "import pandas as pd # data processing, CSV file I/O (e.g. pd.read_csv)\n",
    "import pathlib\n",
    "\n",
    "# Input data files are available in the read-only \"../input/\" directory\n",
    "# For example, running this (by clicking run or pressing Shift+Enter) will list all files under the input directory\n",
    "\n",
    "import os\n",
    "for dirname, _, filenames in os.walk('/kaggle/input'):\n",
    "    for filename in filenames:\n",
    "        print(os.path.join(dirname, filename))\n",
    "\n",
    "# You can write up to 20GB to the current directory (/kaggle/working/) that gets preserved as output when you create a version using \"Save & Run All\" \n",
    "# You can also write temporary files to /kaggle/temp/, but they won't be saved outside of the current session"
   ]
  },
  {
   "cell_type": "code",
   "execution_count": 2,
   "metadata": {
    "execution": {
     "iopub.execute_input": "2021-02-18T00:35:21.462080Z",
     "iopub.status.busy": "2021-02-18T00:35:21.456096Z",
     "iopub.status.idle": "2021-02-18T00:37:56.291791Z",
     "shell.execute_reply": "2021-02-18T00:37:56.292528Z"
    },
    "papermill": {
     "duration": 154.845657,
     "end_time": "2021-02-18T00:37:56.292997",
     "exception": false,
     "start_time": "2021-02-18T00:35:21.447340",
     "status": "completed"
    },
    "tags": []
   },
   "outputs": [
    {
     "name": "stdout",
     "output_type": "stream",
     "text": [
      "CPU times: user 1min 34s, sys: 13.2 s, total: 1min 47s\n",
      "Wall time: 2min 34s\n"
     ]
    }
   ],
   "source": [
    "%%time\n",
    "INPUT_DIR = '../input/jane-street-market-prediction/'\n",
    "OUTPUT_DIR = ''\n",
    "\n",
    "train = pd.read_csv(pathlib.Path(INPUT_DIR + 'train.csv'))\n",
    "example_test = pd.read_csv(pathlib.Path(INPUT_DIR + 'example_test.csv'))\n",
    "ss = pd.read_csv(pathlib.Path(INPUT_DIR + 'example_sample_submission.csv'))"
   ]
  },
  {
   "cell_type": "code",
   "execution_count": 3,
   "metadata": {
    "execution": {
     "iopub.execute_input": "2021-02-18T00:37:56.328884Z",
     "iopub.status.busy": "2021-02-18T00:37:56.328084Z",
     "iopub.status.idle": "2021-02-18T00:37:56.331693Z",
     "shell.execute_reply": "2021-02-18T00:37:56.330964Z"
    },
    "papermill": {
     "duration": 0.031907,
     "end_time": "2021-02-18T00:37:56.331813",
     "exception": false,
     "start_time": "2021-02-18T00:37:56.299906",
     "status": "completed"
    },
    "tags": []
   },
   "outputs": [],
   "source": [
    "def reduce_memory_usage(df):\n",
    "    \n",
    "    start_memory = df.memory_usage().sum() / 1024**2\n",
    "    print(f\"Memory usage of dataframe is {start_memory} MB\")\n",
    "    \n",
    "    for col in df.columns:\n",
    "        col_type = df[col].dtype\n",
    "        \n",
    "        if col_type != 'object':\n",
    "            c_min = df[col].min()\n",
    "            c_max = df[col].max()\n",
    "            \n",
    "            if str(col_type)[:3] == 'int':\n",
    "                if c_min > np.iinfo(np.int8).min and c_max < np.iinfo(np.int8).max:\n",
    "                    df[col] = df[col].astype(np.int8)\n",
    "                elif c_min > np.iinfo(np.int16).min and c_max < np.iinfo(np.int16).max:\n",
    "                    df[col] = df[col].astype(np.int16)\n",
    "                elif c_min > np.iinfo(np.int32).min and c_max < np.iinfo(np.int32).max:\n",
    "                    df[col] = df[col].astype(np.int32)\n",
    "                elif c_min > np.iinfo(np.int64).min and c_max < np.iinfo(np.int64).max:\n",
    "                    df[col] = df[col].astype(np.int64)\n",
    "            \n",
    "            else:\n",
    "                \"\"\"if c_min > np.finfo(np.float16).min and c_max < np.finfo(np.float16).max:\n",
    "                    df[col] = df[col].astype(np.float16)\"\"\"\n",
    "                if c_min > np.finfo(np.float32).min and c_max < np.finfo(np.float32).max:\n",
    "                    df[col] = df[col].astype(np.float32)\n",
    "                else:\n",
    "                    pass\n",
    "        else:\n",
    "            df[col] = df[col].astype('category')\n",
    "    \n",
    "    end_memory = df.memory_usage().sum() / 1024**2\n",
    "    print(f\"Memory usage of dataframe after reduction {end_memory} MB\")\n",
    "    print(f\"Reduced by {100 * (start_memory - end_memory) / start_memory} % \")\n",
    "    return df"
   ]
  },
  {
   "cell_type": "code",
   "execution_count": 4,
   "metadata": {
    "execution": {
     "iopub.execute_input": "2021-02-18T00:37:56.370335Z",
     "iopub.status.busy": "2021-02-18T00:37:56.369597Z",
     "iopub.status.idle": "2021-02-18T00:38:54.869001Z",
     "shell.execute_reply": "2021-02-18T00:38:54.868324Z"
    },
    "papermill": {
     "duration": 58.530446,
     "end_time": "2021-02-18T00:38:54.869173",
     "exception": false,
     "start_time": "2021-02-18T00:37:56.338727",
     "status": "completed"
    },
    "tags": []
   },
   "outputs": [
    {
     "name": "stdout",
     "output_type": "stream",
     "text": [
      "Memory usage of dataframe is 2516.843978881836 MB\n",
      "Memory usage of dataframe after reduction 1247.0233011245728 MB\n",
      "Reduced by 50.45289610369131 % \n",
      "Memory usage of dataframe is 15.442985534667969 MB\n",
      "Memory usage of dataframe after reduction 7.605442047119141 MB\n",
      "Reduced by 50.75147852696178 % \n",
      "Memory usage of dataframe is 0.2323455810546875 MB\n",
      "Memory usage of dataframe after reduction 0.043663978576660156 MB\n",
      "Reduced by 81.20731266828659 % \n"
     ]
    }
   ],
   "source": [
    "train = reduce_memory_usage(train)\n",
    "example_test = reduce_memory_usage(example_test)\n",
    "ss = reduce_memory_usage(ss)"
   ]
  },
  {
   "cell_type": "code",
   "execution_count": 5,
   "metadata": {
    "execution": {
     "iopub.execute_input": "2021-02-18T00:38:54.895176Z",
     "iopub.status.busy": "2021-02-18T00:38:54.894446Z",
     "iopub.status.idle": "2021-02-18T00:38:54.913124Z",
     "shell.execute_reply": "2021-02-18T00:38:54.911939Z"
    },
    "papermill": {
     "duration": 0.035794,
     "end_time": "2021-02-18T00:38:54.913277",
     "exception": false,
     "start_time": "2021-02-18T00:38:54.877483",
     "status": "completed"
    },
    "tags": []
   },
   "outputs": [],
   "source": [
    "features = pd.read_csv(pathlib.Path(INPUT_DIR + 'features.csv'))"
   ]
  },
  {
   "cell_type": "code",
   "execution_count": 6,
   "metadata": {
    "execution": {
     "iopub.execute_input": "2021-02-18T00:38:54.937120Z",
     "iopub.status.busy": "2021-02-18T00:38:54.936420Z",
     "iopub.status.idle": "2021-02-18T00:38:58.262280Z",
     "shell.execute_reply": "2021-02-18T00:38:58.261688Z"
    },
    "papermill": {
     "duration": 3.340771,
     "end_time": "2021-02-18T00:38:58.262415",
     "exception": false,
     "start_time": "2021-02-18T00:38:54.921644",
     "status": "completed"
    },
    "tags": []
   },
   "outputs": [
    {
     "name": "stdout",
     "output_type": "stream",
     "text": [
      "saved as feather format\n",
      "CPU times: user 2.64 s, sys: 2.43 s, total: 5.07 s\n",
      "Wall time: 3.32 s\n"
     ]
    }
   ],
   "source": [
    "%%time\n",
    "\n",
    "# save as feather\n",
    "train.to_feather(pathlib.Path(OUTPUT_DIR + 'train.feather'))\n",
    "features.to_feather(pathlib.Path(OUTPUT_DIR + 'features.feather'))\n",
    "example_test.to_feather(pathlib.Path(OUTPUT_DIR + 'example_test.feather'))\n",
    "ss.to_feather(pathlib.Path(OUTPUT_DIR + 'example_sample_submission.feather'))\n",
    "print('saved as feather format')"
   ]
  }
 ],
 "metadata": {
  "kernelspec": {
   "display_name": "Python 3",
   "language": "python",
   "name": "python3"
  },
  "language_info": {
   "codemirror_mode": {
    "name": "ipython",
    "version": 3
   },
   "file_extension": ".py",
   "mimetype": "text/x-python",
   "name": "python",
   "nbconvert_exporter": "python",
   "pygments_lexer": "ipython3",
   "version": "3.7.6"
  },
  "papermill": {
   "duration": 223.118994,
   "end_time": "2021-02-18T00:38:59.362797",
   "environment_variables": {},
   "exception": null,
   "input_path": "__notebook__.ipynb",
   "output_path": "__notebook__.ipynb",
   "parameters": {},
   "start_time": "2021-02-18T00:35:16.243803",
   "version": "2.1.0"
  }
 },
 "nbformat": 4,
 "nbformat_minor": 4
}
