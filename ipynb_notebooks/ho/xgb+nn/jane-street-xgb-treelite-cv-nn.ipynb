{
 "cells": [
  {
   "cell_type": "code",
   "execution_count": 1,
   "metadata": {
    "execution": {
     "iopub.execute_input": "2021-02-19T09:02:08.232057Z",
     "iopub.status.busy": "2021-02-19T09:02:08.231427Z",
     "iopub.status.idle": "2021-02-19T09:02:36.429228Z",
     "shell.execute_reply": "2021-02-19T09:02:36.428032Z"
    },
    "papermill": {
     "duration": 28.220814,
     "end_time": "2021-02-19T09:02:36.429395",
     "exception": false,
     "start_time": "2021-02-19T09:02:08.208581",
     "status": "completed"
    },
    "tags": []
   },
   "outputs": [],
   "source": [
    "!pip --quiet install ../input/treelite/treelite-0.93-py3-none-manylinux2010_x86_64.whl"
   ]
  },
  {
   "cell_type": "code",
   "execution_count": 2,
   "metadata": {
    "execution": {
     "iopub.execute_input": "2021-02-19T09:02:36.467344Z",
     "iopub.status.busy": "2021-02-19T09:02:36.466769Z",
     "iopub.status.idle": "2021-02-19T09:03:03.432706Z",
     "shell.execute_reply": "2021-02-19T09:03:03.431791Z"
    },
    "papermill": {
     "duration": 26.988828,
     "end_time": "2021-02-19T09:03:03.432834",
     "exception": false,
     "start_time": "2021-02-19T09:02:36.444006",
     "status": "completed"
    },
    "tags": []
   },
   "outputs": [],
   "source": [
    "!pip --quiet install ../input/treelite/treelite_runtime-0.93-py3-none-manylinux2010_x86_64.whl"
   ]
  },
  {
   "cell_type": "code",
   "execution_count": 3,
   "metadata": {
    "_cell_guid": "b1076dfc-b9ad-4769-8c92-a6c4dae69d19",
    "_uuid": "8f2839f25d086af736a60e9eeb907d3b93b6e0e5",
    "execution": {
     "iopub.execute_input": "2021-02-19T09:03:03.470938Z",
     "iopub.status.busy": "2021-02-19T09:03:03.470329Z",
     "iopub.status.idle": "2021-02-19T09:03:09.622280Z",
     "shell.execute_reply": "2021-02-19T09:03:09.621541Z"
    },
    "papermill": {
     "duration": 6.175765,
     "end_time": "2021-02-19T09:03:09.622411",
     "exception": false,
     "start_time": "2021-02-19T09:03:03.446646",
     "status": "completed"
    },
    "tags": []
   },
   "outputs": [],
   "source": [
    "# ../input/jane-street-save-as-feather\n",
    "# ../input/jane-street-xgb-treelite\n",
    "# ../input/jane-street-resnet-cv\n",
    "# ../input/jane-street-1dcnn-cv\n",
    "# ../input/jane-street-mlp-stratifiedgroupkfold\n",
    "\n",
    "# This Python 3 environment comes with many helpful analytics libraries installed\n",
    "# It is defined by the kaggle/python Docker image: https://github.com/kaggle/docker-python\n",
    "# For example, here's several helpful packages to load\n",
    "\n",
    "import numpy as np # linear algebra\n",
    "import pandas as pd # data processing, CSV file I/O (e.g. pd.read_csv)\n",
    "\n",
    "# Input data files are available in the read-only \"../input/\" directory\n",
    "# For example, running this (by clicking run or pressing Shift+Enter) will list all files under the input directory\n",
    "\n",
    "import os\n",
    "import sys\n",
    "import pathlib\n",
    "from pathlib import Path\n",
    "\n",
    "import tensorflow as tf\n",
    "import tensorflow_addons as tfa\n",
    "\n",
    "import operator\n",
    "import seaborn as sns\n",
    "\n",
    "import sklearn\n",
    "from sklearn import model_selection\n",
    "from sklearn.model_selection import GroupKFold\n",
    "from sklearn.model_selection import train_test_split\n",
    "from sklearn.model_selection import KFold\n",
    "from sklearn.model_selection._split import _BaseKFold, indexable, _num_samples\n",
    "from sklearn.utils.validation import _deprecate_positional_args\n",
    "\n",
    "from tqdm import tqdm\n",
    "import random\n",
    "from random import choices\n",
    "\n",
    "from collections import Counter, defaultdict\n",
    "\n",
    "\n",
    "import warnings\n",
    "warnings.filterwarnings(\"ignore\")\n",
    "# You can write up to 20GB to the current directory (/kaggle/working/) that gets preserved as output when you create a version using \"Save & Run All\" \n",
    "# You can also write temporary files to /kaggle/temp/, but they won't be saved outside of the current session"
   ]
  },
  {
   "cell_type": "code",
   "execution_count": 4,
   "metadata": {
    "execution": {
     "iopub.execute_input": "2021-02-19T09:03:09.661177Z",
     "iopub.status.busy": "2021-02-19T09:03:09.660360Z",
     "iopub.status.idle": "2021-02-19T09:03:09.663573Z",
     "shell.execute_reply": "2021-02-19T09:03:09.664043Z"
    },
    "papermill": {
     "duration": 0.026783,
     "end_time": "2021-02-19T09:03:09.664184",
     "exception": false,
     "start_time": "2021-02-19T09:03:09.637401",
     "status": "completed"
    },
    "tags": []
   },
   "outputs": [
    {
     "name": "stdout",
     "output_type": "stream",
     "text": [
      "Tensorflow version 2.3.1\n",
      "Accelerated Linear Algebra enabled\n"
     ]
    }
   ],
   "source": [
    "# tf setup\n",
    "print(\"Tensorflow version \" + tf.__version__)\n",
    "AUTO = tf.data.experimental.AUTOTUNE\n",
    "\n",
    "MIXED_PRECISION = False\n",
    "XLA_ACCELERATE = True\n",
    "\n",
    "if MIXED_PRECISION:\n",
    "    from tensorflow.keras.mixed_precision import experimental as mixed_precision\n",
    "    if tpu: policy = tf.keras.mixed_precision.experimental.Policy('mixed_bfloat16')\n",
    "    else: policy = tf.keras.mixed_precision.experimental.Policy('mixed_float16')\n",
    "    mixed_precision.set_policy(policy)\n",
    "    print('Mixed precision enabled')\n",
    "\n",
    "if XLA_ACCELERATE:\n",
    "    tf.config.optimizer.set_jit(True)\n",
    "    print('Accelerated Linear Algebra enabled')"
   ]
  },
  {
   "cell_type": "markdown",
   "metadata": {
    "papermill": {
     "duration": 0.014427,
     "end_time": "2021-02-19T09:03:09.693450",
     "exception": false,
     "start_time": "2021-02-19T09:03:09.679023",
     "status": "completed"
    },
    "tags": []
   },
   "source": [
    "# Config"
   ]
  },
  {
   "cell_type": "code",
   "execution_count": 5,
   "metadata": {
    "execution": {
     "iopub.execute_input": "2021-02-19T09:03:09.727424Z",
     "iopub.status.busy": "2021-02-19T09:03:09.726681Z",
     "iopub.status.idle": "2021-02-19T09:03:09.729323Z",
     "shell.execute_reply": "2021-02-19T09:03:09.728823Z"
    },
    "papermill": {
     "duration": 0.021213,
     "end_time": "2021-02-19T09:03:09.729427",
     "exception": false,
     "start_time": "2021-02-19T09:03:09.708214",
     "status": "completed"
    },
    "tags": []
   },
   "outputs": [],
   "source": [
    "SEED = 2021\n",
    "START_DATE = 86\n",
    "FOLDS = 5"
   ]
  },
  {
   "cell_type": "markdown",
   "metadata": {
    "papermill": {
     "duration": 0.014099,
     "end_time": "2021-02-19T09:03:09.757828",
     "exception": false,
     "start_time": "2021-02-19T09:03:09.743729",
     "status": "completed"
    },
    "tags": []
   },
   "source": [
    "### Loading the training data"
   ]
  },
  {
   "cell_type": "code",
   "execution_count": 6,
   "metadata": {
    "execution": {
     "iopub.execute_input": "2021-02-19T09:03:09.796265Z",
     "iopub.status.busy": "2021-02-19T09:03:09.795639Z",
     "iopub.status.idle": "2021-02-19T09:03:18.720050Z",
     "shell.execute_reply": "2021-02-19T09:03:18.720685Z"
    },
    "papermill": {
     "duration": 8.948613,
     "end_time": "2021-02-19T09:03:18.720841",
     "exception": false,
     "start_time": "2021-02-19T09:03:09.772228",
     "status": "completed"
    },
    "tags": []
   },
   "outputs": [],
   "source": [
    "train = pd.read_feather('../input/jane-street-save-as-feather/train.feather')\n",
    "train = train.query(f'date >= {START_DATE}').reset_index(drop = True) \n",
    "train = train.astype({c: np.float32 for c in train.select_dtypes(include='float64').columns}) #limit memory use\n",
    "train.fillna(train.mean(),inplace=True)\n",
    "train = train.query('weight > 0').reset_index(drop = True)\n",
    "# train = train.query('weight != 0').reset_index(drop = True)\n",
    "# train['action'] = (train['resp'] > 0).astype('int')\n",
    "train['action'] =  (  (train['resp_1'] > 0 ) & (train['resp_2'] > 0 ) & (train['resp_3'] > 0 ) & (train['resp_4'] > 0 ) &  (train['resp'] > 0 )   ).astype('int')\n",
    "features = [c for c in train.columns if 'feature' in c]\n",
    "\n",
    "resp_cols = ['resp_1', 'resp_2', 'resp_3', 'resp', 'resp_4']"
   ]
  },
  {
   "cell_type": "code",
   "execution_count": 7,
   "metadata": {
    "execution": {
     "iopub.execute_input": "2021-02-19T09:03:18.754121Z",
     "iopub.status.busy": "2021-02-19T09:03:18.753175Z",
     "iopub.status.idle": "2021-02-19T09:03:18.768157Z",
     "shell.execute_reply": "2021-02-19T09:03:18.768697Z"
    },
    "papermill": {
     "duration": 0.032919,
     "end_time": "2021-02-19T09:03:18.768853",
     "exception": false,
     "start_time": "2021-02-19T09:03:18.735934",
     "status": "completed"
    },
    "tags": []
   },
   "outputs": [],
   "source": [
    "import treelite\n",
    "import treelite_runtime "
   ]
  },
  {
   "cell_type": "code",
   "execution_count": 8,
   "metadata": {
    "execution": {
     "iopub.execute_input": "2021-02-19T09:03:18.801903Z",
     "iopub.status.busy": "2021-02-19T09:03:18.800982Z",
     "iopub.status.idle": "2021-02-19T09:03:18.825705Z",
     "shell.execute_reply": "2021-02-19T09:03:18.826366Z"
    },
    "papermill": {
     "duration": 0.043082,
     "end_time": "2021-02-19T09:03:18.826505",
     "exception": false,
     "start_time": "2021-02-19T09:03:18.783423",
     "status": "completed"
    },
    "tags": []
   },
   "outputs": [
    {
     "name": "stdout",
     "output_type": "stream",
     "text": [
      "[09:03:18] /workspace/src/predictor/predictor.cc:262: Dynamic shared library `/kaggle/input/jane-street-xgb-treelite/mymodel.so' does not contain valid get_pred_transform() function\n",
      "[09:03:18] /workspace/src/predictor/predictor.cc:276: Dynamic shared library `/kaggle/input/jane-street-xgb-treelite/mymodel.so' does not contain valid get_sigmoid_alpha() function\n",
      "[09:03:18] /workspace/src/predictor/predictor.cc:288: Dynamic shared library `/kaggle/input/jane-street-xgb-treelite/mymodel.so' does not contain valid get_global_bias() function\n",
      "[09:03:18] /opt/conda/lib/python3.7/site-packages/treelite_runtime/predictor.py:309: Dynamic shared library /kaggle/input/jane-street-xgb-treelite/mymodel.so has been successfully loaded into memory\n"
     ]
    }
   ],
   "source": [
    "predictor = treelite_runtime.Predictor('../input/jane-street-xgb-treelite/mymodel.so', verbose=True)"
   ]
  },
  {
   "cell_type": "code",
   "execution_count": 9,
   "metadata": {
    "execution": {
     "iopub.execute_input": "2021-02-19T09:03:18.892161Z",
     "iopub.status.busy": "2021-02-19T09:03:18.891222Z",
     "iopub.status.idle": "2021-02-19T09:03:18.901747Z",
     "shell.execute_reply": "2021-02-19T09:03:18.902962Z"
    },
    "papermill": {
     "duration": 0.052194,
     "end_time": "2021-02-19T09:03:18.903173",
     "exception": false,
     "start_time": "2021-02-19T09:03:18.850979",
     "status": "completed"
    },
    "tags": []
   },
   "outputs": [],
   "source": [
    "def create_autoencoder(input_dim,output_dim,noise=0.05):\n",
    "    i = tf.keras.layers.Input(input_dim)\n",
    "    encoded = tf.keras.layers.BatchNormalization()(i)\n",
    "    encoded = tf.keras.layers.GaussianNoise(noise)(encoded)\n",
    "    encoded = tf.keras.layers.Dense(64,activation='relu')(encoded)\n",
    "    decoded = tf.keras.layers.Dropout(0.2)(encoded)\n",
    "    decoded = tf.keras.layers.Dense(input_dim,name='decoded')(decoded)\n",
    "    x = tf.keras.layers.Dense(32,activation='relu')(decoded)\n",
    "    x = tf.keras.layers.BatchNormalization()(x)\n",
    "    x = tf.keras.layers.Dropout(0.2)(x)\n",
    "    x = tf.keras.layers.Dense(output_dim,activation='sigmoid',name='label_output')(x)\n",
    "    \n",
    "    encoder = tf.keras.models.Model(inputs=i,outputs=encoded)\n",
    "    autoencoder = tf.keras.models.Model(inputs=i,outputs=[decoded,x])\n",
    "    \n",
    "    autoencoder.compile(optimizer=tf.keras.optimizers.Adam(0.001), \n",
    "                        loss={'decoded':'mse','label_output':'binary_crossentropy'})\n",
    "    return autoencoder, encoder"
   ]
  },
  {
   "cell_type": "code",
   "execution_count": 10,
   "metadata": {
    "execution": {
     "iopub.execute_input": "2021-02-19T09:03:18.966828Z",
     "iopub.status.busy": "2021-02-19T09:03:18.965685Z",
     "iopub.status.idle": "2021-02-19T09:03:18.968711Z",
     "shell.execute_reply": "2021-02-19T09:03:18.967804Z"
    },
    "papermill": {
     "duration": 0.037942,
     "end_time": "2021-02-19T09:03:18.968874",
     "exception": false,
     "start_time": "2021-02-19T09:03:18.930932",
     "status": "completed"
    },
    "tags": []
   },
   "outputs": [],
   "source": [
    "NN_NAME = 'mlp' # 1dcnn, resnet, mlp"
   ]
  },
  {
   "cell_type": "code",
   "execution_count": 11,
   "metadata": {
    "execution": {
     "iopub.execute_input": "2021-02-19T09:03:19.034680Z",
     "iopub.status.busy": "2021-02-19T09:03:19.033713Z",
     "iopub.status.idle": "2021-02-19T09:03:19.996265Z",
     "shell.execute_reply": "2021-02-19T09:03:19.997107Z"
    },
    "papermill": {
     "duration": 1.001386,
     "end_time": "2021-02-19T09:03:19.997249",
     "exception": false,
     "start_time": "2021-02-19T09:03:18.995863",
     "status": "completed"
    },
    "tags": []
   },
   "outputs": [],
   "source": [
    "X = train[features].values\n",
    "y = np.stack([(train[c] > 0).astype('int') for c in resp_cols]).T #Multitarget\n",
    "\n",
    "f_mean = np.mean(train[features[1:]].values,axis=0)"
   ]
  },
  {
   "cell_type": "code",
   "execution_count": 12,
   "metadata": {
    "execution": {
     "iopub.execute_input": "2021-02-19T09:03:20.032797Z",
     "iopub.status.busy": "2021-02-19T09:03:20.031876Z",
     "iopub.status.idle": "2021-02-19T09:03:20.278041Z",
     "shell.execute_reply": "2021-02-19T09:03:20.278614Z"
    },
    "papermill": {
     "duration": 0.264752,
     "end_time": "2021-02-19T09:03:20.278756",
     "exception": false,
     "start_time": "2021-02-19T09:03:20.014004",
     "status": "completed"
    },
    "tags": []
   },
   "outputs": [],
   "source": [
    "autoencoder, encoder = create_autoencoder(X.shape[-1],y.shape[-1],noise=0.1)\n",
    "if NN_NAME == 'mlp': encoder.load_weights('../input/jane-street-mlp-stratifiedgroupkfold/encoder.hdf5')\n",
    "elif NN_NAME == 'resnet': encoder.load_weights('../input/jane-street-resnet-cv/encoder.hdf5')\n",
    "elif NN_NAME == '1dcnn': encoder.load_weights('../input/jane-street-1dcnn-cv/encoder.hdf5')\n",
    "encoder.trainable = False"
   ]
  },
  {
   "cell_type": "markdown",
   "metadata": {
    "papermill": {
     "duration": 0.015724,
     "end_time": "2021-02-19T09:03:20.310596",
     "exception": false,
     "start_time": "2021-02-19T09:03:20.294872",
     "status": "completed"
    },
    "tags": []
   },
   "source": [
    "# NN"
   ]
  },
  {
   "cell_type": "code",
   "execution_count": 13,
   "metadata": {
    "_cell_guid": "79c7e3d0-c299-4dcb-8224-4455121ee9b0",
    "_uuid": "d629ff2d2480ee46fbb7e2d37f6b5fab8052498a",
    "execution": {
     "iopub.execute_input": "2021-02-19T09:03:20.347776Z",
     "iopub.status.busy": "2021-02-19T09:03:20.346838Z",
     "iopub.status.idle": "2021-02-19T09:03:20.361544Z",
     "shell.execute_reply": "2021-02-19T09:03:20.361972Z"
    },
    "papermill": {
     "duration": 0.033631,
     "end_time": "2021-02-19T09:03:20.362122",
     "exception": false,
     "start_time": "2021-02-19T09:03:20.328491",
     "status": "completed"
    },
    "tags": []
   },
   "outputs": [],
   "source": [
    "def create_1dcnn(input_dim, output_dim, encoder):\n",
    "    # input\n",
    "    inputs = tf.keras.layers.Input(input_dim)\n",
    "    \n",
    "    x = encoder(inputs)\n",
    "    x = tf.keras.layers.Concatenate()([x,inputs]) #use both raw and encoded features\n",
    "    \n",
    "    # normalize\n",
    "    x = tf.keras.layers.BatchNormalization()(x)\n",
    "    \n",
    "    # 1dcnn\n",
    "    x = tf.keras.layers.Dense(4096, activation='relu')(x)\n",
    "    x = tf.keras.layers.Reshape((256, 16))(x)\n",
    "    x = tf.keras.layers.Conv1D(filters=16,\n",
    "                      kernel_size=7,\n",
    "                      strides=1,\n",
    "                      activation='relu')(x)\n",
    "    x = tf.keras.layers.MaxPooling1D(pool_size=2)(x)\n",
    "    x = tf.keras.layers.Flatten()(x)\n",
    "    \n",
    "    # ffn\n",
    "    for i in range(2):\n",
    "        x = tf.keras.layers.Dense(256 // (2 ** i), activation='relu')(x)\n",
    "        x = tf.keras.layers.BatchNormalization()(x)\n",
    "        x = tf.keras.layers.GaussianNoise(0.01)(x)\n",
    "        x = tf.keras.layers.Dropout(0.2)(x)\n",
    "    x = tf.keras.layers.Dense(output_dim, activation='sigmoid')(x)\n",
    "    \n",
    "    model = tf.keras.models.Model(inputs=inputs,outputs=x)\n",
    "    \n",
    "    # compile\n",
    "    opt = tfa.optimizers.RectifiedAdam(learning_rate=1e-03)\n",
    "    opt = tfa.optimizers.SWA(opt)\n",
    "    loss = tf.keras.losses.BinaryCrossentropy(label_smoothing=1e-02)\n",
    "    model.compile(optimizer=opt, \n",
    "                  loss=loss, \n",
    "                  metrics=[tf.keras.metrics.AUC(name = 'auc')])\n",
    "    return model"
   ]
  },
  {
   "cell_type": "code",
   "execution_count": 14,
   "metadata": {
    "execution": {
     "iopub.execute_input": "2021-02-19T09:03:20.397591Z",
     "iopub.status.busy": "2021-02-19T09:03:20.396602Z",
     "iopub.status.idle": "2021-02-19T09:03:20.419273Z",
     "shell.execute_reply": "2021-02-19T09:03:20.418331Z"
    },
    "papermill": {
     "duration": 0.041286,
     "end_time": "2021-02-19T09:03:20.419465",
     "exception": false,
     "start_time": "2021-02-19T09:03:20.378179",
     "status": "completed"
    },
    "tags": []
   },
   "outputs": [],
   "source": [
    "def create_resnet(n_features, n_labels, encoder, label_smoothing = 0.0005):    \n",
    "    input_1 = tf.keras.layers.Input(shape = (n_features,))\n",
    "    input_2 = encoder(input_1)\n",
    "\n",
    "    head_1 = tf.keras.Sequential([\n",
    "        tf.keras.layers.BatchNormalization(),\n",
    "        tf.keras.layers.Dense(512, activation=\"elu\"), \n",
    "        tf.keras.layers.BatchNormalization(),\n",
    "        tf.keras.layers.Dropout(0.4),\n",
    "        tf.keras.layers.Dense(256, activation = \"elu\")\n",
    "        ],name='Head1') \n",
    "\n",
    "    input_3 = head_1(input_1)\n",
    "    input_3_concat = tf.keras.layers.Concatenate()([input_2, input_3])\n",
    "\n",
    "    head_2 = tf.keras.Sequential([\n",
    "        tf.keras.layers.BatchNormalization(),\n",
    "        tf.keras.layers.Dense(512, \"relu\"),\n",
    "        tf.keras.layers.BatchNormalization(),\n",
    "        tf.keras.layers.Dropout(0.3),\n",
    "        tf.keras.layers.Dense(512, \"elu\"),\n",
    "        tf.keras.layers.BatchNormalization(),\n",
    "        tf.keras.layers.Dropout(0.3),\n",
    "        tf.keras.layers.Dense(256, \"relu\"),\n",
    "        tf.keras.layers.BatchNormalization(),\n",
    "        tf.keras.layers.Dropout(0.3),\n",
    "        tf.keras.layers.Dense(256, \"elu\")\n",
    "        ],name='Head2')\n",
    "\n",
    "    input_4 = head_2(input_3_concat)\n",
    "    input_4_avg = tf.keras.layers.Average()([input_3, input_4]) \n",
    "\n",
    "    head_3 = tf.keras.Sequential([\n",
    "        tf.keras.layers.BatchNormalization(),\n",
    "        tf.keras.layers.Dense(256, kernel_initializer='lecun_normal', activation='selu'),\n",
    "        tf.keras.layers.BatchNormalization(),\n",
    "        tf.keras.layers.Dropout(0.2),\n",
    "        tf.keras.layers.Dense(128, kernel_initializer='lecun_normal', activation='selu'),\n",
    "        tf.keras.layers.BatchNormalization(),\n",
    "        tf.keras.layers.Dropout(0.2),\n",
    "        tf.keras.layers.Lambda(lambda x: tf.math.l2_normalize(x, axis=1), name='l2_norm'),\n",
    "        tf.keras.layers.Dense(n_labels, activation=\"sigmoid\")\n",
    "        ],name='Head3')\n",
    "\n",
    "    output = head_3(input_4_avg)\n",
    "\n",
    "    model = tf.keras.models.Model(inputs = [input_1, ], outputs = output)\n",
    "    opt = tfa.optimizers.RectifiedAdam(learning_rate=1e-03)\n",
    "    opt = tfa.optimizers.SWA(opt)\n",
    "    model.compile(optimizer=opt, \n",
    "                  loss=tf.keras.losses.BinaryCrossentropy(label_smoothing=label_smoothing), \n",
    "                  metrics=['AUC'])\n",
    "    \n",
    "    return model"
   ]
  },
  {
   "cell_type": "code",
   "execution_count": 15,
   "metadata": {
    "execution": {
     "iopub.execute_input": "2021-02-19T09:03:20.470974Z",
     "iopub.status.busy": "2021-02-19T09:03:20.470377Z",
     "iopub.status.idle": "2021-02-19T09:03:20.483340Z",
     "shell.execute_reply": "2021-02-19T09:03:20.482122Z"
    },
    "papermill": {
     "duration": 0.041179,
     "end_time": "2021-02-19T09:03:20.483511",
     "exception": false,
     "start_time": "2021-02-19T09:03:20.442332",
     "status": "completed"
    },
    "tags": []
   },
   "outputs": [],
   "source": [
    "def create_mlp(\n",
    "    num_columns, num_labels, hidden_units, dropout_rates, label_smoothing, learning_rate\n",
    "):\n",
    "\n",
    "    inp = tf.keras.layers.Input(shape=(num_columns,))\n",
    "    x = tf.keras.layers.BatchNormalization()(inp)\n",
    "    x = tf.keras.layers.Dropout(dropout_rates[0])(x)\n",
    "    for i in range(len(hidden_units)):\n",
    "        x = tf.keras.layers.Dense(hidden_units[i])(x)\n",
    "        x = tf.keras.layers.BatchNormalization()(x)\n",
    "        x = tf.keras.layers.Activation(tf.keras.activations.swish)(x)\n",
    "        x = tf.keras.layers.Dropout(dropout_rates[i + 1])(x)\n",
    "    \n",
    "    x = tf.keras.layers.Dense(num_labels)(x)\n",
    "    out = tf.keras.layers.Activation(\"sigmoid\")(x)\n",
    "\n",
    "    model = tf.keras.models.Model(inputs=inp, outputs=out)\n",
    "    model.compile(\n",
    "        optimizer=tfa.optimizers.RectifiedAdam(learning_rate=learning_rate),\n",
    "        loss=tf.keras.losses.BinaryCrossentropy(label_smoothing=label_smoothing),\n",
    "        metrics=tf.keras.metrics.AUC(name=\"AUC\"),\n",
    "    )\n",
    "\n",
    "    return model"
   ]
  },
  {
   "cell_type": "code",
   "execution_count": 16,
   "metadata": {
    "execution": {
     "iopub.execute_input": "2021-02-19T09:03:20.540822Z",
     "iopub.status.busy": "2021-02-19T09:03:20.539869Z",
     "iopub.status.idle": "2021-02-19T09:03:20.543878Z",
     "shell.execute_reply": "2021-02-19T09:03:20.543251Z"
    },
    "papermill": {
     "duration": 0.034725,
     "end_time": "2021-02-19T09:03:20.543979",
     "exception": false,
     "start_time": "2021-02-19T09:03:20.509254",
     "status": "completed"
    },
    "tags": []
   },
   "outputs": [
    {
     "name": "stdout",
     "output_type": "stream",
     "text": [
      "CPU times: user 5 µs, sys: 0 ns, total: 5 µs\n",
      "Wall time: 10.3 µs\n"
     ]
    }
   ],
   "source": [
    "%%time\n",
    "\n",
    "if NN_NAME == '1dcnn':\n",
    "    models = []\n",
    "\n",
    "    for fold in range(FOLDS):\n",
    "        # 1dcnn\n",
    "        tf.keras.backend.clear_session()\n",
    "        model = create_1dcnn(X.shape[-1], y.shape[-1], encoder)\n",
    "        model.load_weights(pathlib.Path(f'../input/jane-street-1dcnn-cv/model_{SEED}_{fold}.hdf5'))\n",
    "        models.append(model)\n",
    "        \n",
    "    models = [models[-1]]"
   ]
  },
  {
   "cell_type": "code",
   "execution_count": 17,
   "metadata": {
    "execution": {
     "iopub.execute_input": "2021-02-19T09:03:20.588782Z",
     "iopub.status.busy": "2021-02-19T09:03:20.587764Z",
     "iopub.status.idle": "2021-02-19T09:03:20.590818Z",
     "shell.execute_reply": "2021-02-19T09:03:20.591345Z"
    },
    "papermill": {
     "duration": 0.028221,
     "end_time": "2021-02-19T09:03:20.591457",
     "exception": false,
     "start_time": "2021-02-19T09:03:20.563236",
     "status": "completed"
    },
    "tags": []
   },
   "outputs": [
    {
     "name": "stdout",
     "output_type": "stream",
     "text": [
      "CPU times: user 3 µs, sys: 2 µs, total: 5 µs\n",
      "Wall time: 10 µs\n"
     ]
    }
   ],
   "source": [
    "%%time\n",
    "\n",
    "if NN_NAME == 'resnet':\n",
    "    models = []\n",
    "\n",
    "    for fold in range(FOLDS):\n",
    "        tf.keras.backend.clear_session()\n",
    "        model = create_resnet(X.shape[-1], y.shape[-1], encoder)\n",
    "        model.load_weights(pathlib.Path(f'../input/jane-street-resnet-cv/model_{SEED}_{fold}.hdf5'))\n",
    "        models.append(model)\n",
    "        \n",
    "    models = [models[-1]]"
   ]
  },
  {
   "cell_type": "code",
   "execution_count": 18,
   "metadata": {
    "execution": {
     "iopub.execute_input": "2021-02-19T09:03:20.637361Z",
     "iopub.status.busy": "2021-02-19T09:03:20.636573Z",
     "iopub.status.idle": "2021-02-19T09:03:20.932852Z",
     "shell.execute_reply": "2021-02-19T09:03:20.933332Z"
    },
    "papermill": {
     "duration": 0.323656,
     "end_time": "2021-02-19T09:03:20.933467",
     "exception": false,
     "start_time": "2021-02-19T09:03:20.609811",
     "status": "completed"
    },
    "tags": []
   },
   "outputs": [
    {
     "name": "stdout",
     "output_type": "stream",
     "text": [
      "CPU times: user 236 ms, sys: 6.91 ms, total: 242 ms\n",
      "Wall time: 289 ms\n"
     ]
    }
   ],
   "source": [
    "%%time\n",
    "\n",
    "if NN_NAME == 'mlp':\n",
    "    model = tf.keras.models.load_model('../input/jane-street-mlp-stratifiedgroupkfold/model.h5')\n",
    "    models = [model]"
   ]
  },
  {
   "cell_type": "code",
   "execution_count": 19,
   "metadata": {
    "execution": {
     "iopub.execute_input": "2021-02-19T09:03:20.981118Z",
     "iopub.status.busy": "2021-02-19T09:03:20.980413Z",
     "iopub.status.idle": "2021-02-19T09:06:58.435167Z",
     "shell.execute_reply": "2021-02-19T09:06:58.435725Z"
    },
    "papermill": {
     "duration": 217.48444,
     "end_time": "2021-02-19T09:06:58.435911",
     "exception": false,
     "start_time": "2021-02-19T09:03:20.951471",
     "status": "completed"
    },
    "tags": []
   },
   "outputs": [
    {
     "name": "stderr",
     "output_type": "stream",
     "text": [
      "15219it [03:37, 70.00it/s]\n"
     ]
    }
   ],
   "source": [
    "f = np.median\n",
    "th = 0.500\n",
    "\n",
    "import janestreet\n",
    "env = janestreet.make_env()\n",
    "for (test_df, pred_df) in tqdm(env.iter_test()):\n",
    "    if test_df['weight'].item() > 0:\n",
    "        x_tt = test_df.loc[:, features].values\n",
    "        \n",
    "        # GBDT inference with treelite\n",
    "        batch = treelite_runtime.Batch.from_npy2d(x_tt)\n",
    "        xgb_pred = predictor.predict(batch)\n",
    "    \n",
    "        # NN inference\n",
    "        if np.isnan(x_tt[:, 1:].sum()):\n",
    "            x_tt[:, 1:] = np.nan_to_num(x_tt[:, 1:]) + np.isnan(x_tt[:, 1:]) * f_mean\n",
    "        \n",
    "        pred = np.mean([model(x_tt, training = False).numpy() for model in models],axis=0)\n",
    "        pred = f(pred)\n",
    "        \n",
    "        # ensemble\n",
    "        pred_df.action = np.where(0.9*pred + 0.1*xgb_pred >= th, 1, 0).astype(int)\n",
    "    else:\n",
    "        pred_df.action = 0\n",
    "    env.predict(pred_df)"
   ]
  }
 ],
 "metadata": {
  "kernelspec": {
   "display_name": "Python 3",
   "language": "python",
   "name": "python3"
  },
  "language_info": {
   "codemirror_mode": {
    "name": "ipython",
    "version": 3
   },
   "file_extension": ".py",
   "mimetype": "text/x-python",
   "name": "python",
   "nbconvert_exporter": "python",
   "pygments_lexer": "ipython3",
   "version": "3.7.6"
  },
  "papermill": {
   "duration": 295.091734,
   "end_time": "2021-02-19T09:06:59.177930",
   "environment_variables": {},
   "exception": null,
   "input_path": "__notebook__.ipynb",
   "output_path": "__notebook__.ipynb",
   "parameters": {},
   "start_time": "2021-02-19T09:02:04.086196",
   "version": "2.1.0"
  }
 },
 "nbformat": 4,
 "nbformat_minor": 4
}
