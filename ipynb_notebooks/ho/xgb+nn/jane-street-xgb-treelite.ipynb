{
 "cells": [
  {
   "cell_type": "code",
   "execution_count": 1,
   "metadata": {
    "_cell_guid": "b1076dfc-b9ad-4769-8c92-a6c4dae69d19",
    "_uuid": "8f2839f25d086af736a60e9eeb907d3b93b6e0e5",
    "execution": {
     "iopub.execute_input": "2021-02-19T08:23:36.563359Z",
     "iopub.status.busy": "2021-02-19T08:23:36.562573Z",
     "iopub.status.idle": "2021-02-19T08:23:36.565366Z",
     "shell.execute_reply": "2021-02-19T08:23:36.564828Z"
    },
    "papermill": {
     "duration": 0.022121,
     "end_time": "2021-02-19T08:23:36.565454",
     "exception": false,
     "start_time": "2021-02-19T08:23:36.543333",
     "status": "completed"
    },
    "tags": []
   },
   "outputs": [],
   "source": [
    "# This Python 3 environment comes with many helpful analytics libraries installed\n",
    "# It is defined by the kaggle/python Docker image: https://github.com/kaggle/docker-python\n",
    "# For example, here's several helpful packages to load\n",
    "\n",
    "import numpy as np # linear algebra\n",
    "import pandas as pd # data processing, CSV file I/O (e.g. pd.read_csv)\n",
    "\n",
    "# Input data files are available in the read-only \"../input/\" directory\n",
    "# For example, running this (by clicking run or pressing Shift+Enter) will list all files under the input directory\n",
    "\n",
    "import os\n",
    "import sys\n",
    "import pathlib\n",
    "\n",
    "from tqdm import tqdm\n",
    "\n",
    "import warnings\n",
    "warnings.filterwarnings(\"ignore\")\n",
    "# You can write up to 20GB to the current directory (/kaggle/working/) that gets preserved as output when you create a version using \"Save & Run All\" \n",
    "# You can also write temporary files to /kaggle/temp/, but they won't be saved outside of the current session"
   ]
  },
  {
   "cell_type": "markdown",
   "metadata": {
    "papermill": {
     "duration": 0.012028,
     "end_time": "2021-02-19T08:23:36.589991",
     "exception": false,
     "start_time": "2021-02-19T08:23:36.577963",
     "status": "completed"
    },
    "tags": []
   },
   "source": [
    "# Config"
   ]
  },
  {
   "cell_type": "code",
   "execution_count": 2,
   "metadata": {
    "execution": {
     "iopub.execute_input": "2021-02-19T08:23:36.618222Z",
     "iopub.status.busy": "2021-02-19T08:23:36.617574Z",
     "iopub.status.idle": "2021-02-19T08:23:36.621085Z",
     "shell.execute_reply": "2021-02-19T08:23:36.620669Z"
    },
    "papermill": {
     "duration": 0.018729,
     "end_time": "2021-02-19T08:23:36.621169",
     "exception": false,
     "start_time": "2021-02-19T08:23:36.602440",
     "status": "completed"
    },
    "tags": []
   },
   "outputs": [],
   "source": [
    "START_DATE = 86"
   ]
  },
  {
   "cell_type": "markdown",
   "metadata": {
    "papermill": {
     "duration": 0.012116,
     "end_time": "2021-02-19T08:23:36.645612",
     "exception": false,
     "start_time": "2021-02-19T08:23:36.633496",
     "status": "completed"
    },
    "tags": []
   },
   "source": [
    "### Loading the training data"
   ]
  },
  {
   "cell_type": "code",
   "execution_count": 3,
   "metadata": {
    "execution": {
     "iopub.execute_input": "2021-02-19T08:23:36.678795Z",
     "iopub.status.busy": "2021-02-19T08:23:36.678030Z",
     "iopub.status.idle": "2021-02-19T08:23:51.311791Z",
     "shell.execute_reply": "2021-02-19T08:23:51.310507Z"
    },
    "papermill": {
     "duration": 14.653946,
     "end_time": "2021-02-19T08:23:51.311926",
     "exception": false,
     "start_time": "2021-02-19T08:23:36.657980",
     "status": "completed"
    },
    "tags": []
   },
   "outputs": [],
   "source": [
    "train = pd.read_feather('../input/jane-street-save-as-feather/train.feather') # faster data load\n",
    "train = train.query(f'date >= {START_DATE}').reset_index(drop = True) \n",
    "train = train.astype({c: np.float32 for c in train.select_dtypes(include='float64').columns}) #limit memory use\n",
    "train.fillna(train.mean(),inplace=True)\n",
    "train = train.query('weight > 0').reset_index(drop = True)\n",
    "# train = train.query('weight != 0').reset_index(drop = True)\n",
    "#train['action'] = (train['resp'] > 0).astype('int')\n",
    "train['action'] =  (  (train['resp_1'] > 0 ) & (train['resp_2'] > 0 ) & (train['resp_3'] > 0 ) & (train['resp_4'] > 0 ) &  (train['resp'] > 0 )   ).astype('int')\n",
    "features = [c for c in train.columns if 'feature' in c]\n",
    "\n",
    "resp_cols = ['resp_1', 'resp_2', 'resp_3', 'resp', 'resp_4']"
   ]
  },
  {
   "cell_type": "markdown",
   "metadata": {
    "papermill": {
     "duration": 0.012666,
     "end_time": "2021-02-19T08:23:51.337617",
     "exception": false,
     "start_time": "2021-02-19T08:23:51.324951",
     "status": "completed"
    },
    "tags": []
   },
   "source": [
    "### PCA"
   ]
  },
  {
   "cell_type": "code",
   "execution_count": 4,
   "metadata": {
    "execution": {
     "iopub.execute_input": "2021-02-19T08:23:51.375111Z",
     "iopub.status.busy": "2021-02-19T08:23:51.374272Z",
     "iopub.status.idle": "2021-02-19T08:23:51.379653Z",
     "shell.execute_reply": "2021-02-19T08:23:51.380360Z"
    },
    "papermill": {
     "duration": 0.03037,
     "end_time": "2021-02-19T08:23:51.380522",
     "exception": false,
     "start_time": "2021-02-19T08:23:51.350152",
     "status": "completed"
    },
    "tags": []
   },
   "outputs": [
    {
     "data": {
      "text/plain": [
       "\"p = features\\np.append('resp')\\nlen(p)\""
      ]
     },
     "execution_count": 4,
     "metadata": {},
     "output_type": "execute_result"
    }
   ],
   "source": [
    "\"\"\"p = features\n",
    "p.append('resp')\n",
    "len(p)\"\"\""
   ]
  },
  {
   "cell_type": "code",
   "execution_count": 5,
   "metadata": {
    "execution": {
     "iopub.execute_input": "2021-02-19T08:23:51.434086Z",
     "iopub.status.busy": "2021-02-19T08:23:51.433020Z",
     "iopub.status.idle": "2021-02-19T08:23:51.440880Z",
     "shell.execute_reply": "2021-02-19T08:23:51.434895Z"
    },
    "papermill": {
     "duration": 0.041451,
     "end_time": "2021-02-19T08:23:51.441067",
     "exception": false,
     "start_time": "2021-02-19T08:23:51.399616",
     "status": "completed"
    },
    "tags": []
   },
   "outputs": [
    {
     "data": {
      "text/plain": [
       "'x = train[p].corr()\\ndel p'"
      ]
     },
     "execution_count": 5,
     "metadata": {},
     "output_type": "execute_result"
    }
   ],
   "source": [
    "\"\"\"x = train[p].corr()\n",
    "del p\"\"\""
   ]
  },
  {
   "cell_type": "code",
   "execution_count": 6,
   "metadata": {
    "execution": {
     "iopub.execute_input": "2021-02-19T08:23:51.496116Z",
     "iopub.status.busy": "2021-02-19T08:23:51.495127Z",
     "iopub.status.idle": "2021-02-19T08:23:51.499005Z",
     "shell.execute_reply": "2021-02-19T08:23:51.496968Z"
    },
    "papermill": {
     "duration": 0.035489,
     "end_time": "2021-02-19T08:23:51.499142",
     "exception": false,
     "start_time": "2021-02-19T08:23:51.463653",
     "status": "completed"
    },
    "tags": []
   },
   "outputs": [
    {
     "data": {
      "text/plain": [
       "'x = x.abs()\\nupper = x.where(np.triu(np.ones(x.shape), k=1).astype(np.bool))\\nto_drop = [column for column in upper.columns if any(upper[column] > 0.95)]\\nprint(to_drop)\\ndel x, upper'"
      ]
     },
     "execution_count": 6,
     "metadata": {},
     "output_type": "execute_result"
    }
   ],
   "source": [
    "\"\"\"x = x.abs()\n",
    "upper = x.where(np.triu(np.ones(x.shape), k=1).astype(np.bool))\n",
    "to_drop = [column for column in upper.columns if any(upper[column] > 0.95)]\n",
    "print(to_drop)\n",
    "del x, upper\"\"\""
   ]
  },
  {
   "cell_type": "code",
   "execution_count": 7,
   "metadata": {
    "execution": {
     "iopub.execute_input": "2021-02-19T08:23:51.553356Z",
     "iopub.status.busy": "2021-02-19T08:23:51.552479Z",
     "iopub.status.idle": "2021-02-19T08:23:51.556006Z",
     "shell.execute_reply": "2021-02-19T08:23:51.554105Z"
    },
    "papermill": {
     "duration": 0.030602,
     "end_time": "2021-02-19T08:23:51.556130",
     "exception": false,
     "start_time": "2021-02-19T08:23:51.525528",
     "status": "completed"
    },
    "tags": []
   },
   "outputs": [
    {
     "data": {
      "text/plain": [
       "'train.drop(to_drop, 1, inplace=True)\\ndel to_drop'"
      ]
     },
     "execution_count": 7,
     "metadata": {},
     "output_type": "execute_result"
    }
   ],
   "source": [
    "\"\"\"train.drop(to_drop, 1, inplace=True)\n",
    "del to_drop\"\"\""
   ]
  },
  {
   "cell_type": "code",
   "execution_count": 8,
   "metadata": {
    "execution": {
     "iopub.execute_input": "2021-02-19T08:23:51.607772Z",
     "iopub.status.busy": "2021-02-19T08:23:51.606895Z",
     "iopub.status.idle": "2021-02-19T08:23:52.720080Z",
     "shell.execute_reply": "2021-02-19T08:23:52.719474Z"
    },
    "papermill": {
     "duration": 1.141418,
     "end_time": "2021-02-19T08:23:52.720208",
     "exception": false,
     "start_time": "2021-02-19T08:23:51.578790",
     "status": "completed"
    },
    "tags": []
   },
   "outputs": [],
   "source": [
    "import sklearn\n",
    "from sklearn.model_selection import train_test_split"
   ]
  },
  {
   "cell_type": "code",
   "execution_count": 9,
   "metadata": {
    "execution": {
     "iopub.execute_input": "2021-02-19T08:23:53.008884Z",
     "iopub.status.busy": "2021-02-19T08:23:53.007539Z",
     "iopub.status.idle": "2021-02-19T08:23:55.871411Z",
     "shell.execute_reply": "2021-02-19T08:23:55.870885Z"
    },
    "papermill": {
     "duration": 3.133631,
     "end_time": "2021-02-19T08:23:55.871511",
     "exception": false,
     "start_time": "2021-02-19T08:23:52.737880",
     "status": "completed"
    },
    "tags": []
   },
   "outputs": [],
   "source": [
    "X = train[features].values\n",
    "y = train['action']\n",
    "\n",
    "f_mean = np.mean(train[features[1:]].values,axis=0)\n",
    "\n",
    "# Next, we hold out part of the training data to form the hold-out validation set\n",
    "train_x, valid_x, train_y, valid_y = train_test_split(X, y, test_size=0.2)\n",
    "del valid_x, valid_y"
   ]
  },
  {
   "cell_type": "markdown",
   "metadata": {
    "papermill": {
     "duration": 0.01456,
     "end_time": "2021-02-19T08:23:55.901536",
     "exception": false,
     "start_time": "2021-02-19T08:23:55.886976",
     "status": "completed"
    },
    "tags": []
   },
   "source": [
    "## Make a predictor with XGBoost using treelite"
   ]
  },
  {
   "cell_type": "code",
   "execution_count": 10,
   "metadata": {
    "execution": {
     "iopub.execute_input": "2021-02-19T08:23:55.936495Z",
     "iopub.status.busy": "2021-02-19T08:23:55.935713Z",
     "iopub.status.idle": "2021-02-19T08:24:24.130231Z",
     "shell.execute_reply": "2021-02-19T08:24:24.129701Z"
    },
    "papermill": {
     "duration": 28.213929,
     "end_time": "2021-02-19T08:24:24.130331",
     "exception": false,
     "start_time": "2021-02-19T08:23:55.916402",
     "status": "completed"
    },
    "tags": []
   },
   "outputs": [],
   "source": [
    "!pip --quiet install ../input/treelite/treelite-0.93-py3-none-manylinux2010_x86_64.whl"
   ]
  },
  {
   "cell_type": "code",
   "execution_count": 11,
   "metadata": {
    "execution": {
     "iopub.execute_input": "2021-02-19T08:24:24.198762Z",
     "iopub.status.busy": "2021-02-19T08:24:24.197968Z",
     "iopub.status.idle": "2021-02-19T08:24:50.711123Z",
     "shell.execute_reply": "2021-02-19T08:24:50.709728Z"
    },
    "papermill": {
     "duration": 26.533401,
     "end_time": "2021-02-19T08:24:50.711246",
     "exception": false,
     "start_time": "2021-02-19T08:24:24.177845",
     "status": "completed"
    },
    "tags": []
   },
   "outputs": [],
   "source": [
    "!pip --quiet install ../input/treelite/treelite_runtime-0.93-py3-none-manylinux2010_x86_64.whl"
   ]
  },
  {
   "cell_type": "code",
   "execution_count": 12,
   "metadata": {
    "execution": {
     "iopub.execute_input": "2021-02-19T08:24:50.745897Z",
     "iopub.status.busy": "2021-02-19T08:24:50.745358Z",
     "iopub.status.idle": "2021-02-19T08:24:51.027520Z",
     "shell.execute_reply": "2021-02-19T08:24:51.026965Z"
    },
    "papermill": {
     "duration": 0.301338,
     "end_time": "2021-02-19T08:24:51.027628",
     "exception": false,
     "start_time": "2021-02-19T08:24:50.726290",
     "status": "completed"
    },
    "tags": []
   },
   "outputs": [
    {
     "data": {
      "text/html": [
       "<style type='text/css'>\n",
       ".datatable table.frame { margin-bottom: 0; }\n",
       ".datatable table.frame thead { border-bottom: none; }\n",
       ".datatable table.frame tr.coltypes td {  color: #FFFFFF;  line-height: 6px;  padding: 0 0.5em;}\n",
       ".datatable .bool    { background: #DDDD99; }\n",
       ".datatable .object  { background: #565656; }\n",
       ".datatable .int     { background: #5D9E5D; }\n",
       ".datatable .float   { background: #4040CC; }\n",
       ".datatable .str     { background: #CC4040; }\n",
       ".datatable .row_index {  background: var(--jp-border-color3);  border-right: 1px solid var(--jp-border-color0);  color: var(--jp-ui-font-color3);  font-size: 9px;}\n",
       ".datatable .frame tr.coltypes .row_index {  background: var(--jp-border-color0);}\n",
       ".datatable th:nth-child(2) { padding-left: 12px; }\n",
       ".datatable .hellipsis {  color: var(--jp-cell-editor-border-color);}\n",
       ".datatable .vellipsis {  background: var(--jp-layout-color0);  color: var(--jp-cell-editor-border-color);}\n",
       ".datatable .na {  color: var(--jp-cell-editor-border-color);  font-size: 80%;}\n",
       ".datatable .footer { font-size: 9px; }\n",
       ".datatable .frame_dimensions {  background: var(--jp-border-color3);  border-top: 1px solid var(--jp-border-color0);  color: var(--jp-ui-font-color3);  display: inline-block;  opacity: 0.6;  padding: 1px 10px 1px 5px;}\n",
       "</style>\n"
      ],
      "text/plain": [
       "<IPython.core.display.HTML object>"
      ]
     },
     "metadata": {},
     "output_type": "display_data"
    }
   ],
   "source": [
    "import treelite\n",
    "import treelite_runtime\n",
    "import xgboost as xgb"
   ]
  },
  {
   "cell_type": "code",
   "execution_count": 13,
   "metadata": {
    "execution": {
     "iopub.execute_input": "2021-02-19T08:24:51.064920Z",
     "iopub.status.busy": "2021-02-19T08:24:51.063996Z",
     "iopub.status.idle": "2021-02-19T08:24:52.839127Z",
     "shell.execute_reply": "2021-02-19T08:24:52.839787Z"
    },
    "papermill": {
     "duration": 1.795652,
     "end_time": "2021-02-19T08:24:52.839988",
     "exception": false,
     "start_time": "2021-02-19T08:24:51.044336",
     "status": "completed"
    },
    "tags": []
   },
   "outputs": [],
   "source": [
    "# We create the XGboost-specific DMatrix data format from the numpy array. \n",
    "# This data structure is optimised for memory efficiency and training speed\n",
    "dtrain = xgb.DMatrix(train_x, label=train_y)"
   ]
  },
  {
   "cell_type": "code",
   "execution_count": 14,
   "metadata": {
    "execution": {
     "iopub.execute_input": "2021-02-19T08:24:52.900907Z",
     "iopub.status.busy": "2021-02-19T08:24:52.900044Z",
     "iopub.status.idle": "2021-02-19T08:29:01.187114Z",
     "shell.execute_reply": "2021-02-19T08:29:01.185774Z"
    },
    "papermill": {
     "duration": 248.319083,
     "end_time": "2021-02-19T08:29:01.187225",
     "exception": false,
     "start_time": "2021-02-19T08:24:52.868142",
     "status": "completed"
    },
    "tags": []
   },
   "outputs": [
    {
     "name": "stdout",
     "output_type": "stream",
     "text": [
      "[0]\ttrain-logloss:0.655752\n",
      "[1]\ttrain-logloss:0.622782\n",
      "[2]\ttrain-logloss:0.593733\n",
      "[3]\ttrain-logloss:0.567687\n",
      "[4]\ttrain-logloss:0.543443\n",
      "[5]\ttrain-logloss:0.521045\n",
      "[6]\ttrain-logloss:0.501288\n",
      "[7]\ttrain-logloss:0.481838\n",
      "[8]\ttrain-logloss:0.463446\n",
      "[9]\ttrain-logloss:0.446941\n",
      "[10]\ttrain-logloss:0.43146\n",
      "[11]\ttrain-logloss:0.416752\n",
      "[12]\ttrain-logloss:0.403764\n",
      "[13]\ttrain-logloss:0.38978\n",
      "[14]\ttrain-logloss:0.377676\n",
      "[15]\ttrain-logloss:0.366772\n",
      "[16]\ttrain-logloss:0.355307\n",
      "[17]\ttrain-logloss:0.346144\n",
      "[18]\ttrain-logloss:0.337368\n",
      "[19]\ttrain-logloss:0.329091\n",
      "[20]\ttrain-logloss:0.320345\n",
      "[21]\ttrain-logloss:0.312596\n",
      "[22]\ttrain-logloss:0.30561\n",
      "[23]\ttrain-logloss:0.299382\n",
      "[24]\ttrain-logloss:0.292468\n",
      "[25]\ttrain-logloss:0.286765\n",
      "[26]\ttrain-logloss:0.282191\n",
      "[27]\ttrain-logloss:0.277062\n",
      "[28]\ttrain-logloss:0.272558\n",
      "[29]\ttrain-logloss:0.26749\n",
      "[30]\ttrain-logloss:0.261801\n",
      "[31]\ttrain-logloss:0.257442\n",
      "[32]\ttrain-logloss:0.253523\n",
      "[33]\ttrain-logloss:0.249871\n",
      "[34]\ttrain-logloss:0.24629\n",
      "[35]\ttrain-logloss:0.243225\n",
      "[36]\ttrain-logloss:0.239291\n",
      "[37]\ttrain-logloss:0.236775\n",
      "[38]\ttrain-logloss:0.234299\n",
      "[39]\ttrain-logloss:0.231268\n",
      "[40]\ttrain-logloss:0.228573\n",
      "[41]\ttrain-logloss:0.225456\n",
      "[42]\ttrain-logloss:0.222788\n",
      "[43]\ttrain-logloss:0.219313\n",
      "[44]\ttrain-logloss:0.216181\n",
      "[45]\ttrain-logloss:0.212936\n",
      "[46]\ttrain-logloss:0.208713\n",
      "[47]\ttrain-logloss:0.206166\n",
      "[48]\ttrain-logloss:0.201742\n",
      "[49]\ttrain-logloss:0.200194\n",
      "[50]\ttrain-logloss:0.19632\n",
      "[51]\ttrain-logloss:0.193163\n",
      "[52]\ttrain-logloss:0.191222\n",
      "[53]\ttrain-logloss:0.188602\n",
      "[54]\ttrain-logloss:0.18746\n",
      "[55]\ttrain-logloss:0.183618\n",
      "[56]\ttrain-logloss:0.181496\n",
      "[57]\ttrain-logloss:0.179715\n",
      "[58]\ttrain-logloss:0.177769\n",
      "[59]\ttrain-logloss:0.176774\n",
      "[60]\ttrain-logloss:0.174447\n",
      "[61]\ttrain-logloss:0.173347\n",
      "[62]\ttrain-logloss:0.1719\n",
      "[63]\ttrain-logloss:0.168551\n",
      "[64]\ttrain-logloss:0.166987\n",
      "[65]\ttrain-logloss:0.165324\n",
      "[66]\ttrain-logloss:0.163007\n",
      "[67]\ttrain-logloss:0.161651\n",
      "[68]\ttrain-logloss:0.160325\n",
      "[69]\ttrain-logloss:0.158574\n",
      "[70]\ttrain-logloss:0.156225\n",
      "[71]\ttrain-logloss:0.154637\n",
      "[72]\ttrain-logloss:0.153281\n",
      "[73]\ttrain-logloss:0.151212\n",
      "[74]\ttrain-logloss:0.148883\n",
      "[75]\ttrain-logloss:0.146503\n",
      "[76]\ttrain-logloss:0.143893\n",
      "[77]\ttrain-logloss:0.142423\n",
      "[78]\ttrain-logloss:0.13988\n",
      "[79]\ttrain-logloss:0.138115\n",
      "[80]\ttrain-logloss:0.136268\n",
      "[81]\ttrain-logloss:0.133482\n",
      "[82]\ttrain-logloss:0.131721\n",
      "[83]\ttrain-logloss:0.1298\n",
      "[84]\ttrain-logloss:0.128683\n",
      "[85]\ttrain-logloss:0.127321\n",
      "[86]\ttrain-logloss:0.125559\n",
      "[87]\ttrain-logloss:0.1243\n",
      "[88]\ttrain-logloss:0.122456\n",
      "[89]\ttrain-logloss:0.121746\n",
      "[90]\ttrain-logloss:0.119446\n",
      "[91]\ttrain-logloss:0.118057\n",
      "[92]\ttrain-logloss:0.116746\n",
      "[93]\ttrain-logloss:0.115194\n",
      "[94]\ttrain-logloss:0.113677\n",
      "[95]\ttrain-logloss:0.111643\n",
      "[96]\ttrain-logloss:0.109912\n",
      "[97]\ttrain-logloss:0.108095\n",
      "[98]\ttrain-logloss:0.106731\n",
      "[99]\ttrain-logloss:0.10555\n"
     ]
    }
   ],
   "source": [
    "params = {\n",
    "        'n_estimators': 435,\n",
    "        'max_depth': 24,\n",
    "        'learning_rate': 0.09905592273886195,\n",
    "        'subsample': 0.8704369112806065,\n",
    "        'colsample_bytree': 0.9932309296458037,\n",
    "        'objective': 'binary:logistic',\n",
    "        'gamma': 7,\n",
    "        \"eval_metric\" : 'logloss',\n",
    "        'seed': 2021,\n",
    "        'tree_method': 'gpu_hist'\n",
    "        }\n",
    "bst = xgb.train(params, dtrain, 100, [(dtrain, 'train')])"
   ]
  },
  {
   "cell_type": "code",
   "execution_count": 15,
   "metadata": {
    "execution": {
     "iopub.execute_input": "2021-02-19T08:29:01.277876Z",
     "iopub.status.busy": "2021-02-19T08:29:01.276927Z",
     "iopub.status.idle": "2021-02-19T08:29:02.070233Z",
     "shell.execute_reply": "2021-02-19T08:29:02.069755Z"
    },
    "papermill": {
     "duration": 0.839568,
     "end_time": "2021-02-19T08:29:02.070338",
     "exception": false,
     "start_time": "2021-02-19T08:29:01.230770",
     "status": "completed"
    },
    "tags": []
   },
   "outputs": [],
   "source": [
    "# pass to treelite\n",
    "model = treelite.Model.from_xgboost(bst)"
   ]
  },
  {
   "cell_type": "code",
   "execution_count": 16,
   "metadata": {
    "execution": {
     "iopub.execute_input": "2021-02-19T08:29:02.194773Z",
     "iopub.status.busy": "2021-02-19T08:29:02.193967Z",
     "iopub.status.idle": "2021-02-19T08:30:26.310145Z",
     "shell.execute_reply": "2021-02-19T08:30:26.309653Z"
    },
    "papermill": {
     "duration": 84.197192,
     "end_time": "2021-02-19T08:30:26.310254",
     "exception": false,
     "start_time": "2021-02-19T08:29:02.113062",
     "status": "completed"
    },
    "tags": []
   },
   "outputs": [
    {
     "name": "stdout",
     "output_type": "stream",
     "text": [
      "[08:29:02] ../src/compiler/failsafe.cc:245: Using FailSafeCompiler\n",
      "[08:29:02] ../src/compiler/failsafe.cc:256: Warning: 'parallel_comp' parameter is not applicable for FailSafeCompiler\n",
      "[08:29:10] ../src/c_api/c_api.cc:286: Code generation finished. Writing code to files...\n",
      "[08:29:10] ../src/c_api/c_api.cc:291: Writing file recipe.json...\n",
      "[08:29:10] ../src/c_api/c_api.cc:291: Writing file header.h...\n",
      "[08:29:10] ../src/c_api/c_api.cc:291: Writing file main.c...\n",
      "[08:29:10] ../src/c_api/c_api.cc:291: Writing file arrays.c...\n",
      "[08:29:10] /opt/conda/lib/python3.7/site-packages/treelite/contrib/__init__.py:263: \u001b[1;31mWARNING: some of the source files are long. Expect long compilation time.\u001b[0m You may want to adjust the parameter \u001b[33mparallel_comp\u001b[0m.\n",
      "\n",
      "[08:29:10] /opt/conda/lib/python3.7/site-packages/treelite/contrib/util.py:104: Compiling sources files in directory ./tmpl9s3vfdq into object files (*.o)...\n",
      "[08:30:25] /opt/conda/lib/python3.7/site-packages/treelite/contrib/util.py:133: Generating dynamic shared library ./tmpl9s3vfdq/predictor.so...\n",
      "[08:30:26] /opt/conda/lib/python3.7/site-packages/treelite/contrib/__init__.py:278: Generated shared library in 75.43 seconds\n"
     ]
    }
   ],
   "source": [
    "# generate shared library\n",
    "toolchain = 'gcc'\n",
    "model.export_lib(toolchain=toolchain, libpath='./mymodel.so',compiler='failsafe',\n",
    "                     params={'parallel_comp': 32}, verbose=True)"
   ]
  },
  {
   "cell_type": "code",
   "execution_count": 17,
   "metadata": {
    "execution": {
     "iopub.execute_input": "2021-02-19T08:30:26.407824Z",
     "iopub.status.busy": "2021-02-19T08:30:26.406401Z",
     "iopub.status.idle": "2021-02-19T08:30:26.410685Z",
     "shell.execute_reply": "2021-02-19T08:30:26.411133Z"
    },
    "papermill": {
     "duration": 0.056079,
     "end_time": "2021-02-19T08:30:26.411237",
     "exception": false,
     "start_time": "2021-02-19T08:30:26.355158",
     "status": "completed"
    },
    "tags": []
   },
   "outputs": [
    {
     "name": "stdout",
     "output_type": "stream",
     "text": [
      "[08:30:26] ../src/predictor/predictor.cc:262: Dynamic shared library `/kaggle/working/mymodel.so' does not contain valid get_pred_transform() function\n",
      "[08:30:26] ../src/predictor/predictor.cc:276: Dynamic shared library `/kaggle/working/mymodel.so' does not contain valid get_sigmoid_alpha() function\n",
      "[08:30:26] ../src/predictor/predictor.cc:288: Dynamic shared library `/kaggle/working/mymodel.so' does not contain valid get_global_bias() function\n",
      "[08:30:26] /opt/conda/lib/python3.7/site-packages/treelite_runtime/predictor.py:311: Dynamic shared library /kaggle/working/mymodel.so has been successfully loaded into memory\n"
     ]
    }
   ],
   "source": [
    "# predictor from treelite\n",
    "predictor = treelite_runtime.Predictor('./mymodel.so', verbose=True)"
   ]
  },
  {
   "cell_type": "code",
   "execution_count": 18,
   "metadata": {
    "execution": {
     "iopub.execute_input": "2021-02-19T08:30:26.579190Z",
     "iopub.status.busy": "2021-02-19T08:30:26.577683Z",
     "iopub.status.idle": "2021-02-19T08:30:26.581339Z",
     "shell.execute_reply": "2021-02-19T08:30:26.582742Z"
    },
    "papermill": {
     "duration": 0.092134,
     "end_time": "2021-02-19T08:30:26.582915",
     "exception": false,
     "start_time": "2021-02-19T08:30:26.490781",
     "status": "completed"
    },
    "tags": []
   },
   "outputs": [
    {
     "data": {
      "text/plain": [
       "'import janestreet\\nenv = janestreet.make_env() # initialize the environment\\niter_test = env.iter_test() # an iterator which loops over the test set'"
      ]
     },
     "execution_count": 18,
     "metadata": {},
     "output_type": "execute_result"
    }
   ],
   "source": [
    "\"\"\"import janestreet\n",
    "env = janestreet.make_env() # initialize the environment\n",
    "iter_test = env.iter_test() # an iterator which loops over the test set\"\"\""
   ]
  },
  {
   "cell_type": "code",
   "execution_count": 19,
   "metadata": {
    "execution": {
     "iopub.execute_input": "2021-02-19T08:30:26.721415Z",
     "iopub.status.busy": "2021-02-19T08:30:26.720258Z",
     "iopub.status.idle": "2021-02-19T08:30:26.723381Z",
     "shell.execute_reply": "2021-02-19T08:30:26.724212Z"
    },
    "papermill": {
     "duration": 0.060672,
     "end_time": "2021-02-19T08:30:26.724317",
     "exception": false,
     "start_time": "2021-02-19T08:30:26.663645",
     "status": "completed"
    },
    "tags": []
   },
   "outputs": [
    {
     "data": {
      "text/plain": [
       "'TRADING_THRESHOLD = 0.50'"
      ]
     },
     "execution_count": 19,
     "metadata": {},
     "output_type": "execute_result"
    }
   ],
   "source": [
    "\"\"\"TRADING_THRESHOLD = 0.50\"\"\""
   ]
  },
  {
   "cell_type": "code",
   "execution_count": 20,
   "metadata": {
    "execution": {
     "iopub.execute_input": "2021-02-19T08:30:26.819189Z",
     "iopub.status.busy": "2021-02-19T08:30:26.818613Z",
     "iopub.status.idle": "2021-02-19T08:30:26.823685Z",
     "shell.execute_reply": "2021-02-19T08:30:26.824231Z"
    },
    "papermill": {
     "duration": 0.05435,
     "end_time": "2021-02-19T08:30:26.824329",
     "exception": false,
     "start_time": "2021-02-19T08:30:26.769979",
     "status": "completed"
    },
    "tags": []
   },
   "outputs": [
    {
     "data": {
      "text/plain": [
       "\"for (test_df, pred_df) in tqdm(iter_test):\\n    if test_df['weight'].item() > 0:\\n        # inference with treelite\\n        batch = treelite_runtime.Batch.from_npy2d(test_df[features].values)\\n        pred_df.action = (predictor.predict(batch) > TRADING_THRESHOLD).astype('int')\\n    else:\\n        pred_df.action = 0\\n    env.predict(pred_df)\""
      ]
     },
     "execution_count": 20,
     "metadata": {},
     "output_type": "execute_result"
    }
   ],
   "source": [
    "\"\"\"for (test_df, pred_df) in tqdm(iter_test):\n",
    "    if test_df['weight'].item() > 0:\n",
    "        # inference with treelite\n",
    "        batch = treelite_runtime.Batch.from_npy2d(test_df[features].values)\n",
    "        pred_df.action = (predictor.predict(batch) > TRADING_THRESHOLD).astype('int')\n",
    "    else:\n",
    "        pred_df.action = 0\n",
    "    env.predict(pred_df)\"\"\""
   ]
  }
 ],
 "metadata": {
  "kernelspec": {
   "display_name": "Python 3",
   "language": "python",
   "name": "python3"
  },
  "language_info": {
   "codemirror_mode": {
    "name": "ipython",
    "version": 3
   },
   "file_extension": ".py",
   "mimetype": "text/x-python",
   "name": "python",
   "nbconvert_exporter": "python",
   "pygments_lexer": "ipython3",
   "version": "3.7.6"
  },
  "papermill": {
   "duration": 416.072637,
   "end_time": "2021-02-19T08:30:28.327081",
   "environment_variables": {},
   "exception": null,
   "input_path": "__notebook__.ipynb",
   "output_path": "__notebook__.ipynb",
   "parameters": {},
   "start_time": "2021-02-19T08:23:32.254444",
   "version": "2.1.0"
  }
 },
 "nbformat": 4,
 "nbformat_minor": 4
}
