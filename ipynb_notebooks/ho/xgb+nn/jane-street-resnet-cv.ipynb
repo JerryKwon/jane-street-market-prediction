{
 "cells": [
  {
   "cell_type": "code",
   "execution_count": 1,
   "metadata": {
    "_cell_guid": "b1076dfc-b9ad-4769-8c92-a6c4dae69d19",
    "_uuid": "8f2839f25d086af736a60e9eeb907d3b93b6e0e5",
    "execution": {
     "iopub.execute_input": "2021-02-18T13:03:17.252654Z",
     "iopub.status.busy": "2021-02-18T13:03:17.251911Z",
     "iopub.status.idle": "2021-02-18T13:03:24.272182Z",
     "shell.execute_reply": "2021-02-18T13:03:24.271472Z"
    },
    "papermill": {
     "duration": 7.046542,
     "end_time": "2021-02-18T13:03:24.272326",
     "exception": false,
     "start_time": "2021-02-18T13:03:17.225784",
     "status": "completed"
    },
    "tags": []
   },
   "outputs": [],
   "source": [
    "# This Python 3 environment comes with many helpful analytics libraries installed\n",
    "# It is defined by the kaggle/python Docker image: https://github.com/kaggle/docker-python\n",
    "# For example, here's several helpful packages to load\n",
    "\n",
    "import numpy as np # linear algebra\n",
    "import pandas as pd # data processing, CSV file I/O (e.g. pd.read_csv)\n",
    "\n",
    "# Input data files are available in the read-only \"../input/\" directory\n",
    "# For example, running this (by clicking run or pressing Shift+Enter) will list all files under the input directory\n",
    "\n",
    "import os\n",
    "\n",
    "import tensorflow as tf\n",
    "import tensorflow_addons as tfa\n",
    "\n",
    "import sklearn\n",
    "from sklearn import model_selection\n",
    "from sklearn.model_selection import GroupKFold\n",
    "from sklearn.model_selection import train_test_split\n",
    "from sklearn.model_selection import KFold\n",
    "from sklearn.model_selection._split import _BaseKFold, indexable, _num_samples\n",
    "from sklearn.utils.validation import _deprecate_positional_args\n",
    "\n",
    "from tqdm import tqdm\n",
    "import random\n",
    "from random import choices\n",
    "\n",
    "from collections import Counter, defaultdict\n",
    "\n",
    "import warnings\n",
    "warnings.filterwarnings(\"ignore\")\n",
    "# You can write up to 20GB to the current directory (/kaggle/working/) that gets preserved as output when you create a version using \"Save & Run All\" \n",
    "# You can also write temporary files to /kaggle/temp/, but they won't be saved outside of the current session"
   ]
  },
  {
   "cell_type": "code",
   "execution_count": 2,
   "metadata": {
    "execution": {
     "iopub.execute_input": "2021-02-18T13:03:24.311310Z",
     "iopub.status.busy": "2021-02-18T13:03:24.310364Z",
     "iopub.status.idle": "2021-02-18T13:03:24.314803Z",
     "shell.execute_reply": "2021-02-18T13:03:24.315524Z"
    },
    "papermill": {
     "duration": 0.028458,
     "end_time": "2021-02-18T13:03:24.315734",
     "exception": false,
     "start_time": "2021-02-18T13:03:24.287276",
     "status": "completed"
    },
    "tags": []
   },
   "outputs": [
    {
     "name": "stdout",
     "output_type": "stream",
     "text": [
      "Tensorflow version 2.3.1\n",
      "Accelerated Linear Algebra enabled\n"
     ]
    }
   ],
   "source": [
    "# tf setup\n",
    "print(\"Tensorflow version \" + tf.__version__)\n",
    "AUTO = tf.data.experimental.AUTOTUNE\n",
    "\n",
    "MIXED_PRECISION = False\n",
    "XLA_ACCELERATE = True\n",
    "\n",
    "if MIXED_PRECISION:\n",
    "    from tensorflow.keras.mixed_precision import experimental as mixed_precision\n",
    "    if tpu: policy = tf.keras.mixed_precision.experimental.Policy('mixed_bfloat16')\n",
    "    else: policy = tf.keras.mixed_precision.experimental.Policy('mixed_float16')\n",
    "    mixed_precision.set_policy(policy)\n",
    "    print('Mixed precision enabled')\n",
    "\n",
    "if XLA_ACCELERATE:\n",
    "    tf.config.optimizer.set_jit(True)\n",
    "    print('Accelerated Linear Algebra enabled')"
   ]
  },
  {
   "cell_type": "markdown",
   "metadata": {
    "papermill": {
     "duration": 0.014729,
     "end_time": "2021-02-18T13:03:24.346757",
     "exception": false,
     "start_time": "2021-02-18T13:03:24.332028",
     "status": "completed"
    },
    "tags": []
   },
   "source": [
    "# Config"
   ]
  },
  {
   "cell_type": "code",
   "execution_count": 3,
   "metadata": {
    "execution": {
     "iopub.execute_input": "2021-02-18T13:03:24.381401Z",
     "iopub.status.busy": "2021-02-18T13:03:24.380613Z",
     "iopub.status.idle": "2021-02-18T13:03:24.384487Z",
     "shell.execute_reply": "2021-02-18T13:03:24.383922Z"
    },
    "papermill": {
     "duration": 0.023472,
     "end_time": "2021-02-18T13:03:24.384589",
     "exception": false,
     "start_time": "2021-02-18T13:03:24.361117",
     "status": "completed"
    },
    "tags": []
   },
   "outputs": [],
   "source": [
    "CV_STRATEGY = 'StratifiedGroupKFold' # 'StratifiedGroupKFold' # GroupKFold, PurgedGroupTimeSeriesSplit\n",
    "SEED = 2021\n",
    "START_DATE = 86\n",
    "FOLDS = 5\n",
    "DEBUG = False"
   ]
  },
  {
   "cell_type": "markdown",
   "metadata": {
    "papermill": {
     "duration": 0.014199,
     "end_time": "2021-02-18T13:03:24.413200",
     "exception": false,
     "start_time": "2021-02-18T13:03:24.399001",
     "status": "completed"
    },
    "tags": []
   },
   "source": [
    "# CV Strategy\n",
    "\n",
    "## PurgedGroupTimeSeriesSplit\n",
    "Click the code button to see. "
   ]
  },
  {
   "cell_type": "code",
   "execution_count": 4,
   "metadata": {
    "_kg_hide-input": true,
    "_kg_hide-output": true,
    "execution": {
     "iopub.execute_input": "2021-02-18T13:03:24.471442Z",
     "iopub.status.busy": "2021-02-18T13:03:24.469713Z",
     "iopub.status.idle": "2021-02-18T13:03:24.472326Z",
     "shell.execute_reply": "2021-02-18T13:03:24.472828Z"
    },
    "papermill": {
     "duration": 0.045113,
     "end_time": "2021-02-18T13:03:24.472967",
     "exception": false,
     "start_time": "2021-02-18T13:03:24.427854",
     "status": "completed"
    },
    "tags": []
   },
   "outputs": [],
   "source": [
    "# modified code for group gaps; source\n",
    "# https://github.com/getgaurav2/scikit-learn/blob/d4a3af5cc9da3a76f0266932644b884c99724c57/sklearn/model_selection/_split.py#L2243\n",
    "class PurgedGroupTimeSeriesSplit(_BaseKFold):\n",
    "    \"\"\"Time Series cross-validator variant with non-overlapping groups.\n",
    "    Allows for a gap in groups to avoid potentially leaking info from\n",
    "    train into test if the model has windowed or lag features.\n",
    "    Provides train/test indices to split time series data samples\n",
    "    that are observed at fixed time intervals according to a\n",
    "    third-party provided group.\n",
    "    In each split, test indices must be higher than before, and thus shuffling\n",
    "    in cross validator is inappropriate.\n",
    "    This cross-validation object is a variation of :class:`KFold`.\n",
    "    In the kth split, it returns first k folds as train set and the\n",
    "    (k+1)th fold as test set.\n",
    "    The same group will not appear in two different folds (the number of\n",
    "    distinct groups has to be at least equal to the number of folds).\n",
    "    Note that unlike standard cross-validation methods, successive\n",
    "    training sets are supersets of those that come before them.\n",
    "    Read more in the :ref:`User Guide <cross_validation>`.\n",
    "    Parameters\n",
    "    ----------\n",
    "    n_splits : int, default=5\n",
    "        Number of splits. Must be at least 2.\n",
    "    max_train_group_size : int, default=Inf\n",
    "        Maximum group size for a single training set.\n",
    "    group_gap : int, default=None\n",
    "        Gap between train and test\n",
    "    max_test_group_size : int, default=Inf\n",
    "        We discard this number of groups from the end of each train split\n",
    "    \"\"\"\n",
    "\n",
    "    @_deprecate_positional_args\n",
    "    def __init__(self,\n",
    "                 n_splits=5,\n",
    "                 *,\n",
    "                 max_train_group_size=np.inf,\n",
    "                 max_test_group_size=np.inf,\n",
    "                 group_gap=None,\n",
    "                 verbose=False\n",
    "                 ):\n",
    "        super().__init__(n_splits, shuffle=False, random_state=None)\n",
    "        self.max_train_group_size = max_train_group_size\n",
    "        self.group_gap = group_gap\n",
    "        self.max_test_group_size = max_test_group_size\n",
    "        self.verbose = verbose\n",
    "\n",
    "    def split(self, X, y=None, groups=None):\n",
    "        \"\"\"Generate indices to split data into training and test set.\n",
    "        Parameters\n",
    "        ----------\n",
    "        X : array-like of shape (n_samples, n_features)\n",
    "            Training data, where n_samples is the number of samples\n",
    "            and n_features is the number of features.\n",
    "        y : array-like of shape (n_samples,)\n",
    "            Always ignored, exists for compatibility.\n",
    "        groups : array-like of shape (n_samples,)\n",
    "            Group labels for the samples used while splitting the dataset into\n",
    "            train/test set.\n",
    "        Yields\n",
    "        ------\n",
    "        train : ndarray\n",
    "            The training set indices for that split.\n",
    "        test : ndarray\n",
    "            The testing set indices for that split.\n",
    "        \"\"\"\n",
    "        if groups is None:\n",
    "            raise ValueError(\n",
    "                \"The 'groups' parameter should not be None\")\n",
    "        X, y, groups = indexable(X, y, groups)\n",
    "        n_samples = _num_samples(X)\n",
    "        n_splits = self.n_splits\n",
    "        group_gap = self.group_gap\n",
    "        max_test_group_size = self.max_test_group_size\n",
    "        max_train_group_size = self.max_train_group_size\n",
    "        n_folds = n_splits + 1\n",
    "        group_dict = {}\n",
    "        u, ind = np.unique(groups, return_index=True)\n",
    "        unique_groups = u[np.argsort(ind)]\n",
    "        n_samples = _num_samples(X)\n",
    "        n_groups = _num_samples(unique_groups)\n",
    "        for idx in np.arange(n_samples):\n",
    "            if (groups[idx] in group_dict):\n",
    "                group_dict[groups[idx]].append(idx)\n",
    "            else:\n",
    "                group_dict[groups[idx]] = [idx]\n",
    "        if n_folds > n_groups:\n",
    "            raise ValueError(\n",
    "                (\"Cannot have number of folds={0} greater than\"\n",
    "                 \" the number of groups={1}\").format(n_folds,\n",
    "                                                     n_groups))\n",
    "\n",
    "        group_test_size = min(n_groups // n_folds, max_test_group_size)\n",
    "        group_test_starts = range(n_groups - n_splits * group_test_size,\n",
    "                                  n_groups, group_test_size)\n",
    "        for group_test_start in group_test_starts:\n",
    "            train_array = []\n",
    "            test_array = []\n",
    "\n",
    "            group_st = max(0, group_test_start - group_gap - max_train_group_size)\n",
    "            for train_group_idx in unique_groups[group_st:(group_test_start - group_gap)]:\n",
    "                train_array_tmp = group_dict[train_group_idx]\n",
    "                \n",
    "                train_array = np.sort(np.unique(\n",
    "                                      np.concatenate((train_array,\n",
    "                                                      train_array_tmp)),\n",
    "                                      axis=None), axis=None)\n",
    "\n",
    "            train_end = train_array.size\n",
    " \n",
    "            for test_group_idx in unique_groups[group_test_start:\n",
    "                                                group_test_start +\n",
    "                                                group_test_size]:\n",
    "                test_array_tmp = group_dict[test_group_idx]\n",
    "                test_array = np.sort(np.unique(\n",
    "                                              np.concatenate((test_array,\n",
    "                                                              test_array_tmp)),\n",
    "                                     axis=None), axis=None)\n",
    "\n",
    "            test_array  = test_array[group_gap:]\n",
    "            \n",
    "            \n",
    "            if self.verbose > 0:\n",
    "                    pass\n",
    "                    \n",
    "            yield [int(i) for i in train_array], [int(i) for i in test_array]"
   ]
  },
  {
   "cell_type": "markdown",
   "metadata": {
    "papermill": {
     "duration": 0.014643,
     "end_time": "2021-02-18T13:03:24.502132",
     "exception": false,
     "start_time": "2021-02-18T13:03:24.487489",
     "status": "completed"
    },
    "tags": []
   },
   "source": [
    "## GroupKFold, StratifiedGroupKFold"
   ]
  },
  {
   "cell_type": "code",
   "execution_count": 5,
   "metadata": {
    "execution": {
     "iopub.execute_input": "2021-02-18T13:03:24.563552Z",
     "iopub.status.busy": "2021-02-18T13:03:24.556521Z",
     "iopub.status.idle": "2021-02-18T13:03:24.566302Z",
     "shell.execute_reply": "2021-02-18T13:03:24.565680Z"
    },
    "papermill": {
     "duration": 0.049381,
     "end_time": "2021-02-18T13:03:24.566412",
     "exception": false,
     "start_time": "2021-02-18T13:03:24.517031",
     "status": "completed"
    },
    "tags": []
   },
   "outputs": [],
   "source": [
    "# ---- GroupKFold ----\n",
    "class GroupKFold(object):\n",
    "    \"\"\"\n",
    "    GroupKFold with random shuffle with a sklearn-like structure\n",
    "    \"\"\"\n",
    "\n",
    "    def __init__(self, n_splits=4, shuffle=True, random_state=42):\n",
    "        self.n_splits = n_splits\n",
    "        self.shuffle = shuffle\n",
    "        self.random_state = random_state\n",
    "\n",
    "    def get_n_splits(self, X=None, y=None, group=None):\n",
    "        return self.n_splits\n",
    "\n",
    "    def split(self, X, y, group):\n",
    "        kf = model_selection.KFold(n_splits=self.n_splits, shuffle=self.shuffle, random_state=self.random_state)\n",
    "        unique_ids = X[group].unique()\n",
    "        for fold, (tr_group_idx, va_group_idx) in enumerate(kf.split(unique_ids)):\n",
    "            # split group\n",
    "            tr_group, va_group = unique_ids[tr_group_idx], unique_ids[va_group_idx]\n",
    "            train_idx = np.where(X[group].isin(tr_group))[0]\n",
    "            val_idx = np.where(X[group].isin(va_group))[0]\n",
    "            yield train_idx, val_idx\n",
    "\n",
    "# ---- StratifiedGroupKFold ----\n",
    "class StratifiedGroupKFold(object):\n",
    "    \"\"\"\n",
    "    StratifiedGroupKFold with random shuffle with a sklearn-like structure\n",
    "    \"\"\"\n",
    "\n",
    "    def __init__(self, n_splits=4, shuffle=True, random_state=42):\n",
    "        self.n_splits = n_splits\n",
    "        self.shuffle = shuffle\n",
    "        self.random_state = random_state\n",
    "\n",
    "    def get_n_splits(self, X=None, y=None, group=None):\n",
    "        return self.n_splits\n",
    "\n",
    "    def split(self, X, y, group):\n",
    "        labels_num = np.max(y) + 1\n",
    "        y_counts_per_group = defaultdict(lambda: np.zeros(labels_num))\n",
    "        y_distr = Counter()\n",
    "        groups = X[group].values\n",
    "        for label, g in zip(y, groups):\n",
    "            y_counts_per_group[g][label] += 1\n",
    "            y_distr[label] += 1\n",
    "\n",
    "        y_counts_per_fold = defaultdict(lambda: np.zeros(labels_num))\n",
    "        groups_per_fold = defaultdict(set)\n",
    "\n",
    "        def eval_y_counts_per_fold(y_counts, fold):\n",
    "            y_counts_per_fold[fold] += y_counts\n",
    "            std_per_label = []\n",
    "            for label in range(labels_num):\n",
    "                label_std = np.std([y_counts_per_fold[i][label] / y_distr[label] for i in range(self.n_splits)])\n",
    "                std_per_label.append(label_std)\n",
    "            y_counts_per_fold[fold] -= y_counts\n",
    "            return np.mean(std_per_label)\n",
    "        \n",
    "        groups_and_y_counts = list(y_counts_per_group.items())\n",
    "        random.Random(self.random_state).shuffle(groups_and_y_counts)\n",
    "\n",
    "        for g, y_counts in sorted(groups_and_y_counts, key=lambda x: -np.std(x[1])):\n",
    "            best_fold = None\n",
    "            min_eval = None\n",
    "            for i in range(self.n_splits):\n",
    "                fold_eval = eval_y_counts_per_fold(y_counts, i)\n",
    "                if min_eval is None or fold_eval < min_eval:\n",
    "                    min_eval = fold_eval\n",
    "                    best_fold = i\n",
    "            y_counts_per_fold[best_fold] += y_counts\n",
    "            groups_per_fold[best_fold].add(g)\n",
    "\n",
    "        all_groups = set(groups)\n",
    "        for i in range(self.n_splits):\n",
    "            train_groups = all_groups - groups_per_fold[i]\n",
    "            test_groups = groups_per_fold[i]\n",
    "\n",
    "            train_idx = [i for i, g in enumerate(groups) if g in train_groups]\n",
    "            test_idx = [i for i, g in enumerate(groups) if g in test_groups]\n",
    "\n",
    "            yield train_idx, test_idx"
   ]
  },
  {
   "cell_type": "markdown",
   "metadata": {
    "papermill": {
     "duration": 0.01519,
     "end_time": "2021-02-18T13:03:24.597143",
     "exception": false,
     "start_time": "2021-02-18T13:03:24.581953",
     "status": "completed"
    },
    "tags": []
   },
   "source": [
    "### Loading the training data"
   ]
  },
  {
   "cell_type": "code",
   "execution_count": 6,
   "metadata": {
    "execution": {
     "iopub.execute_input": "2021-02-18T13:03:24.639061Z",
     "iopub.status.busy": "2021-02-18T13:03:24.638008Z",
     "iopub.status.idle": "2021-02-18T13:03:36.668350Z",
     "shell.execute_reply": "2021-02-18T13:03:36.667226Z"
    },
    "papermill": {
     "duration": 12.05609,
     "end_time": "2021-02-18T13:03:36.668481",
     "exception": false,
     "start_time": "2021-02-18T13:03:24.612391",
     "status": "completed"
    },
    "tags": []
   },
   "outputs": [],
   "source": [
    "train = pd.read_feather('../input/jane-street-save-as-feather/train.feather') # faster data load\n",
    "train = train.query(f'date >= {START_DATE}').reset_index(drop = True) \n",
    "train = train.astype({c: np.float32 for c in train.select_dtypes(include='float64').columns}) #limit memory use\n",
    "train.fillna(train.mean(),inplace=True)\n",
    "train = train.query('weight > 0').reset_index(drop = True)\n",
    "#train = train.query('weight != 0').reset_index(drop = True)\n",
    "#train['action'] = (train['resp'] > 0).astype('int')\n",
    "train['action'] =  (  (train['resp_1'] > 0 ) & (train['resp_2'] > 0 ) & (train['resp_3'] > 0 ) & (train['resp_4'] > 0 ) &  (train['resp'] > 0 )   ).astype('int')\n",
    "features = [c for c in train.columns if 'feature' in c]\n",
    "resp_cols = ['resp_1', 'resp_2', 'resp_3', 'resp', 'resp_4']"
   ]
  },
  {
   "cell_type": "code",
   "execution_count": 7,
   "metadata": {
    "execution": {
     "iopub.execute_input": "2021-02-18T13:03:36.963929Z",
     "iopub.status.busy": "2021-02-18T13:03:36.962430Z",
     "iopub.status.idle": "2021-02-18T13:03:37.638282Z",
     "shell.execute_reply": "2021-02-18T13:03:37.636947Z"
    },
    "papermill": {
     "duration": 0.953307,
     "end_time": "2021-02-18T13:03:37.638418",
     "exception": false,
     "start_time": "2021-02-18T13:03:36.685111",
     "status": "completed"
    },
    "tags": []
   },
   "outputs": [],
   "source": [
    "if DEBUG:\n",
    "    train = train.sample(10000, random_state=SEED)\n",
    "\n",
    "X = train[features].values\n",
    "y = np.stack([(train[c] > 0).astype('int') for c in resp_cols]).T #Multitarget\n",
    "\n",
    "f_mean = np.mean(train[features[1:]].values,axis=0)"
   ]
  },
  {
   "cell_type": "markdown",
   "metadata": {
    "papermill": {
     "duration": 0.016092,
     "end_time": "2021-02-18T13:03:37.671093",
     "exception": false,
     "start_time": "2021-02-18T13:03:37.655001",
     "status": "completed"
    },
    "tags": []
   },
   "source": [
    "### Creating Autoencoder"
   ]
  },
  {
   "cell_type": "code",
   "execution_count": 8,
   "metadata": {
    "execution": {
     "iopub.execute_input": "2021-02-18T13:03:37.719320Z",
     "iopub.status.busy": "2021-02-18T13:03:37.717338Z",
     "iopub.status.idle": "2021-02-18T13:03:37.720017Z",
     "shell.execute_reply": "2021-02-18T13:03:37.720513Z"
    },
    "papermill": {
     "duration": 0.032754,
     "end_time": "2021-02-18T13:03:37.720654",
     "exception": false,
     "start_time": "2021-02-18T13:03:37.687900",
     "status": "completed"
    },
    "tags": []
   },
   "outputs": [],
   "source": [
    "def create_autoencoder(input_dim,output_dim,noise=0.05):\n",
    "    i = tf.keras.layers.Input(input_dim)\n",
    "    encoded = tf.keras.layers.BatchNormalization()(i)\n",
    "    encoded = tf.keras.layers.GaussianNoise(noise)(encoded)\n",
    "    encoded = tf.keras.layers.Dense(64,activation='relu')(encoded)\n",
    "    decoded = tf.keras.layers.Dropout(0.2)(encoded)\n",
    "    decoded = tf.keras.layers.Dense(input_dim,name='decoded')(decoded)\n",
    "    x = tf.keras.layers.Dense(32,activation='relu')(decoded)\n",
    "    x = tf.keras.layers.BatchNormalization()(x)\n",
    "    x = tf.keras.layers.Dropout(0.2)(x)\n",
    "    x = tf.keras.layers.Dense(output_dim,activation='sigmoid',name='label_output')(x)\n",
    "    \n",
    "    encoder = tf.keras.models.Model(inputs=i,outputs=encoded)\n",
    "    autoencoder = tf.keras.models.Model(inputs=i,outputs=[decoded,x])\n",
    "    \n",
    "    autoencoder.compile(optimizer=tf.keras.optimizers.Adam(0.001), \n",
    "                        loss={'decoded':'mse','label_output':'binary_crossentropy'})\n",
    "    return autoencoder, encoder"
   ]
  },
  {
   "cell_type": "code",
   "execution_count": 9,
   "metadata": {
    "execution": {
     "iopub.execute_input": "2021-02-18T13:03:37.776641Z",
     "iopub.status.busy": "2021-02-18T13:03:37.774645Z",
     "iopub.status.idle": "2021-02-18T13:03:37.777395Z",
     "shell.execute_reply": "2021-02-18T13:03:37.777888Z"
    },
    "papermill": {
     "duration": 0.042261,
     "end_time": "2021-02-18T13:03:37.778016",
     "exception": false,
     "start_time": "2021-02-18T13:03:37.735755",
     "status": "completed"
    },
    "tags": []
   },
   "outputs": [],
   "source": [
    "def create_resnet(n_features, n_labels, encoder, label_smoothing = 0.0005):    \n",
    "    input_1 = tf.keras.layers.Input(shape = (n_features,))\n",
    "    input_2 = encoder(input_1)\n",
    "\n",
    "    head_1 = tf.keras.Sequential([\n",
    "        tf.keras.layers.BatchNormalization(),\n",
    "        tf.keras.layers.Dense(512, activation=\"elu\"), \n",
    "        tf.keras.layers.BatchNormalization(),\n",
    "        tf.keras.layers.Dropout(0.4),\n",
    "        tf.keras.layers.Dense(256, activation = \"elu\")\n",
    "        ],name='Head1') \n",
    "\n",
    "    input_3 = head_1(input_1)\n",
    "    input_3_concat = tf.keras.layers.Concatenate()([input_2, input_3])\n",
    "\n",
    "    head_2 = tf.keras.Sequential([\n",
    "        tf.keras.layers.BatchNormalization(),\n",
    "        tf.keras.layers.Dense(512, \"relu\"),\n",
    "        tf.keras.layers.BatchNormalization(),\n",
    "        tf.keras.layers.Dropout(0.3),\n",
    "        tf.keras.layers.Dense(512, \"elu\"),\n",
    "        tf.keras.layers.BatchNormalization(),\n",
    "        tf.keras.layers.Dropout(0.3),\n",
    "        tf.keras.layers.Dense(256, \"relu\"),\n",
    "        tf.keras.layers.BatchNormalization(),\n",
    "        tf.keras.layers.Dropout(0.3),\n",
    "        tf.keras.layers.Dense(256, \"elu\")\n",
    "        ],name='Head2')\n",
    "\n",
    "    input_4 = head_2(input_3_concat)\n",
    "    input_4_avg = tf.keras.layers.Average()([input_3, input_4]) \n",
    "\n",
    "    head_3 = tf.keras.Sequential([\n",
    "        tf.keras.layers.BatchNormalization(),\n",
    "        tf.keras.layers.Dense(256, kernel_initializer='lecun_normal', activation='selu'),\n",
    "        tf.keras.layers.BatchNormalization(),\n",
    "        tf.keras.layers.Dropout(0.2),\n",
    "        tf.keras.layers.Dense(128, kernel_initializer='lecun_normal', activation='selu'),\n",
    "        tf.keras.layers.BatchNormalization(),\n",
    "        tf.keras.layers.Dropout(0.2),\n",
    "        tf.keras.layers.Lambda(lambda x: tf.math.l2_normalize(x, axis=1), name='l2_norm'),\n",
    "        tf.keras.layers.Dense(n_labels, activation=\"sigmoid\")\n",
    "        ],name='Head3')\n",
    "\n",
    "    output = head_3(input_4_avg)\n",
    "\n",
    "    model = tf.keras.models.Model(inputs = [input_1, ], outputs = output)\n",
    "    opt = tfa.optimizers.RectifiedAdam(learning_rate=1e-03)\n",
    "    opt = tfa.optimizers.SWA(opt)\n",
    "    model.compile(optimizer=opt, \n",
    "                  loss=tf.keras.losses.BinaryCrossentropy(label_smoothing=label_smoothing), \n",
    "                  metrics=['AUC'])\n",
    "    \n",
    "    return model"
   ]
  },
  {
   "cell_type": "code",
   "execution_count": 10,
   "metadata": {
    "execution": {
     "iopub.execute_input": "2021-02-18T13:03:37.818412Z",
     "iopub.status.busy": "2021-02-18T13:03:37.817544Z",
     "iopub.status.idle": "2021-02-18T13:06:19.622735Z",
     "shell.execute_reply": "2021-02-18T13:06:19.621919Z"
    },
    "papermill": {
     "duration": 161.828537,
     "end_time": "2021-02-18T13:06:19.622877",
     "exception": false,
     "start_time": "2021-02-18T13:03:37.794340",
     "status": "completed"
    },
    "tags": []
   },
   "outputs": [
    {
     "name": "stdout",
     "output_type": "stream",
     "text": [
      "Epoch 1/1000\n",
      "691/691 [==============================] - 6s 9ms/step - loss: 2.3766 - decoded_loss: 1.6684 - label_output_loss: 0.7082 - val_loss: 1.2757 - val_decoded_loss: 0.5855 - val_label_output_loss: 0.6902\n",
      "Epoch 2/1000\n",
      "691/691 [==============================] - 7s 10ms/step - loss: 1.8116 - decoded_loss: 1.1200 - label_output_loss: 0.6916 - val_loss: 1.1763 - val_decoded_loss: 0.4865 - val_label_output_loss: 0.6897\n",
      "Epoch 3/1000\n",
      "691/691 [==============================] - 4s 6ms/step - loss: 1.7645 - decoded_loss: 1.0735 - label_output_loss: 0.6910 - val_loss: 1.1288 - val_decoded_loss: 0.4394 - val_label_output_loss: 0.6895\n",
      "Epoch 4/1000\n",
      "691/691 [==============================] - 4s 6ms/step - loss: 1.7415 - decoded_loss: 1.0507 - label_output_loss: 0.6908 - val_loss: 1.1068 - val_decoded_loss: 0.4175 - val_label_output_loss: 0.6893\n",
      "Epoch 5/1000\n",
      "691/691 [==============================] - 4s 6ms/step - loss: 1.7252 - decoded_loss: 1.0346 - label_output_loss: 0.6906 - val_loss: 1.0979 - val_decoded_loss: 0.4087 - val_label_output_loss: 0.6892\n",
      "Epoch 6/1000\n",
      "691/691 [==============================] - 4s 6ms/step - loss: 1.7176 - decoded_loss: 1.0270 - label_output_loss: 0.6906 - val_loss: 1.0875 - val_decoded_loss: 0.3985 - val_label_output_loss: 0.6891\n",
      "Epoch 7/1000\n",
      "691/691 [==============================] - 5s 7ms/step - loss: 1.7083 - decoded_loss: 1.0178 - label_output_loss: 0.6906 - val_loss: 1.0836 - val_decoded_loss: 0.3943 - val_label_output_loss: 0.6893\n",
      "Epoch 8/1000\n",
      "691/691 [==============================] - 4s 6ms/step - loss: 1.6947 - decoded_loss: 1.0043 - label_output_loss: 0.6904 - val_loss: 1.0730 - val_decoded_loss: 0.3838 - val_label_output_loss: 0.6892\n",
      "Epoch 9/1000\n",
      "691/691 [==============================] - 4s 6ms/step - loss: 1.6936 - decoded_loss: 1.0032 - label_output_loss: 0.6904 - val_loss: 1.0716 - val_decoded_loss: 0.3826 - val_label_output_loss: 0.6890\n",
      "Epoch 10/1000\n",
      "691/691 [==============================] - 4s 6ms/step - loss: 1.6865 - decoded_loss: 0.9961 - label_output_loss: 0.6903 - val_loss: 1.0672 - val_decoded_loss: 0.3782 - val_label_output_loss: 0.6890\n",
      "Epoch 11/1000\n",
      "691/691 [==============================] - 5s 7ms/step - loss: 1.6761 - decoded_loss: 0.9858 - label_output_loss: 0.6903 - val_loss: 1.0562 - val_decoded_loss: 0.3671 - val_label_output_loss: 0.6890\n",
      "Epoch 12/1000\n",
      "691/691 [==============================] - 4s 6ms/step - loss: 1.6771 - decoded_loss: 0.9869 - label_output_loss: 0.6902 - val_loss: 1.0574 - val_decoded_loss: 0.3685 - val_label_output_loss: 0.6890\n",
      "Epoch 13/1000\n",
      "691/691 [==============================] - 4s 6ms/step - loss: 1.6727 - decoded_loss: 0.9824 - label_output_loss: 0.6903 - val_loss: 1.0534 - val_decoded_loss: 0.3646 - val_label_output_loss: 0.6888\n",
      "Epoch 14/1000\n",
      "691/691 [==============================] - 4s 6ms/step - loss: 1.6796 - decoded_loss: 0.9894 - label_output_loss: 0.6902 - val_loss: 1.0550 - val_decoded_loss: 0.3661 - val_label_output_loss: 0.6889\n",
      "Epoch 15/1000\n",
      "691/691 [==============================] - 5s 7ms/step - loss: 1.6684 - decoded_loss: 0.9782 - label_output_loss: 0.6902 - val_loss: 1.0453 - val_decoded_loss: 0.3565 - val_label_output_loss: 0.6888\n",
      "Epoch 16/1000\n",
      "691/691 [==============================] - 4s 6ms/step - loss: 1.6662 - decoded_loss: 0.9760 - label_output_loss: 0.6902 - val_loss: 1.0536 - val_decoded_loss: 0.3647 - val_label_output_loss: 0.6889\n",
      "Epoch 17/1000\n",
      "691/691 [==============================] - 4s 6ms/step - loss: 1.6651 - decoded_loss: 0.9748 - label_output_loss: 0.6902 - val_loss: 1.0554 - val_decoded_loss: 0.3667 - val_label_output_loss: 0.6888\n",
      "Epoch 18/1000\n",
      "691/691 [==============================] - 4s 6ms/step - loss: 1.6626 - decoded_loss: 0.9725 - label_output_loss: 0.6901 - val_loss: 1.0617 - val_decoded_loss: 0.3728 - val_label_output_loss: 0.6888\n",
      "Epoch 19/1000\n",
      "691/691 [==============================] - 5s 7ms/step - loss: 1.6596 - decoded_loss: 0.9694 - label_output_loss: 0.6902 - val_loss: 1.0531 - val_decoded_loss: 0.3642 - val_label_output_loss: 0.6889\n",
      "Epoch 20/1000\n",
      "691/691 [==============================] - 4s 6ms/step - loss: 1.6510 - decoded_loss: 0.9609 - label_output_loss: 0.6901 - val_loss: 1.0561 - val_decoded_loss: 0.3673 - val_label_output_loss: 0.6889\n",
      "Epoch 21/1000\n",
      "691/691 [==============================] - 4s 6ms/step - loss: 1.6474 - decoded_loss: 0.9574 - label_output_loss: 0.6900 - val_loss: 1.0604 - val_decoded_loss: 0.3716 - val_label_output_loss: 0.6888\n",
      "Epoch 22/1000\n",
      "691/691 [==============================] - 4s 6ms/step - loss: 1.6533 - decoded_loss: 0.9633 - label_output_loss: 0.6901 - val_loss: 1.0640 - val_decoded_loss: 0.3753 - val_label_output_loss: 0.6887\n",
      "Epoch 23/1000\n",
      "691/691 [==============================] - 4s 6ms/step - loss: 1.6464 - decoded_loss: 0.9564 - label_output_loss: 0.6901 - val_loss: 1.0581 - val_decoded_loss: 0.3693 - val_label_output_loss: 0.6888\n",
      "Epoch 24/1000\n",
      "691/691 [==============================] - 4s 6ms/step - loss: 1.6502 - decoded_loss: 0.9601 - label_output_loss: 0.6900 - val_loss: 1.0435 - val_decoded_loss: 0.3548 - val_label_output_loss: 0.6887\n",
      "Epoch 25/1000\n",
      "691/691 [==============================] - 5s 7ms/step - loss: 1.6461 - decoded_loss: 0.9560 - label_output_loss: 0.6900 - val_loss: 1.0517 - val_decoded_loss: 0.3629 - val_label_output_loss: 0.6888\n",
      "Epoch 26/1000\n",
      "691/691 [==============================] - 5s 7ms/step - loss: 1.6418 - decoded_loss: 0.9517 - label_output_loss: 0.6900 - val_loss: 1.0491 - val_decoded_loss: 0.3605 - val_label_output_loss: 0.6887\n",
      "Epoch 27/1000\n",
      "691/691 [==============================] - 4s 6ms/step - loss: 1.6446 - decoded_loss: 0.9546 - label_output_loss: 0.6900 - val_loss: 1.0523 - val_decoded_loss: 0.3638 - val_label_output_loss: 0.6886\n",
      "Epoch 28/1000\n",
      "691/691 [==============================] - 4s 6ms/step - loss: 1.6379 - decoded_loss: 0.9479 - label_output_loss: 0.6899 - val_loss: 1.0674 - val_decoded_loss: 0.3787 - val_label_output_loss: 0.6887\n",
      "Epoch 29/1000\n",
      "691/691 [==============================] - 4s 6ms/step - loss: 1.6343 - decoded_loss: 0.9443 - label_output_loss: 0.6900 - val_loss: 1.0741 - val_decoded_loss: 0.3855 - val_label_output_loss: 0.6885\n",
      "Epoch 30/1000\n",
      "691/691 [==============================] - 4s 6ms/step - loss: 1.6339 - decoded_loss: 0.9439 - label_output_loss: 0.6900 - val_loss: 1.0853 - val_decoded_loss: 0.3967 - val_label_output_loss: 0.6885\n",
      "Epoch 31/1000\n",
      "691/691 [==============================] - 4s 6ms/step - loss: 1.6334 - decoded_loss: 0.9434 - label_output_loss: 0.6900 - val_loss: 1.0821 - val_decoded_loss: 0.3935 - val_label_output_loss: 0.6886\n",
      "Epoch 32/1000\n",
      "691/691 [==============================] - 4s 6ms/step - loss: 1.6313 - decoded_loss: 0.9414 - label_output_loss: 0.6899 - val_loss: 1.0783 - val_decoded_loss: 0.3896 - val_label_output_loss: 0.6887\n",
      "Epoch 33/1000\n",
      "691/691 [==============================] - 5s 7ms/step - loss: 1.6288 - decoded_loss: 0.9389 - label_output_loss: 0.6899 - val_loss: 1.0773 - val_decoded_loss: 0.3886 - val_label_output_loss: 0.6887\n",
      "Epoch 34/1000\n",
      "691/691 [==============================] - 5s 7ms/step - loss: 1.6310 - decoded_loss: 0.9411 - label_output_loss: 0.6899 - val_loss: 1.0891 - val_decoded_loss: 0.4006 - val_label_output_loss: 0.6885\n"
     ]
    }
   ],
   "source": [
    "autoencoder, encoder = create_autoencoder(X.shape[-1],y.shape[-1],noise=0.1)\n",
    "autoencoder.fit(X,(X,y),\n",
    "                epochs=1000,\n",
    "                batch_size=2048, \n",
    "                validation_split=0.1,\n",
    "                callbacks=[tf.keras.callbacks.EarlyStopping('val_loss',patience=10,restore_best_weights=True)])\n",
    "encoder.save_weights('./encoder.hdf5')\n",
    "encoder.trainable = False"
   ]
  },
  {
   "cell_type": "code",
   "execution_count": 11,
   "metadata": {
    "execution": {
     "iopub.execute_input": "2021-02-18T13:06:21.691321Z",
     "iopub.status.busy": "2021-02-18T13:06:21.690218Z",
     "iopub.status.idle": "2021-02-18T13:06:22.389598Z",
     "shell.execute_reply": "2021-02-18T13:06:22.389014Z"
    },
    "papermill": {
     "duration": 1.727877,
     "end_time": "2021-02-18T13:06:22.389760",
     "exception": false,
     "start_time": "2021-02-18T13:06:20.661883",
     "status": "completed"
    },
    "tags": []
   },
   "outputs": [
    {
     "name": "stdout",
     "output_type": "stream",
     "text": [
      "Model: \"functional_5\"\n",
      "__________________________________________________________________________________________________\n",
      "Layer (type)                    Output Shape         Param #     Connected to                     \n",
      "==================================================================================================\n",
      "input_2 (InputLayer)            [(None, 130)]        0                                            \n",
      "__________________________________________________________________________________________________\n",
      "Head1 (Sequential)              (None, 256)          200968      input_2[0][0]                    \n",
      "__________________________________________________________________________________________________\n",
      "functional_1 (Functional)       (None, 64)           8904        input_2[0][0]                    \n",
      "__________________________________________________________________________________________________\n",
      "concatenate (Concatenate)       (None, 320)          0           functional_1[0][0]               \n",
      "                                                                 Head1[0][0]                      \n",
      "__________________________________________________________________________________________________\n",
      "Head2 (Sequential)              (None, 256)          630528      concatenate[0][0]                \n",
      "__________________________________________________________________________________________________\n",
      "average (Average)               (None, 256)          0           Head1[0][0]                      \n",
      "                                                                 Head2[0][0]                      \n",
      "__________________________________________________________________________________________________\n",
      "Head3 (Sequential)              (None, 5)            101893      average[0][0]                    \n",
      "==================================================================================================\n",
      "Total params: 942,293\n",
      "Trainable params: 927,625\n",
      "Non-trainable params: 14,668\n",
      "__________________________________________________________________________________________________\n"
     ]
    }
   ],
   "source": [
    "model = create_resnet(130, 5, encoder)\n",
    "model.summary()"
   ]
  },
  {
   "cell_type": "code",
   "execution_count": 12,
   "metadata": {
    "execution": {
     "iopub.execute_input": "2021-02-18T13:06:24.433387Z",
     "iopub.status.busy": "2021-02-18T13:06:24.432265Z",
     "iopub.status.idle": "2021-02-18T13:06:25.026748Z",
     "shell.execute_reply": "2021-02-18T13:06:25.026198Z"
    },
    "papermill": {
     "duration": 1.622885,
     "end_time": "2021-02-18T13:06:25.026873",
     "exception": false,
     "start_time": "2021-02-18T13:06:23.403988",
     "status": "completed"
    },
    "tags": []
   },
   "outputs": [
    {
     "data": {
      "image/png": "[encoded data removed]",
      "text/plain": [
       "<IPython.core.display.Image object>"
      ]
     },
     "execution_count": 12,
     "metadata": {},
     "output_type": "execute_result"
    }
   ],
   "source": [
    "tf.keras.utils.plot_model(model)"
   ]
  },
  {
   "cell_type": "code",
   "execution_count": 13,
   "metadata": {
    "execution": {
     "iopub.execute_input": "2021-02-18T13:06:27.126633Z",
     "iopub.status.busy": "2021-02-18T13:06:27.125354Z",
     "iopub.status.idle": "2021-02-18T13:25:10.804403Z",
     "shell.execute_reply": "2021-02-18T13:25:10.805229Z"
    },
    "papermill": {
     "duration": 1124.754273,
     "end_time": "2021-02-18T13:25:10.805433",
     "exception": false,
     "start_time": "2021-02-18T13:06:26.051160",
     "status": "completed"
    },
    "tags": []
   },
   "outputs": [
    {
     "name": "stderr",
     "output_type": "stream",
     "text": [
      "0it [00:00, ?it/s]"
     ]
    },
    {
     "name": "stdout",
     "output_type": "stream",
     "text": [
      "Epoch 1/192\n",
      "615/615 [==============================] - 18s 30ms/step - loss: 0.6911 - auc: 0.5344 - val_loss: 0.6904 - val_auc: 0.5407\n",
      "Epoch 2/192\n",
      "615/615 [==============================] - 20s 33ms/step - loss: 0.6894 - auc: 0.5453 - val_loss: 0.6889 - val_auc: 0.5465\n",
      "Epoch 3/192\n",
      "615/615 [==============================] - 15s 24ms/step - loss: 0.6887 - auc: 0.5491 - val_loss: 0.6889 - val_auc: 0.5472\n",
      "Epoch 4/192\n",
      "615/615 [==============================] - 14s 23ms/step - loss: 0.6881 - auc: 0.5517 - val_loss: 0.6889 - val_auc: 0.5476\n",
      "Epoch 5/192\n",
      "615/615 [==============================] - 16s 26ms/step - loss: 0.6877 - auc: 0.5539 - val_loss: 0.6890 - val_auc: 0.5491\n",
      "Epoch 6/192\n",
      "615/615 [==============================] - 14s 23ms/step - loss: 0.6871 - auc: 0.5565 - val_loss: 0.6888 - val_auc: 0.5496\n",
      "Epoch 7/192\n",
      "615/615 [==============================] - 15s 25ms/step - loss: 0.6865 - auc: 0.5590 - val_loss: 0.6886 - val_auc: 0.5502\n",
      "Epoch 8/192\n",
      "615/615 [==============================] - 15s 24ms/step - loss: 0.6859 - auc: 0.5613 - val_loss: 0.6899 - val_auc: 0.5488\n",
      "Epoch 9/192\n",
      "615/615 [==============================] - 15s 25ms/step - loss: 0.6851 - auc: 0.5639 - val_loss: 0.6903 - val_auc: 0.5484\n",
      "Epoch 10/192\n",
      "615/615 [==============================] - 14s 24ms/step - loss: 0.6842 - auc: 0.5668 - val_loss: 0.6905 - val_auc: 0.5500\n",
      "Epoch 11/192\n",
      "615/615 [==============================] - 16s 25ms/step - loss: 0.6833 - auc: 0.5701 - val_loss: 0.6914 - val_auc: 0.5492\n",
      "Epoch 12/192\n",
      "615/615 [==============================] - 15s 24ms/step - loss: 0.6824 - auc: 0.5726 - val_loss: 0.6917 - val_auc: 0.5469\n",
      "Epoch 13/192\n",
      "615/615 [==============================] - 15s 24ms/step - loss: 0.6813 - auc: 0.5754 - val_loss: 0.6925 - val_auc: 0.5478\n",
      "Epoch 14/192\n",
      "615/615 [==============================] - 15s 25ms/step - loss: 0.6802 - auc: 0.5781 - val_loss: 0.6936 - val_auc: 0.5474\n",
      "Epoch 15/192\n",
      "615/615 [==============================] - ETA: 0s - loss: 0.6791 - auc: 0.5806\n",
      "Epoch 00015: ReduceLROnPlateau reducing learning rate to 0.00010000000474974513.\n",
      "615/615 [==============================] - 14s 23ms/step - loss: 0.6791 - auc: 0.5806 - val_loss: 0.6939 - val_auc: 0.5462\n"
     ]
    },
    {
     "name": "stderr",
     "output_type": "stream",
     "text": [
      "1it [04:24, 264.65s/it]"
     ]
    },
    {
     "name": "stdout",
     "output_type": "stream",
     "text": [
      "Epoch 1/192\n",
      "614/614 [==============================] - 18s 30ms/step - loss: 0.6910 - auc: 0.5346 - val_loss: 0.6901 - val_auc: 0.5424\n",
      "Epoch 2/192\n",
      "614/614 [==============================] - 20s 32ms/step - loss: 0.6893 - auc: 0.5459 - val_loss: 0.6899 - val_auc: 0.5420\n",
      "Epoch 3/192\n",
      "614/614 [==============================] - 17s 28ms/step - loss: 0.6886 - auc: 0.5495 - val_loss: 0.6893 - val_auc: 0.5457\n",
      "Epoch 4/192\n",
      "614/614 [==============================] - 14s 23ms/step - loss: 0.6881 - auc: 0.5522 - val_loss: 0.6896 - val_auc: 0.5446\n",
      "Epoch 5/192\n",
      "614/614 [==============================] - 16s 26ms/step - loss: 0.6875 - auc: 0.5549 - val_loss: 0.6901 - val_auc: 0.5441\n",
      "Epoch 6/192\n",
      "614/614 [==============================] - 15s 25ms/step - loss: 0.6870 - auc: 0.5572 - val_loss: 0.6900 - val_auc: 0.5457\n",
      "Epoch 7/192\n",
      "614/614 [==============================] - 14s 23ms/step - loss: 0.6865 - auc: 0.5593 - val_loss: 0.6898 - val_auc: 0.5474\n",
      "Epoch 8/192\n",
      "614/614 [==============================] - 17s 28ms/step - loss: 0.6860 - auc: 0.5614 - val_loss: 0.6898 - val_auc: 0.5478\n",
      "Epoch 9/192\n",
      "614/614 [==============================] - 14s 23ms/step - loss: 0.6853 - auc: 0.5638 - val_loss: 0.6905 - val_auc: 0.5463\n",
      "Epoch 10/192\n",
      "614/614 [==============================] - 18s 29ms/step - loss: 0.6845 - auc: 0.5665 - val_loss: 0.6916 - val_auc: 0.5473\n",
      "Epoch 11/192\n",
      "613/614 [============================>.] - ETA: 0s - loss: 0.6837 - auc: 0.5692\n",
      "Epoch 00011: ReduceLROnPlateau reducing learning rate to 0.00010000000474974513.\n",
      "614/614 [==============================] - 14s 23ms/step - loss: 0.6837 - auc: 0.5692 - val_loss: 0.6910 - val_auc: 0.5500\n"
     ]
    },
    {
     "name": "stderr",
     "output_type": "stream",
     "text": [
      "2it [07:48, 246.39s/it]"
     ]
    },
    {
     "name": "stdout",
     "output_type": "stream",
     "text": [
      "Epoch 1/192\n",
      "614/614 [==============================] - 19s 31ms/step - loss: 0.6911 - auc: 0.5342 - val_loss: 0.6894 - val_auc: 0.5463\n",
      "Epoch 2/192\n",
      "614/614 [==============================] - 21s 34ms/step - loss: 0.6894 - auc: 0.5451 - val_loss: 0.6893 - val_auc: 0.5476\n",
      "Epoch 3/192\n",
      "614/614 [==============================] - 16s 26ms/step - loss: 0.6886 - auc: 0.5493 - val_loss: 0.6902 - val_auc: 0.5436\n",
      "Epoch 4/192\n",
      "614/614 [==============================] - 15s 24ms/step - loss: 0.6880 - auc: 0.5521 - val_loss: 0.6888 - val_auc: 0.5487\n",
      "Epoch 5/192\n",
      "614/614 [==============================] - 17s 28ms/step - loss: 0.6874 - auc: 0.5547 - val_loss: 0.6897 - val_auc: 0.5458\n",
      "Epoch 6/192\n",
      "614/614 [==============================] - 15s 24ms/step - loss: 0.6869 - auc: 0.5569 - val_loss: 0.6897 - val_auc: 0.5472\n",
      "Epoch 7/192\n",
      "614/614 [==============================] - 18s 29ms/step - loss: 0.6862 - auc: 0.5599 - val_loss: 0.6904 - val_auc: 0.5473\n",
      "Epoch 8/192\n",
      "614/614 [==============================] - 14s 23ms/step - loss: 0.6855 - auc: 0.5622 - val_loss: 0.6901 - val_auc: 0.5487\n",
      "Epoch 9/192\n",
      "614/614 [==============================] - 16s 27ms/step - loss: 0.6848 - auc: 0.5649 - val_loss: 0.6910 - val_auc: 0.5486\n",
      "Epoch 10/192\n",
      "614/614 [==============================] - 16s 26ms/step - loss: 0.6840 - auc: 0.5675 - val_loss: 0.6907 - val_auc: 0.5482\n",
      "Epoch 11/192\n",
      "614/614 [==============================] - 14s 24ms/step - loss: 0.6830 - auc: 0.5704 - val_loss: 0.6920 - val_auc: 0.5475\n",
      "Epoch 12/192\n",
      "614/614 [==============================] - ETA: 0s - loss: 0.6820 - auc: 0.5731\n",
      "Epoch 00012: ReduceLROnPlateau reducing learning rate to 0.00010000000474974513.\n",
      "614/614 [==============================] - 15s 24ms/step - loss: 0.6820 - auc: 0.5731 - val_loss: 0.6930 - val_auc: 0.5460\n"
     ]
    },
    {
     "name": "stderr",
     "output_type": "stream",
     "text": [
      "3it [11:28, 238.43s/it]"
     ]
    },
    {
     "name": "stdout",
     "output_type": "stream",
     "text": [
      "Epoch 1/192\n",
      "615/615 [==============================] - 20s 32ms/step - loss: 0.6910 - auc: 0.5348 - val_loss: 0.6897 - val_auc: 0.5447\n",
      "Epoch 2/192\n",
      "615/615 [==============================] - 21s 34ms/step - loss: 0.6893 - auc: 0.5462 - val_loss: 0.6891 - val_auc: 0.5457\n",
      "Epoch 3/192\n",
      "615/615 [==============================] - 14s 23ms/step - loss: 0.6885 - auc: 0.5501 - val_loss: 0.6890 - val_auc: 0.5469\n",
      "Epoch 4/192\n",
      "615/615 [==============================] - 15s 25ms/step - loss: 0.6879 - auc: 0.5534 - val_loss: 0.6894 - val_auc: 0.5467\n",
      "Epoch 5/192\n",
      "615/615 [==============================] - 17s 28ms/step - loss: 0.6874 - auc: 0.5555 - val_loss: 0.6896 - val_auc: 0.5426\n",
      "Epoch 6/192\n",
      "615/615 [==============================] - 15s 24ms/step - loss: 0.6868 - auc: 0.5579 - val_loss: 0.6892 - val_auc: 0.5467\n",
      "Epoch 7/192\n",
      "615/615 [==============================] - 15s 24ms/step - loss: 0.6862 - auc: 0.5603 - val_loss: 0.6899 - val_auc: 0.5464\n",
      "Epoch 8/192\n",
      "615/615 [==============================] - 15s 24ms/step - loss: 0.6855 - auc: 0.5630 - val_loss: 0.6899 - val_auc: 0.5472\n",
      "Epoch 9/192\n",
      "615/615 [==============================] - 18s 29ms/step - loss: 0.6847 - auc: 0.5657 - val_loss: 0.6905 - val_auc: 0.5461\n",
      "Epoch 10/192\n",
      "614/615 [============================>.] - ETA: 0s - loss: 0.6838 - auc: 0.5689\n",
      "Epoch 00010: ReduceLROnPlateau reducing learning rate to 0.00010000000474974513.\n",
      "615/615 [==============================] - 14s 24ms/step - loss: 0.6838 - auc: 0.5689 - val_loss: 0.6910 - val_auc: 0.5468\n",
      "Epoch 11/192\n",
      "615/615 [==============================] - 14s 23ms/step - loss: 0.6818 - auc: 0.5753 - val_loss: 0.6912 - val_auc: 0.5483\n"
     ]
    },
    {
     "name": "stderr",
     "output_type": "stream",
     "text": [
      "4it [14:50, 227.49s/it]"
     ]
    },
    {
     "name": "stdout",
     "output_type": "stream",
     "text": [
      "Epoch 1/192\n",
      "614/614 [==============================] - 21s 34ms/step - loss: 0.6909 - auc: 0.5353 - val_loss: 0.6904 - val_auc: 0.5407\n",
      "Epoch 2/192\n",
      "614/614 [==============================] - 21s 34ms/step - loss: 0.6891 - auc: 0.5466 - val_loss: 0.6898 - val_auc: 0.5437\n",
      "Epoch 3/192\n",
      "614/614 [==============================] - 14s 23ms/step - loss: 0.6884 - auc: 0.5502 - val_loss: 0.6897 - val_auc: 0.5440\n",
      "Epoch 4/192\n",
      "614/614 [==============================] - 15s 25ms/step - loss: 0.6879 - auc: 0.5530 - val_loss: 0.6902 - val_auc: 0.5439\n",
      "Epoch 5/192\n",
      "614/614 [==============================] - 19s 31ms/step - loss: 0.6873 - auc: 0.5556 - val_loss: 0.6894 - val_auc: 0.5466\n",
      "Epoch 6/192\n",
      "614/614 [==============================] - 15s 24ms/step - loss: 0.6867 - auc: 0.5580 - val_loss: 0.6900 - val_auc: 0.5451\n",
      "Epoch 7/192\n",
      "614/614 [==============================] - 14s 23ms/step - loss: 0.6861 - auc: 0.5602 - val_loss: 0.6896 - val_auc: 0.5478\n",
      "Epoch 8/192\n",
      "614/614 [==============================] - 15s 24ms/step - loss: 0.6853 - auc: 0.5633 - val_loss: 0.6905 - val_auc: 0.5461\n",
      "Epoch 9/192\n",
      "614/614 [==============================] - 16s 26ms/step - loss: 0.6845 - auc: 0.5658 - val_loss: 0.6922 - val_auc: 0.5432\n",
      "Epoch 10/192\n",
      "614/614 [==============================] - 18s 29ms/step - loss: 0.6835 - auc: 0.5690 - val_loss: 0.6930 - val_auc: 0.5440\n",
      "Epoch 11/192\n",
      "614/614 [==============================] - 14s 23ms/step - loss: 0.6826 - auc: 0.5719 - val_loss: 0.6944 - val_auc: 0.5433\n",
      "Epoch 12/192\n",
      "614/614 [==============================] - 15s 24ms/step - loss: 0.6815 - auc: 0.5747 - val_loss: 0.6954 - val_auc: 0.5423\n",
      "Epoch 13/192\n",
      "613/614 [============================>.] - ETA: 0s - loss: 0.6804 - auc: 0.5778\n",
      "Epoch 00013: ReduceLROnPlateau reducing learning rate to 0.00010000000474974513.\n",
      "614/614 [==============================] - 14s 23ms/step - loss: 0.6804 - auc: 0.5778 - val_loss: 0.6971 - val_auc: 0.5428\n"
     ]
    },
    {
     "name": "stderr",
     "output_type": "stream",
     "text": [
      "5it [18:43, 224.73s/it]"
     ]
    },
    {
     "name": "stdout",
     "output_type": "stream",
     "text": [
      "CPU times: user 21min 5s, sys: 1min 41s, total: 22min 46s\n",
      "Wall time: 18min 43s\n"
     ]
    },
    {
     "name": "stderr",
     "output_type": "stream",
     "text": [
      "\n"
     ]
    }
   ],
   "source": [
    "%%time\n",
    "\n",
    "\n",
    "if CV_STRATEGY == 'PurgedGroupTimeSeriesSplit':\n",
    "    gkf = PurgedGroupTimeSeriesSplit(n_splits=FOLDS, group_gap=20)\n",
    "    splits = list(gkf.split(y, groups=train['date'].values))    \n",
    "    \n",
    "elif CV_STRATEGY == \"GroupKFold\":\n",
    "    cv = GroupKFold(n_splits=FOLDS, shuffle=True, random_state=SEED)\n",
    "    splits = cv.split(train, train['resp'].values.astype(int), 'date')\n",
    "\n",
    "elif CV_STRATEGY ==  \"StratifiedGroupKFold\":\n",
    "    cv = StratifiedGroupKFold(n_splits=FOLDS, shuffle=True, random_state=SEED)\n",
    "    splits = cv.split(train, train['resp'].values.astype(int), 'date')\n",
    "\n",
    "models = []\n",
    "for fold, (train_indices, test_indices) in tqdm(enumerate(splits)):\n",
    "    X_train, X_test = X[train_indices], X[test_indices]\n",
    "    y_train, y_test = y[train_indices], y[test_indices]\n",
    "    \n",
    "    # model\n",
    "    tf.keras.backend.clear_session()\n",
    "    model = create_resnet(X.shape[-1], y.shape[-1], encoder)\n",
    "    \n",
    "    # callbacks\n",
    "    er = tf.keras.callbacks.EarlyStopping(patience=8, restore_best_weights=True, monitor='val_loss')\n",
    "    ReduceLR = tf.keras.callbacks.ReduceLROnPlateau(monitor='val_loss', factor=0.1, patience=8, verbose=1, mode='min')\n",
    "    model_checkpoint_callback = tf.keras.callbacks.ModelCheckpoint(filepath=f'./model_{SEED}_{fold}.hdf5', save_weights_only=True, verbose=0, monitor='val_loss', save_best_only=True)\n",
    "    nn_callbacks = [er, ReduceLR, model_checkpoint_callback]\n",
    "    \n",
    "    # fit\n",
    "    model.fit(X_train, y_train, validation_data=(X_test,y_test), \n",
    "              epochs=192, batch_size=2048, callbacks=nn_callbacks)\n",
    "    models.append(model)"
   ]
  },
  {
   "cell_type": "code",
   "execution_count": 14,
   "metadata": {
    "execution": {
     "iopub.execute_input": "2021-02-18T13:25:24.385060Z",
     "iopub.status.busy": "2021-02-18T13:25:24.383877Z",
     "iopub.status.idle": "2021-02-18T13:25:24.388035Z",
     "shell.execute_reply": "2021-02-18T13:25:24.388539Z"
    },
    "papermill": {
     "duration": 7.179275,
     "end_time": "2021-02-18T13:25:24.388689",
     "exception": false,
     "start_time": "2021-02-18T13:25:17.209414",
     "status": "completed"
    },
    "tags": []
   },
   "outputs": [
    {
     "data": {
      "text/plain": [
       "\"f = np.median\\nth = 0.500\\n\\nimport janestreet\\nenv = janestreet.make_env()\\nfor (test_df, pred_df) in tqdm(env.iter_test()):\\n    if test_df['weight'].item() > 0:\\n        x_tt = test_df.loc[:, features].values\\n        \\n        # GBDT inference with treelite\\n        batch = treelite_runtime.Batch.from_npy2d(x_tt)\\n        xgb_pred = predictor.predict(batch)\\n    \\n        # NN inference\\n        if np.isnan(x_tt[:, 1:].sum()):\\n            x_tt[:, 1:] = np.nan_to_num(x_tt[:, 1:]) + np.isnan(x_tt[:, 1:]) * f_mean\\n        \\n        pred = np.mean([model(x_tt, training = False).numpy() for model in models],axis=0)\\n        pred = f(pred)\\n        \\n        # ensemble\\n        pred_df.action = np.where(0.9*pred + 0.1*xgb_pred >= th, 1, 0).astype(int)\\n    else:\\n        pred_df.action = 0\\n    env.predict(pred_df)\""
      ]
     },
     "execution_count": 14,
     "metadata": {},
     "output_type": "execute_result"
    }
   ],
   "source": [
    "\"\"\"f = np.median\n",
    "th = 0.500\n",
    "\n",
    "import janestreet\n",
    "env = janestreet.make_env()\n",
    "for (test_df, pred_df) in tqdm(env.iter_test()):\n",
    "    if test_df['weight'].item() > 0:\n",
    "        x_tt = test_df.loc[:, features].values\n",
    "        \n",
    "        # GBDT inference with treelite\n",
    "        batch = treelite_runtime.Batch.from_npy2d(x_tt)\n",
    "        xgb_pred = predictor.predict(batch)\n",
    "    \n",
    "        # NN inference\n",
    "        if np.isnan(x_tt[:, 1:].sum()):\n",
    "            x_tt[:, 1:] = np.nan_to_num(x_tt[:, 1:]) + np.isnan(x_tt[:, 1:]) * f_mean\n",
    "        \n",
    "        pred = np.mean([model(x_tt, training = False).numpy() for model in models],axis=0)\n",
    "        pred = f(pred)\n",
    "        \n",
    "        # ensemble\n",
    "        pred_df.action = np.where(0.9*pred + 0.1*xgb_pred >= th, 1, 0).astype(int)\n",
    "    else:\n",
    "        pred_df.action = 0\n",
    "    env.predict(pred_df)\"\"\""
   ]
  }
 ],
 "metadata": {
  "kernelspec": {
   "display_name": "Python 3",
   "language": "python",
   "name": "python3"
  },
  "language_info": {
   "codemirror_mode": {
    "name": "ipython",
    "version": 3
   },
   "file_extension": ".py",
   "mimetype": "text/x-python",
   "name": "python",
   "nbconvert_exporter": "python",
   "pygments_lexer": "ipython3",
   "version": "3.7.6"
  },
  "papermill": {
   "duration": 1340.54591,
   "end_time": "2021-02-18T13:25:32.969876",
   "environment_variables": {},
   "exception": null,
   "input_path": "__notebook__.ipynb",
   "output_path": "__notebook__.ipynb",
   "parameters": {},
   "start_time": "2021-02-18T13:03:12.423966",
   "version": "2.1.0"
  }
 },
 "nbformat": 4,
 "nbformat_minor": 4
}
