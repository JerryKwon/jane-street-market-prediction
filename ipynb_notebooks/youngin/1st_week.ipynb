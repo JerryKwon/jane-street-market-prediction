{
  "nbformat": 4,
  "nbformat_minor": 0,
  "metadata": {
    "colab": {
      "name": "1st week.ipynb",
      "provenance": [],
      "collapsed_sections": []
    },
    "kernelspec": {
      "name": "python3",
      "display_name": "Python 3"
    }
  },
  "cells": [
    {
      "cell_type": "markdown",
      "metadata": {
        "id": "a4obq_uQ5rVk"
      },
      "source": [
        "# 1st Week\r\n",
        "\r\n",
        "## Objective\r\n",
        "1. Comprehensive EDA of Competition\r\n",
        "2. Understanding about LSTM\r\n",
        "3. baseline implementation of LSTM in Jane Competition\r\n",
        "\r\n",
        "### 1. Comprehensive EDA of Competition\r\n",
        "\r\n",
        "#### References \r\n",
        "\r\n",
        "* Notebooks for EDA\r\n",
        "\r\n",
        "  https://www.kaggle.com/carlmcbrideellis/jane-street-eda-of-day-0-and-feature-importance\r\n",
        "\r\n",
        "  https://www.kaggle.com/muhammadmelsherbini/jane-street-extensive-eda-pca-starter"
      ]
    },
    {
      "cell_type": "code",
      "metadata": {
        "colab": {
          "base_uri": "https://localhost:8080/"
        },
        "id": "pAjK147I5mae",
        "outputId": "b15c7822-b6a8-494b-9672-6a3a7933a53c"
      },
      "source": [
        "from google.colab import drive\r\n",
        "drive.mount('/gdrive')"
      ],
      "execution_count": 1,
      "outputs": [
        {
          "output_type": "stream",
          "text": [
            "Mounted at /gdrive\n"
          ],
          "name": "stdout"
        }
      ]
    },
    {
      "cell_type": "code",
      "metadata": {
        "id": "OsYo41Bs75o-"
      },
      "source": [
        "# download jane-market-price-prediction dataset\r\n",
        "\r\n",
        "!pip install -q kaggle\r\n",
        "\r\n",
        "from google.colab import files\r\n",
        "\r\n",
        "# upload kaggle API file\r\n",
        "files.upload()\r\n",
        "\r\n",
        "# Registration check\r\n",
        "ls -1ha kaggle.json\r\n",
        "\r\n",
        "# Setting for download kaggle dataset\r\n",
        "!mkdir -p ~/.kaggle\r\n",
        "!cp kaggle.json ~/.kaggle/\r\n",
        "\r\n",
        "!chmod 600 ~/.kaggle/kaggle.json\r\n",
        "\r\n",
        "!kaggle competitions list\r\n",
        "\r\n",
        "# Download jane-street-market-prediction dataset\r\n",
        "!kaggle competitions download -c jane-street-market-prediction\r\n",
        "\r\n",
        "# copy data\r\n",
        "!cp -r features.csv example_sample_submission.csv train.csv.zip example_test.csv.zip /gdrive/MyDrive/colab/jane-street-market-prediction/input/data\r\n",
        "\r\n",
        "# unzip data\r\n",
        "!unzip /gdrive/MyDrive/colab/jane-street-market-prediction/input/data/example_test.csv.zip\r\n",
        "!unzip /gdrive/MyDrive/colab/jane-street-market-prediction/input/data/train.csv.zip\r\n",
        "\r\n",
        "# check data\r\n",
        "ls -l /gdrive/MyDrive/colab/jane-street-market-prediction/input/data"
      ],
      "execution_count": 2,
      "outputs": []
    }
  ]
}