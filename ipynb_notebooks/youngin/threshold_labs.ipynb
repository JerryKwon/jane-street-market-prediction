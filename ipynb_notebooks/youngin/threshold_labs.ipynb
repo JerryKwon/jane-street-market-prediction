{
  "nbformat": 4,
  "nbformat_minor": 0,
  "metadata": {
    "kernelspec": {
      "name": "python3",
      "display_name": "Python 3",
      "language": "python"
    },
    "language_info": {
      "name": "python",
      "version": "3.7.9",
      "mimetype": "text/x-python",
      "codemirror_mode": {
        "name": "ipython",
        "version": 3
      },
      "pygments_lexer": "ipython3",
      "nbconvert_exporter": "python",
      "file_extension": ".py"
    },
    "colab": {
      "name": "threshold-labs.ipynb",
      "provenance": [],
      "machine_shape": "hm"
    },
    "accelerator": "GPU",
    "widgets": {
      "application/vnd.jupyter.widget-state+json": {
        "e3d7ad10b5da43b3b6a5d1833b90aa31": {
          "model_module": "@jupyter-widgets/controls",
          "model_name": "HBoxModel",
          "state": {
            "_view_name": "HBoxView",
            "_dom_classes": [],
            "_model_name": "HBoxModel",
            "_view_module": "@jupyter-widgets/controls",
            "_model_module_version": "1.5.0",
            "_view_count": null,
            "_view_module_version": "1.5.0",
            "box_style": "",
            "layout": "IPY_MODEL_61cf7eb5eda446628c389c709c67a7df",
            "_model_module": "@jupyter-widgets/controls",
            "children": [
              "IPY_MODEL_0bdca0aa47e34e878839b0e0db470188",
              "IPY_MODEL_9c453c0f4b5c4a27bb849c716be579c3"
            ]
          }
        },
        "61cf7eb5eda446628c389c709c67a7df": {
          "model_module": "@jupyter-widgets/base",
          "model_name": "LayoutModel",
          "state": {
            "_view_name": "LayoutView",
            "grid_template_rows": null,
            "right": null,
            "justify_content": null,
            "_view_module": "@jupyter-widgets/base",
            "overflow": null,
            "_model_module_version": "1.2.0",
            "_view_count": null,
            "flex_flow": null,
            "width": null,
            "min_width": null,
            "border": null,
            "align_items": null,
            "bottom": null,
            "_model_module": "@jupyter-widgets/base",
            "top": null,
            "grid_column": null,
            "overflow_y": null,
            "overflow_x": null,
            "grid_auto_flow": null,
            "grid_area": null,
            "grid_template_columns": null,
            "flex": null,
            "_model_name": "LayoutModel",
            "justify_items": null,
            "grid_row": null,
            "max_height": null,
            "align_content": null,
            "visibility": null,
            "align_self": null,
            "height": null,
            "min_height": null,
            "padding": null,
            "grid_auto_rows": null,
            "grid_gap": null,
            "max_width": null,
            "order": null,
            "_view_module_version": "1.2.0",
            "grid_template_areas": null,
            "object_position": null,
            "object_fit": null,
            "grid_auto_columns": null,
            "margin": null,
            "display": null,
            "left": null
          }
        },
        "0bdca0aa47e34e878839b0e0db470188": {
          "model_module": "@jupyter-widgets/controls",
          "model_name": "FloatProgressModel",
          "state": {
            "_view_name": "ProgressView",
            "style": "IPY_MODEL_0f929f57e5094a8fa5c04c3a16ec662b",
            "_dom_classes": [],
            "description": " 27%",
            "_model_name": "FloatProgressModel",
            "bar_style": "",
            "max": 100,
            "_view_module": "@jupyter-widgets/controls",
            "_model_module_version": "1.5.0",
            "value": 27,
            "_view_count": null,
            "_view_module_version": "1.5.0",
            "orientation": "horizontal",
            "min": 0,
            "description_tooltip": null,
            "_model_module": "@jupyter-widgets/controls",
            "layout": "IPY_MODEL_99f081398b0b4cec8cc19294a61ffef1"
          }
        },
        "9c453c0f4b5c4a27bb849c716be579c3": {
          "model_module": "@jupyter-widgets/controls",
          "model_name": "HTMLModel",
          "state": {
            "_view_name": "HTMLView",
            "style": "IPY_MODEL_a649b98ecfe84948a4e3b7724bd630ec",
            "_dom_classes": [],
            "description": "",
            "_model_name": "HTMLModel",
            "placeholder": "​",
            "_view_module": "@jupyter-widgets/controls",
            "_model_module_version": "1.5.0",
            "value": " 27/100 [1:03:17&lt;2:50:12, 139.90s/it]",
            "_view_count": null,
            "_view_module_version": "1.5.0",
            "description_tooltip": null,
            "_model_module": "@jupyter-widgets/controls",
            "layout": "IPY_MODEL_ef6b49f8cc104fbeb0a3de5e5d7e99fa"
          }
        },
        "0f929f57e5094a8fa5c04c3a16ec662b": {
          "model_module": "@jupyter-widgets/controls",
          "model_name": "ProgressStyleModel",
          "state": {
            "_view_name": "StyleView",
            "_model_name": "ProgressStyleModel",
            "description_width": "initial",
            "_view_module": "@jupyter-widgets/base",
            "_model_module_version": "1.5.0",
            "_view_count": null,
            "_view_module_version": "1.2.0",
            "bar_color": null,
            "_model_module": "@jupyter-widgets/controls"
          }
        },
        "99f081398b0b4cec8cc19294a61ffef1": {
          "model_module": "@jupyter-widgets/base",
          "model_name": "LayoutModel",
          "state": {
            "_view_name": "LayoutView",
            "grid_template_rows": null,
            "right": null,
            "justify_content": null,
            "_view_module": "@jupyter-widgets/base",
            "overflow": null,
            "_model_module_version": "1.2.0",
            "_view_count": null,
            "flex_flow": null,
            "width": null,
            "min_width": null,
            "border": null,
            "align_items": null,
            "bottom": null,
            "_model_module": "@jupyter-widgets/base",
            "top": null,
            "grid_column": null,
            "overflow_y": null,
            "overflow_x": null,
            "grid_auto_flow": null,
            "grid_area": null,
            "grid_template_columns": null,
            "flex": null,
            "_model_name": "LayoutModel",
            "justify_items": null,
            "grid_row": null,
            "max_height": null,
            "align_content": null,
            "visibility": null,
            "align_self": null,
            "height": null,
            "min_height": null,
            "padding": null,
            "grid_auto_rows": null,
            "grid_gap": null,
            "max_width": null,
            "order": null,
            "_view_module_version": "1.2.0",
            "grid_template_areas": null,
            "object_position": null,
            "object_fit": null,
            "grid_auto_columns": null,
            "margin": null,
            "display": null,
            "left": null
          }
        },
        "a649b98ecfe84948a4e3b7724bd630ec": {
          "model_module": "@jupyter-widgets/controls",
          "model_name": "DescriptionStyleModel",
          "state": {
            "_view_name": "StyleView",
            "_model_name": "DescriptionStyleModel",
            "description_width": "",
            "_view_module": "@jupyter-widgets/base",
            "_model_module_version": "1.5.0",
            "_view_count": null,
            "_view_module_version": "1.2.0",
            "_model_module": "@jupyter-widgets/controls"
          }
        },
        "ef6b49f8cc104fbeb0a3de5e5d7e99fa": {
          "model_module": "@jupyter-widgets/base",
          "model_name": "LayoutModel",
          "state": {
            "_view_name": "LayoutView",
            "grid_template_rows": null,
            "right": null,
            "justify_content": null,
            "_view_module": "@jupyter-widgets/base",
            "overflow": null,
            "_model_module_version": "1.2.0",
            "_view_count": null,
            "flex_flow": null,
            "width": null,
            "min_width": null,
            "border": null,
            "align_items": null,
            "bottom": null,
            "_model_module": "@jupyter-widgets/base",
            "top": null,
            "grid_column": null,
            "overflow_y": null,
            "overflow_x": null,
            "grid_auto_flow": null,
            "grid_area": null,
            "grid_template_columns": null,
            "flex": null,
            "_model_name": "LayoutModel",
            "justify_items": null,
            "grid_row": null,
            "max_height": null,
            "align_content": null,
            "visibility": null,
            "align_self": null,
            "height": null,
            "min_height": null,
            "padding": null,
            "grid_auto_rows": null,
            "grid_gap": null,
            "max_width": null,
            "order": null,
            "_view_module_version": "1.2.0",
            "grid_template_areas": null,
            "object_position": null,
            "object_fit": null,
            "grid_auto_columns": null,
            "margin": null,
            "display": null,
            "left": null
          }
        }
      }
    }
  },
  "cells": [
    {
      "cell_type": "code",
      "metadata": {
        "colab": {
          "base_uri": "https://localhost:8080/"
        },
        "id": "AGdjVPt7jxz5",
        "outputId": "d200c6e5-09ad-4818-a597-89e656cba8b7"
      },
      "source": [
        "\"\"\"Colab Drive Connection\"\"\"\r\n",
        "\r\n",
        "from google.colab import drive\r\n",
        "drive.mount('/gdrive')"
      ],
      "execution_count": 4,
      "outputs": [
        {
          "output_type": "stream",
          "text": [
            "Mounted at /gdrive\n"
          ],
          "name": "stdout"
        }
      ]
    },
    {
      "cell_type": "code",
      "metadata": {
        "_uuid": "8f2839f25d086af736a60e9eeb907d3b93b6e0e5",
        "_cell_guid": "b1076dfc-b9ad-4769-8c92-a6c4dae69d19",
        "trusted": true,
        "colab": {
          "base_uri": "https://localhost:8080/"
        },
        "id": "xwMpHdSyjQqj",
        "outputId": "82eb417f-fa4d-4542-df33-ed671b928949"
      },
      "source": [
        "import warnings\n",
        "import os \n",
        "\n",
        "from collections import defaultdict\n",
        "from copy import deepcopy\n",
        "\n",
        "import numpy as np\n",
        "import pandas as pd\n",
        "import matplotlib.pyplot as plt\n",
        "import matplotlib.gridspec as gridspec\n",
        "import seaborn as sns\n",
        "\n",
        "import networkx as nx\n",
        "import scipy.cluster.hierarchy as sch\n",
        "from scipy.cluster.hierarchy import fcluster\n",
        "\n",
        "import random\n",
        "\n",
        "from tqdm import tqdm_notebook\n",
        "\n",
        "from sklearn.metrics import roc_auc_score\n",
        "from sklearn.model_selection import train_test_split\n",
        "\n",
        "import torch\n",
        "import torch.nn as nn\n",
        "import torch.optim as optim\n",
        "from torch.utils.data import Dataset, DataLoader\n",
        "from torch.nn import functional as F\n",
        "\n",
        "# install datatable\n",
        "!pip install datatable\n",
        "import datatable as dt\n",
        "\n",
        "from numba import njit\n",
        "\n",
        "import gc\n",
        "\n",
        "warnings.simplefilter(action=\"ignore\")\n",
        "\n",
        "# project_home = \"/kaggle/input/jane-street-market-prediction\"\n",
        "# data_home = project_home\n",
        "\n",
        "project_home = \"/gdrive/MyDrive/colab/jane-street-market-prediction\"\n",
        "data_home = os.path.join(project_home, \"input/data\")\n",
        "model_home = os.path.join(project_home, \"output/model\")"
      ],
      "execution_count": 1,
      "outputs": [
        {
          "output_type": "stream",
          "text": [
            "Collecting datatable\n",
            "\u001b[?25l  Downloading https://files.pythonhosted.org/packages/80/cb/21810c43b687a19d194c372192049f535fba28c55ce76d37e7e407159c52/datatable-0.11.1-cp36-cp36m-manylinux2010_x86_64.whl (83.7MB)\n",
            "\u001b[K     |████████████████████████████████| 83.7MB 65kB/s \n",
            "\u001b[?25hInstalling collected packages: datatable\n",
            "Successfully installed datatable-0.11.1\n"
          ],
          "name": "stdout"
        }
      ]
    },
    {
      "cell_type": "code",
      "metadata": {
        "trusted": true,
        "id": "j9epzCw4jQqo"
      },
      "source": [
        "entire_seed = 1029\n",
        "\n",
        "def seed_torch(seed=1029):\n",
        "    random.seed(seed)\n",
        "    os.environ['PYTHONHASHSEED'] = str(seed)\n",
        "    np.random.seed(seed)\n",
        "    torch.manual_seed(seed)\n",
        "    torch.cuda.manual_seed(seed)\n",
        "    torch.cuda.manual_seed_all(seed) # if you are using multi-GPU.\n",
        "    torch.backends.cudnn.benchmark = False\n",
        "#     torch.backends.cudnn.deterministic = True\n",
        "    torch.backends.cudnn.deterministic = False\n",
        "    \n",
        "seed_torch(entire_seed)"
      ],
      "execution_count": 2,
      "outputs": []
    },
    {
      "cell_type": "code",
      "metadata": {
        "trusted": true,
        "id": "XUBz5H44jQqo"
      },
      "source": [
        "train_file = os.path.join(data_home,'train.csv')\n",
        "features_file = os.path.join(data_home,'features.csv')\n",
        "example_test_file = os.path.join(data_home,'example_test.csv')\n",
        "example_sample_submission_file = os.path.join(data_home,'example_sample_submission.csv')\n",
        "\n",
        "train_data_datatable = dt.fread(train_file)\n",
        "\n",
        "df_train = train_data_datatable.to_pandas()\n",
        "df_features = pd.read_csv(features_file)\n",
        "df_example_test = pd.read_csv(example_test_file)\n",
        "df_example_sample_submission = pd.read_csv(example_sample_submission_file)"
      ],
      "execution_count": 5,
      "outputs": []
    },
    {
      "cell_type": "code",
      "metadata": {
        "trusted": true,
        "id": "pwqRr57djQqo"
      },
      "source": [
        "features = [ col for col in df_train.columns if \"feature\" in col ]\n",
        "resps = [ col for col in df_train.columns if \"resp\" in col ]\n",
        "target_resp = [resp_ for resp_ in resps if \"_\" not in resp_]\n",
        "target = [\"weight\"] + target_resp + features "
      ],
      "execution_count": 6,
      "outputs": []
    },
    {
      "cell_type": "code",
      "metadata": {
        "trusted": true,
        "colab": {
          "base_uri": "https://localhost:8080/"
        },
        "id": "46NSGZy8jQqp",
        "outputId": "795a6e18-5dc1-4162-c84c-528547780b55"
      },
      "source": [
        "\"\"\"\n",
        "Reduce Memory Usage by 75%\n",
        "https://www.kaggle.com/tomwarrens/nan-values-depending-on-time-of-day\n",
        "\"\"\"\n",
        "\n",
        "## Reduce Memory\n",
        "\n",
        "def reduce_memory_usage(df):\n",
        "    \n",
        "    start_memory = df.memory_usage().sum() / 1024**2\n",
        "    print(f\"Memory usage of dataframe is {start_memory} MB\")\n",
        "    \n",
        "    for col in df.columns:\n",
        "        col_type = df[col].dtype\n",
        "        \n",
        "        if col_type != 'object':\n",
        "            c_min = df[col].min()\n",
        "            c_max = df[col].max()\n",
        "            \n",
        "            if str(col_type)[:3] == 'int':\n",
        "                if c_min > np.iinfo(np.int8).min and c_max < np.iinfo(np.int8).max:\n",
        "                    df[col] = df[col].astype(np.int8)\n",
        "                elif c_min > np.iinfo(np.int16).min and c_max < np.iinfo(np.int16).max:\n",
        "                    df[col] = df[col].astype(np.int16)\n",
        "                elif c_min > np.iinfo(np.int32).min and c_max < np.iinfo(np.int32).max:\n",
        "                    df[col] = df[col].astype(np.int32)\n",
        "                elif c_min > np.iinfo(np.int64).min and c_max < np.iinfo(np.int64).max:\n",
        "                    df[col] = df[col].astype(np.int64)\n",
        "            \n",
        "            else:\n",
        "#                 reducing float16 for calculating numpy.nanmean\n",
        "#                 if c_min > np.finfo(np.float16).min and c_max < np.finfo(np.float16).max:\n",
        "#                     df[col] = df[col].astype(np.float16)\n",
        "                if c_min > np.finfo(np.float32).min and c_max < np.finfo(np.float32).max:\n",
        "                    df[col] = df[col].astype(np.float32)\n",
        "                else:\n",
        "                    pass\n",
        "        else:\n",
        "            df[col] = df[col].astype('category')\n",
        "    \n",
        "    end_memory = df.memory_usage().sum() / 1024**2\n",
        "    print(f\"Memory usage of dataframe after reduction {end_memory} MB\")\n",
        "    print(f\"Reduced by {100 * (start_memory - end_memory) / start_memory} % \")\n",
        "    return df\n",
        "\n",
        "df_train = reduce_memory_usage(df_train)\n",
        "df_train.info()"
      ],
      "execution_count": 7,
      "outputs": [
        {
          "output_type": "stream",
          "text": [
            "Memory usage of dataframe is 2489.4869804382324 MB\n",
            "Memory usage of dataframe after reduction 1247.0233011245728 MB\n",
            "Reduced by 49.908422461199 % \n",
            "<class 'pandas.core.frame.DataFrame'>\n",
            "RangeIndex: 2390491 entries, 0 to 2390490\n",
            "Columns: 138 entries, date to ts_id\n",
            "dtypes: float32(135), int16(1), int32(1), int8(1)\n",
            "memory usage: 1.2 GB\n"
          ],
          "name": "stdout"
        }
      ]
    },
    {
      "cell_type": "code",
      "metadata": {
        "trusted": true,
        "id": "AQSrqx5YjQqp"
      },
      "source": [
        "# drop before 85days\n",
        "df_train = df_train.loc[df_train.date>85]\n",
        "# drop weight 0 for training\n",
        "df_train = df_train.loc[df_train.weight > 0]\n",
        "\n",
        "# df_labels = df_train[['date','weight','resp_1','resp_2','resp_3','resp_4','resp']]\n",
        "\n",
        "# df_train = df_train.drop(df_labels.columns,axis=1)"
      ],
      "execution_count": 8,
      "outputs": []
    },
    {
      "cell_type": "code",
      "metadata": {
        "trusted": true,
        "id": "P0ATqBDfjQqp"
      },
      "source": [
        "\"\"\"\n",
        "The codes from 'Optimise Speed of Filling-NaN Function'\n",
        "https://www.kaggle.com/gogo827jz/optimise-speed-of-filling-nan-function\n",
        "\"\"\"\n",
        "\n",
        "def for_loop(method, matrix, values):\n",
        "    for i in range(matrix.shape[0]):\n",
        "        matrix[i] = method(matrix[i], values)\n",
        "    return matrix\n",
        "\n",
        "def for_loop_ffill(method, matrix):\n",
        "    tmp = np.zeros(matrix.shape[1],dtype=np.float32)\n",
        "    for i in range(matrix.shape[0]):\n",
        "        matrix[i] = method(matrix[i], tmp)\n",
        "        tmp = matrix[i]\n",
        "    return matrix\n",
        "\n",
        "@njit\n",
        "def fillna_npwhere_njit(array, values):\n",
        "    if np.isnan(array.sum()):\n",
        "        array = np.where(np.isnan(array), values, array)\n",
        "    return array"
      ],
      "execution_count": 9,
      "outputs": []
    },
    {
      "cell_type": "code",
      "metadata": {
        "trusted": true,
        "colab": {
          "base_uri": "https://localhost:8080/"
        },
        "id": "3X_c9nmmjQqq",
        "outputId": "4f15c5e3-c9f6-4665-b5cd-7828e94225ac"
      },
      "source": [
        "# converting numpy for efficient calcualtion.\n",
        "# ft 1~129\n",
        "np_ft_train = df_train.loc[:,features[1:]].values\n",
        "np_ft_train.shape\n",
        "\n",
        "# ft 0\n",
        "# np_train_ft0 = df_train.loc[:,features[0]].values"
      ],
      "execution_count": 10,
      "outputs": [
        {
          "output_type": "execute_result",
          "data": {
            "text/plain": [
              "(1571415, 129)"
            ]
          },
          "metadata": {
            "tags": []
          },
          "execution_count": 10
        }
      ]
    },
    {
      "cell_type": "code",
      "metadata": {
        "trusted": true,
        "id": "x81INwjkjQqq"
      },
      "source": [
        "f_mean = np.nanmean(np_ft_train,axis=0)"
      ],
      "execution_count": 11,
      "outputs": []
    },
    {
      "cell_type": "code",
      "metadata": {
        "trusted": true,
        "id": "B35q468ijQqq"
      },
      "source": [
        "np_train = df_train.values"
      ],
      "execution_count": 12,
      "outputs": []
    },
    {
      "cell_type": "code",
      "metadata": {
        "trusted": true,
        "id": "uoBTk-yYjQqq"
      },
      "source": [
        "dict_features = {col:idx for idx, col in enumerate(df_train.columns.tolist())}"
      ],
      "execution_count": 13,
      "outputs": []
    },
    {
      "cell_type": "code",
      "metadata": {
        "trusted": true,
        "colab": {
          "base_uri": "https://localhost:8080/"
        },
        "id": "Rx3T3fRzjQqr",
        "outputId": "3f58b4e3-15d3-4730-f8f8-4b34304773ec"
      },
      "source": [
        "print('fillna_npwhere_njit (mean-filling):')\n",
        "np_train[:,8:-1] = for_loop(fillna_npwhere_njit, np_train[:,8:-1], f_mean)"
      ],
      "execution_count": 14,
      "outputs": [
        {
          "output_type": "stream",
          "text": [
            "fillna_npwhere_njit (mean-filling):\n"
          ],
          "name": "stdout"
        }
      ]
    },
    {
      "cell_type": "code",
      "metadata": {
        "trusted": true,
        "colab": {
          "base_uri": "https://localhost:8080/",
          "height": 501
        },
        "id": "JPBT2u3YjQqr",
        "outputId": "a4111be6-5ddf-4e06-bea2-61ed0f09b6df"
      },
      "source": [
        "fig, axes = plt.subplots(2,1,figsize=[12,8])\n",
        "\n",
        "sns.distplot(np_train[:,dict_features[\"resp\"]], ax=axes[0])\n",
        "sns.boxplot(np_train[:,dict_features[\"resp\"]], ax=axes[1])"
      ],
      "execution_count": 15,
      "outputs": [
        {
          "output_type": "execute_result",
          "data": {
            "text/plain": [
              "<matplotlib.axes._subplots.AxesSubplot at 0x7f78b0bd20f0>"
            ]
          },
          "metadata": {
            "tags": []
          },
          "execution_count": 15
        },
        {
          "output_type": "display_data",
          "data": {
            "image/png": "[encoded data removed]",
            "text/plain": [
              "<Figure size 864x576 with 2 Axes>"
            ]
          },
          "metadata": {
            "tags": [],
            "needs_background": "light"
          }
        }
      ]
    },
    {
      "cell_type": "code",
      "metadata": {
        "trusted": true,
        "id": "riAvr8SRjQqr"
      },
      "source": [
        "# resp_percentiles = [np.percentile(np_train[:,dict_features[\"resp\"]],(i+1)*10) for i in range(10)]"
      ],
      "execution_count": 21,
      "outputs": []
    },
    {
      "cell_type": "code",
      "metadata": {
        "trusted": true,
        "id": "jW2x4yRrjQqr"
      },
      "source": [
        "np_d_w = np_train[:,:2]\n",
        "# ['resp_1', 'resp_2', 'resp_3', 'resp_4', 'resp']\n",
        "idx_resps = list()\n",
        "for resp in resps:\n",
        "    idx_col = dict_features[resp]\n",
        "    idx_resps.append(idx_col)\n",
        "np_resps = np_train[:,idx_resps]\n",
        "\n",
        "# date, weight, resp, ft_0...130\n",
        "# X_np_train = np_train[:,idx_targets]"
      ],
      "execution_count": 22,
      "outputs": []
    },
    {
      "cell_type": "code",
      "metadata": {
        "trusted": true,
        "id": "OhM-pxN-jQqs"
      },
      "source": [
        "def utility_score(X_d_w,X_r,y):\n",
        "    # X for date, weight, resp numpy.array\n",
        "    # y for binary action by random threshold or prediction\n",
        "    \n",
        "    # date\n",
        "    date_min, date_max = np.min(X_d_w[:,0]), np.max(X_d_w[:,0])\n",
        "    period = date_max - date_min + 1\n",
        "    dates = np.arange(date_min, date_max+1)\n",
        "    \n",
        "    list_p = list()\n",
        "    \n",
        "    for date in dates:\n",
        "        idx_date = X_d_w[:,0] == date\n",
        "        X_d = X_d_w[idx_date,0]\n",
        "        y_d = y[idx_date]\n",
        "        w_d = X_d_w[idx_date,1]\n",
        "        r_d = X_r[idx_date]\n",
        "        \n",
        "        p_d = w_d * r_d * y_d\n",
        "        p = p_d.sum()\n",
        "        \n",
        "        list_p.append(p)\n",
        "    \n",
        "    np_p = np.array(list_p)\n",
        "    \n",
        "\n",
        "    t = np.sum(np_p) / np.sqrt(np.sum(np.power(np_p,2))) * np.sqrt(250/period)\n",
        "    utility_score = min(max(t,0),6)*np_p.sum()\n",
        "    return utility_score"
      ],
      "execution_count": 23,
      "outputs": []
    },
    {
      "cell_type": "code",
      "metadata": {
        "trusted": true,
        "id": "Giq1hnN0jQqs"
      },
      "source": [
        "def calculate_percentile(np_d_w, np_resps, percentiles):\n",
        "    X_d_w = np_d_w\n",
        "    list_best_prcntl = list()\n",
        "    for i in range(np_resps.shape[1]):\n",
        "        print(f\"{resps[i]} processing...\")\n",
        "        X_r= np_resps[:,i]\n",
        "        \n",
        "        best_prcntl = 0\n",
        "        best_u_score = 0\n",
        "        \n",
        "        for prcntl in percentiles:\n",
        "            threshold = np.percentile(X_r, prcntl)\n",
        "            y = np.array(list(map(lambda x: 1 if x>threshold else 0, X_r)))\n",
        "            u_score = utility_score(X_d_w, X_r, y)\n",
        "            print(f\"percentile {prcntl}%; utiliy_score: {u_score:.4f}\")\n",
        "            if u_score > best_u_score:\n",
        "                best_u_score = u_score\n",
        "                best_prcntl = prcntl\n",
        "                \n",
        "        list_best_prcntl.append((best_prcntl,best_u_score))\n",
        "    return list_best_prcntl"
      ],
      "execution_count": 24,
      "outputs": []
    },
    {
      "cell_type": "code",
      "metadata": {
        "trusted": true,
        "id": "7_WV3bVVjQqs"
      },
      "source": [
        "# list_prcntl = calculate_percentile(np_d_w, np_resps, np.arange(10,100,10))"
      ],
      "execution_count": 25,
      "outputs": []
    },
    {
      "cell_type": "code",
      "metadata": {
        "trusted": true,
        "id": "_GxnBoVcjQqs"
      },
      "source": [
        "# list_prcntl"
      ],
      "execution_count": 26,
      "outputs": []
    },
    {
      "cell_type": "code",
      "metadata": {
        "trusted": true,
        "id": "62uxLfu_jQqt"
      },
      "source": [
        "# list_prcntl = calculate_percentile(np_d_w, np_resps, np.arange(45,56,1))"
      ],
      "execution_count": 27,
      "outputs": []
    },
    {
      "cell_type": "code",
      "metadata": {
        "trusted": true,
        "id": "6uGsMDjRjQqt"
      },
      "source": [
        "# list_prcntl"
      ],
      "execution_count": 28,
      "outputs": []
    },
    {
      "cell_type": "code",
      "metadata": {
        "trusted": true,
        "colab": {
          "base_uri": "https://localhost:8080/"
        },
        "id": "IrsOWxJ1jQqt",
        "outputId": "5a2dcd62-1b4a-489c-c433-6b6ebbdb7cc3"
      },
      "source": [
        "# ['resp_1', 'resp_2', 'resp_3', 'resp_4', 'resp']\n",
        "# [50, 49, 49, 50, 50]\n",
        "# resps_prcntls = np.array(list(map(lambda x:x[0],list_prcntl)))\n",
        "resps_prcntls = [50, 49, 49, 50, 50]\n",
        "resps_prcntls = [np.percentile(np_resps[:,idx], prcntls) for idx, prcntls in enumerate(resps_prcntls)]\n",
        "resps_prcntls"
      ],
      "execution_count": 29,
      "outputs": [
        {
          "output_type": "execute_result",
          "data": {
            "text/plain": [
              "[2.3540282199974172e-05,\n",
              " -2.6968382262566605e-05,\n",
              " -6.920687970705338e-05,\n",
              " 7.239638944156468e-05,\n",
              " 4.7192643251037225e-05]"
            ]
          },
          "metadata": {
            "tags": []
          },
          "execution_count": 29
        }
      ]
    },
    {
      "cell_type": "code",
      "metadata": {
        "trusted": true,
        "id": "bpR0DxGEjQqt"
      },
      "source": [
        "list_resps = list()\n",
        "for idx, resps_prcntl in enumerate(resps_prcntls):\n",
        "    result = list(map(lambda x: 1 if x > resps_prcntl else 0, np_resps[:,idx]))\n",
        "    list_resps.append(result)\n",
        "np_targets = np.stack(list_resps).T"
      ],
      "execution_count": 30,
      "outputs": []
    },
    {
      "cell_type": "code",
      "metadata": {
        "trusted": true,
        "colab": {
          "base_uri": "https://localhost:8080/"
        },
        "id": "Uxu2QZVvjQqt",
        "outputId": "979f22f7-c6cf-477f-c418-688f08e459b8"
      },
      "source": [
        "np_targets"
      ],
      "execution_count": 31,
      "outputs": [
        {
          "output_type": "execute_result",
          "data": {
            "text/plain": [
              "array([[0, 0, 0, 0, 0],\n",
              "       [1, 0, 0, 0, 0],\n",
              "       [1, 1, 0, 0, 1],\n",
              "       ...,\n",
              "       [1, 1, 0, 0, 0],\n",
              "       [1, 1, 0, 0, 0],\n",
              "       [0, 0, 0, 0, 0]])"
            ]
          },
          "metadata": {
            "tags": []
          },
          "execution_count": 31
        }
      ]
    },
    {
      "cell_type": "code",
      "metadata": {
        "trusted": true,
        "id": "6MMALVKAjQqu"
      },
      "source": [
        "idx_target = [(\"resp_\" not in key) and (\"ts_\" not in key) for key in dict_features.keys()]\n",
        "idx_target = np.arange(np_train.shape[1])[idx_target]\n",
        "X_np_train = np_train[:,idx_target]"
      ],
      "execution_count": 32,
      "outputs": []
    },
    {
      "cell_type": "code",
      "metadata": {
        "trusted": true,
        "id": "M2eusqBLjQqu"
      },
      "source": [
        "X = X_np_train\n",
        "y = np_targets"
      ],
      "execution_count": 33,
      "outputs": []
    },
    {
      "cell_type": "code",
      "metadata": {
        "trusted": true,
        "id": "JZUB58BwjQqu"
      },
      "source": [
        "class JaneDataset(Dataset):\n",
        "    def __init__(self, np_X, np_y):\n",
        "        super(JaneDataset,self).__init__()\n",
        "        self.X = np_X\n",
        "        self.y = np_y\n",
        "        \n",
        "    def __len__(self):\n",
        "        return self.X.shape[0]\n",
        "    \n",
        "    def __getitem__(self, index):\n",
        "        # date, weight, resp\n",
        "        X_util = self.X[index, :3]\n",
        "        X = torch.tensor(self.X[index, 3:],dtype=torch.float)\n",
        "        y = torch.tensor(self.y[index],dtype=torch.float)\n",
        "        return X_util, X, y"
      ],
      "execution_count": 49,
      "outputs": []
    },
    {
      "cell_type": "code",
      "metadata": {
        "trusted": true,
        "id": "oEfccW3QjQqu"
      },
      "source": [
        "dataset = JaneDataset(X, y)"
      ],
      "execution_count": 50,
      "outputs": []
    },
    {
      "cell_type": "code",
      "metadata": {
        "trusted": true,
        "id": "PDmFifcCjQqu"
      },
      "source": [
        "train_size = int(len(dataset) * 0.8)\n",
        "valid_size = len(dataset) - train_size\n",
        "\n",
        "train_dataset, valid_dataset = torch.utils.data.random_split(dataset, [train_size, valid_size], generator=torch.Generator().manual_seed(entire_seed))"
      ],
      "execution_count": 51,
      "outputs": []
    },
    {
      "cell_type": "code",
      "metadata": {
        "id": "lHiajLx6oCBR"
      },
      "source": [
        "dummy = iter(train_dataloader)\r\n",
        "dummy2 = next(dummy)"
      ],
      "execution_count": 70,
      "outputs": []
    },
    {
      "cell_type": "code",
      "metadata": {
        "colab": {
          "base_uri": "https://localhost:8080/"
        },
        "id": "btUi4CIHqPip",
        "outputId": "12ed8280-c681-4e43-8c64-31511e5a8b6f"
      },
      "source": [
        "dummy2"
      ],
      "execution_count": 71,
      "outputs": [
        {
          "output_type": "execute_result",
          "data": {
            "text/plain": [
              "[tensor([[ 1.7200e+02,  2.0337e-01, -2.6323e-03],\n",
              "         [ 4.5800e+02,  2.4289e+00,  3.8558e-02],\n",
              "         [ 4.9200e+02,  6.2148e-01,  2.0343e-02],\n",
              "         ...,\n",
              "         [ 4.7600e+02,  5.8965e+01,  5.5245e-03],\n",
              "         [ 3.8000e+02,  3.0140e-01,  1.6431e-03],\n",
              "         [ 1.9800e+02,  9.2621e-01, -9.2365e-03]], dtype=torch.float64),\n",
              " tensor([[ 1.0000,  1.3608,  2.3501,  ...,  0.2439, -0.6441,  0.7885],\n",
              "         [-1.0000, -0.1656,  0.1443,  ...,  1.5192,  0.8002,  1.2989],\n",
              "         [-1.0000, -1.9024, -1.8638,  ..., -0.4014, -0.1775, -0.1065],\n",
              "         ...,\n",
              "         [-1.0000,  0.0787,  0.3850,  ..., -1.1865, -1.6968, -0.8142],\n",
              "         [ 1.0000, -3.1720, -3.0932,  ..., -0.2104, -2.6794, -0.0905],\n",
              "         [-1.0000,  2.1394,  4.8889,  ..., -0.1211, -0.0960, -0.1908]]),\n",
              " tensor([[0., 0., 0., 1., 0.],\n",
              "         [0., 0., 1., 1., 1.],\n",
              "         [1., 1., 1., 1., 1.],\n",
              "         ...,\n",
              "         [0., 1., 1., 1., 1.],\n",
              "         [0., 0., 0., 1., 1.],\n",
              "         [0., 0., 0., 0., 0.]])]"
            ]
          },
          "metadata": {
            "tags": []
          },
          "execution_count": 71
        }
      ]
    },
    {
      "cell_type": "code",
      "metadata": {
        "colab": {
          "base_uri": "https://localhost:8080/"
        },
        "id": "UrHPieuuqaMz",
        "outputId": "5210ed09-758f-4fc5-8ce4-cb743d9a6327"
      },
      "source": [
        "X_d_w = dummy2[0].detach().cpu().numpy()\r\n",
        "\r\n",
        "X_r = X_d_w[:,-1]\r\n",
        "X_d_w = X_d_w[:,:-1]\r\n",
        "y = dummy2[2].detach().cpu().numpy()[:,-1]\r\n",
        "\r\n",
        "utility_score(X_d_w,X_r,y)"
      ],
      "execution_count": 73,
      "outputs": [
        {
          "output_type": "execute_result",
          "data": {
            "text/plain": [
              "457.2947453065417"
            ]
          },
          "metadata": {
            "tags": []
          },
          "execution_count": 73
        }
      ]
    },
    {
      "cell_type": "code",
      "metadata": {
        "id": "httZ-OsEqTTt"
      },
      "source": [
        "utility_score()"
      ],
      "execution_count": null,
      "outputs": []
    },
    {
      "cell_type": "code",
      "metadata": {
        "id": "cOfUavRYkzgT"
      },
      "source": [
        "class ResidualBlock(nn.Module):\r\n",
        "    expansion: int=1\r\n",
        "    def __init__(self, inplane, plane, stride=1, dilation=1, dropout=0.2, downsample=None):\r\n",
        "        super(ResidualBlock,self).__init__()\r\n",
        "        \r\n",
        "        self.conv1 = self.conv3x3(inplane, plane, stride, dilation)\r\n",
        "        self.bn1 = nn.BatchNorm1d(plane)\r\n",
        "        self.dropout1 = nn.Dropout(dropout)\r\n",
        "        self.conv2 = self.conv3x3(plane, plane)\r\n",
        "        self.bn2 = nn.BatchNorm1d(plane)\r\n",
        "        \r\n",
        "        # Inplace means in Activation Func\r\n",
        "        # https://discuss.pytorch.org/t/whats-the-difference-between-nn-relu-and-nn-relu-inplace-true/948\r\n",
        "        self.relu = nn.ReLU(inplace=False)\r\n",
        "        \r\n",
        "        self.downsample = downsample\r\n",
        "        \r\n",
        "    def conv3x3(self, in_planes, out_planes, stride=1, dilation=1):\r\n",
        "        return nn.Conv1d(in_planes, out_planes, 3, stride, padding=dilation, bias=False)\r\n",
        "        \r\n",
        "    def forward(self, x):\r\n",
        "        shortcut = x\r\n",
        "        \r\n",
        "        out = self.conv1(x)\r\n",
        "        out = self.bn1(out)\r\n",
        "        out = self.relu(out)\r\n",
        "        out = self.dropout1(out)\r\n",
        "        \r\n",
        "        out = self.conv2(out)\r\n",
        "        out = self.bn2(out)\r\n",
        "        \r\n",
        "        if self.downsample is not None:\r\n",
        "            shortcut = self.downsample(x)\r\n",
        "            \r\n",
        "        out += shortcut\r\n",
        "        out = self.relu(out)\r\n",
        "        \r\n",
        "        return out"
      ],
      "execution_count": 52,
      "outputs": []
    },
    {
      "cell_type": "code",
      "metadata": {
        "id": "b-aWPVGdk5NF"
      },
      "source": [
        "from typing import Type, Any, Callable, Union, List, Optional\r\n",
        "\r\n",
        "class CustomResNet(nn.Module):\r\n",
        "    def __init__(self, block: Type[ResidualBlock], layers: List[int], dropout=0.2, num_feature=130, hidden_layers=[512,256], num_classes: int = 5):\r\n",
        "        super(CustomResNet, self).__init__()\r\n",
        "        self.inplanes = 64\r\n",
        "        self.block = block\r\n",
        "        self.dropout = dropout\r\n",
        "        self.num_feature = num_feature\r\n",
        "        self.h1, self.h2 = hidden_layers\r\n",
        "        self.num_classes = num_classes\r\n",
        "        self.reshaped_dim = int(self.h1 / self.inplanes)\r\n",
        "\r\n",
        "        self.relu = nn.ReLU(inplace=False)\r\n",
        "        \r\n",
        "        self.bn_d0 = nn.BatchNorm1d(self.num_feature)\r\n",
        "        self.dropout_d0 = nn.Dropout(self.dropout)\r\n",
        "        \r\n",
        "        self.dense1 = nn.Linear(self.num_feature, self.h1)\r\n",
        "        self.bn_d1 = nn.BatchNorm1d(self.h1)\r\n",
        "        self.dropout_d1 = nn.Dropout(self.dropout)\r\n",
        "\r\n",
        "        self.layer1 = self.make_layers(self.block,64, layers[0], stride=1)\r\n",
        "        self.layer2 = self.make_layers(self.block,128,layers[1], stride=2)\r\n",
        "        self.layer3 = self.make_layers(self.block,256,layers[2], stride=2)\r\n",
        "        # self.layer4 = self.make_layers(self.block,512,layers[3], stride=2)\r\n",
        " \r\n",
        "        self.avgpool = nn.AvgPool1d(2)\r\n",
        "        self.flt = nn.Flatten()\r\n",
        "\r\n",
        "        self.dense2 = nn.Linear(int(self.h1/2), self.h2)\r\n",
        "        self.bn_d2 = nn.BatchNorm1d(self.h2)\r\n",
        "        self.dropout_d2 = nn.Dropout(self.dropout)\r\n",
        "    \r\n",
        "        self.dense3 = nn.Linear(self.h2, self.num_classes)\r\n",
        "        \r\n",
        "\r\n",
        "    def make_layers(self, block, planes, layer, stride=1):\r\n",
        "        downsample = None\r\n",
        "        \r\n",
        "        if stride > 1:\r\n",
        "            downsample = nn.Sequential(\r\n",
        "                self.conv1x1(self.inplanes, planes * block.expansion, stride),\r\n",
        "                nn.BatchNorm1d(planes * block.expansion),\r\n",
        "            )\r\n",
        "            \r\n",
        "        layers = []\r\n",
        "        layers.append(block(self.inplanes, planes, stride, dilation=1,dropout=self.dropout, downsample=downsample))\r\n",
        "        self.inplanes = planes * block.expansion\r\n",
        "\r\n",
        "        for i in range(layer-1):\r\n",
        "            layers.append(block(self.inplanes, planes))\r\n",
        "\r\n",
        "        return nn.Sequential(*layers)\r\n",
        "            \r\n",
        " \r\n",
        "    def conv1x1(self, in_planes, out_planes, stride=1):\r\n",
        "        return nn.Conv1d(in_planes, out_planes, 1, stride=stride, bias=False)\r\n",
        "\r\n",
        "    def forward(self, x):\r\n",
        "        \r\n",
        "        x = self.bn_d0(x)\r\n",
        "        x = self.dropout_d0(x)\r\n",
        "\r\n",
        "        x = self.dense1(x)\r\n",
        "        x = self.bn_d1(x)\r\n",
        "        x = self.relu(x)\r\n",
        "        x = self.dropout_d1(x)\r\n",
        "\r\n",
        "        x = x.reshape(x.size(0), 64, self.reshaped_dim)\r\n",
        "\r\n",
        "        x = self.layer1(x)\r\n",
        "        x = self.layer2(x)\r\n",
        "        x = self.layer3(x)\r\n",
        "        # x = self.layer4(x)\r\n",
        "\r\n",
        "        x = self.avgpool(x)\r\n",
        "\r\n",
        "        x = self.flt(x)\r\n",
        "\r\n",
        "        x = self.dense2(x)\r\n",
        "        x = self.bn_d2(x)\r\n",
        "        x = self.relu(x)\r\n",
        "        x = self.dropout_d2(x)\r\n",
        "\r\n",
        "        x = self.dense3(x)\r\n",
        "\r\n",
        "        return x\r\n",
        "        "
      ],
      "execution_count": 53,
      "outputs": []
    },
    {
      "cell_type": "code",
      "metadata": {
        "id": "YF32d5Usk5-s"
      },
      "source": [
        "block = ResidualBlock\r\n",
        "model = CustomResNet(block=block, layers=[3,4,4], hidden_layers=[512,128])"
      ],
      "execution_count": 54,
      "outputs": []
    },
    {
      "cell_type": "code",
      "metadata": {
        "id": "KjXOp8PwlSLT"
      },
      "source": [
        "epochs = 100\r\n",
        "batch_size = 4096\r\n",
        "learning_rate = 1e-3\r\n",
        "weight_decay = 1e-5"
      ],
      "execution_count": 55,
      "outputs": []
    },
    {
      "cell_type": "code",
      "metadata": {
        "id": "f71qmesilSl7"
      },
      "source": [
        "train_dataloader = DataLoader(train_dataset, batch_size=batch_size, shuffle=False) \r\n",
        "valid_dataloader = DataLoader(valid_dataset, batch_size=batch_size, shuffle=False)"
      ],
      "execution_count": 56,
      "outputs": []
    },
    {
      "cell_type": "code",
      "metadata": {
        "id": "etVHSGELlTjr"
      },
      "source": [
        "device = \"cuda:0\" if torch.cuda.is_available() else \"cpu\""
      ],
      "execution_count": 59,
      "outputs": []
    },
    {
      "cell_type": "code",
      "metadata": {
        "id": "5_L8nMu6lUnT"
      },
      "source": [
        "class EarlyStopping:\r\n",
        "    def __init__(self, patience=7, mode=\"max\", delta=0.001):\r\n",
        "        self.patience = patience\r\n",
        "        self.counter = 0\r\n",
        "        self.mode = mode\r\n",
        "        self.best_score = None\r\n",
        "        self.early_stop = False\r\n",
        "        self.delta = delta\r\n",
        "        if self.mode == \"min\":\r\n",
        "            self.val_score = np.Inf\r\n",
        "        else:\r\n",
        "            self.val_score = -np.Inf\r\n",
        "\r\n",
        "    def __call__(self, epoch_score, model, model_path):\r\n",
        "\r\n",
        "        if self.mode == \"min\":\r\n",
        "            score = -1.0 * epoch_score\r\n",
        "        else:\r\n",
        "            score = np.copy(epoch_score)\r\n",
        "\r\n",
        "        if self.best_score is None:\r\n",
        "            self.best_score = score\r\n",
        "            self.save_checkpoint(epoch_score, model, model_path)\r\n",
        "        elif score < self.best_score: #  + self.delta\r\n",
        "            self.counter += 1\r\n",
        "            # print('EarlyStopping counter: {} out of {}'.format(self.counter, self.patience))\r\n",
        "            if self.counter >= self.patience:\r\n",
        "                self.early_stop = True\r\n",
        "        else:\r\n",
        "            self.best_score = score\r\n",
        "            # ema.apply_shadow()\r\n",
        "            self.save_checkpoint(epoch_score, model, model_path)\r\n",
        "            # ema.restore()\r\n",
        "            self.counter = 0\r\n",
        "\r\n",
        "    def save_checkpoint(self, epoch_score, model, model_path):\r\n",
        "        if epoch_score not in [-np.inf, np.inf, -np.nan, np.nan]:\r\n",
        "            print(f\"Validation score improved ({self.val_score:.4f} --> {epoch_score:.4f}). Saving model!\")\r\n",
        "            # if not DEBUG:\r\n",
        "            torch.save(model.state_dict(), model_path)\r\n",
        "        self.val_score = epoch_score"
      ],
      "execution_count": 60,
      "outputs": []
    },
    {
      "cell_type": "code",
      "metadata": {
        "colab": {
          "base_uri": "https://localhost:8080/",
          "height": 859,
          "referenced_widgets": [
            "e3d7ad10b5da43b3b6a5d1833b90aa31",
            "61cf7eb5eda446628c389c709c67a7df",
            "0bdca0aa47e34e878839b0e0db470188",
            "9c453c0f4b5c4a27bb849c716be579c3",
            "0f929f57e5094a8fa5c04c3a16ec662b",
            "99f081398b0b4cec8cc19294a61ffef1",
            "a649b98ecfe84948a4e3b7724bd630ec",
            "ef6b49f8cc104fbeb0a3de5e5d7e99fa"
          ]
        },
        "id": "Bj9zB0hplVjD",
        "outputId": "3ab035ce-9d06-4fb7-f167-5be95ea776a0"
      },
      "source": [
        "NFOLDS = 1\r\n",
        "EARLYSTOP_NUM = 7\r\n",
        "CACHE_PATH = model_home\r\n",
        "\r\n",
        "for _fold in range(NFOLDS):\r\n",
        "    print(f'Fold{_fold}:')\r\n",
        "    seed_torch(seed=entire_seed+_fold)\r\n",
        "    torch.cuda.empty_cache()\r\n",
        "    model = CustomResNet(block=block, layers=[3,4,4], hidden_layers=[512,128])\r\n",
        "    model = model.to(device)\r\n",
        "    criterion = nn.BCEWithLogitsLoss() \r\n",
        "    optimizer = optim.Adam(model.parameters(), lr=learning_rate, weight_decay=weight_decay)\r\n",
        "\r\n",
        "    es = EarlyStopping(EARLYSTOP_NUM, mode=\"max\")\r\n",
        "    for epoch in tqdm_notebook(range(epochs)):\r\n",
        "\r\n",
        "        running_loss = 0.0\r\n",
        "        running_acc = 0.0\r\n",
        "        running_auc = 0.0\r\n",
        "        running_util = 0.0\r\n",
        "\r\n",
        "        model.train()\r\n",
        "        \r\n",
        "        for idx, (X_utils,inputs, labels) in enumerate(train_dataloader):\r\n",
        "            \r\n",
        "            optimizer.zero_grad()\r\n",
        "\r\n",
        "            X_d_w = X_utils[:,:-1].detach().cpu().numpy()\r\n",
        "            X_r = X_utils[:,-1].detach().cpu().numpy()\r\n",
        "\r\n",
        "            inputs = inputs.to(device)\r\n",
        "            labels = labels.to(device)\r\n",
        "            \r\n",
        "            outputs = model(inputs)\r\n",
        "            \r\n",
        "            true = labels.detach().cpu().numpy()[:,-1]\r\n",
        "            target = np.array(list(map(lambda x: 1 if x > 0.5 else 0, outputs.sigmoid().detach().cpu().numpy()[:,-1])),dtype=np.float)\r\n",
        "            \r\n",
        "            acc = (true == target).sum() / outputs.shape[0]\r\n",
        "            auc = roc_auc_score(true, outputs.detach().cpu().numpy()[:,-1])\r\n",
        "            util = utility_score(X_d_w,X_r,target)\r\n",
        "    \r\n",
        "            running_acc += acc\r\n",
        "            running_auc += auc\r\n",
        "            running_util += util\r\n",
        "\r\n",
        "            loss = criterion(outputs,labels)\r\n",
        "            running_loss += loss.detach().item() * inputs.size(0)\r\n",
        "            loss.backward()\r\n",
        "            optimizer.step()\r\n",
        "            \r\n",
        "        epoch_loss = running_loss / len(train_dataloader.dataset)\r\n",
        "        epoch_acc = running_acc / len(train_dataloader)\r\n",
        "        epoch_auc = running_auc / len(train_dataloader)\r\n",
        "        epoch_util = running_util\r\n",
        "\r\n",
        "        with torch.no_grad():\r\n",
        "            model.eval()\r\n",
        "            running_loss = 0.0\r\n",
        "            running_acc = 0.0\r\n",
        "            running_auc = 0.0\r\n",
        "            running_util = 0.0\r\n",
        "\r\n",
        "            for idx, (X_utils, inputs, labels) in enumerate(valid_dataloader):\r\n",
        "\r\n",
        "                X_d_w = X_utils[:,:-1].detach().cpu().numpy()\r\n",
        "                X_r = X_utils[:,-1].detach().cpu().numpy()\r\n",
        "\r\n",
        "                inputs = inputs.to(device)\r\n",
        "                labels = labels.to(device)\r\n",
        "\r\n",
        "                outputs = model(inputs)\r\n",
        "\r\n",
        "                true = labels.detach().cpu().numpy()[:,-1]\r\n",
        "                target = np.array(list(map(lambda x: 1 if x > 0.5 else 0, outputs.sigmoid().detach().cpu().numpy()[:,-1])),dtype=np.float)\r\n",
        "                \r\n",
        "                acc = (true == target).sum() / outputs.shape[0]\r\n",
        "                auc = roc_auc_score(true, outputs.detach().cpu().numpy()[:,-1])\r\n",
        "                util = utility_score(X_d_w,X_r,target)\r\n",
        "\r\n",
        "                running_acc += acc\r\n",
        "                running_auc += auc\r\n",
        "                running_util += util\r\n",
        "\r\n",
        "                loss = criterion(outputs, labels)\r\n",
        "                running_loss += loss.detach().item() * inputs.size(0)\r\n",
        "                \r\n",
        "            valid_loss = running_loss / len(valid_dataloader.dataset)\r\n",
        "            valid_acc = running_acc / len(valid_dataloader)\r\n",
        "            valid_auc = running_auc / len(valid_dataloader)\r\n",
        "            valid_util = running_util\r\n",
        "\r\n",
        "        print(f\"EPOCH:{epoch+1}|{epochs}; loss(train/valid):{epoch_loss:.4f}/{valid_loss:.4f}; acc(train/valid):{epoch_acc:.4f}/{valid_acc:.4f}; auc(train/valid):{epoch_auc:.4f}/{valid_auc:.4f}; utility(train/valid):{epoch_util:.4f}/{valid_util:.4f}\")\r\n",
        "        \r\n",
        "        model_weights = os.path.join(model_home,f\"U_resnet_64_3-128_4-256_4_{_fold}.pth\")\r\n",
        "        es(valid_util, model, model_path=model_weights)\r\n",
        "        if es.early_stop:\r\n",
        "          print(\"Early stopping\")\r\n",
        "          break"
      ],
      "execution_count": null,
      "outputs": [
        {
          "output_type": "stream",
          "text": [
            "Fold0:\n"
          ],
          "name": "stdout"
        },
        {
          "output_type": "display_data",
          "data": {
            "application/vnd.jupyter.widget-view+json": {
              "model_id": "e3d7ad10b5da43b3b6a5d1833b90aa31",
              "version_minor": 0,
              "version_major": 2
            },
            "text/plain": [
              "HBox(children=(FloatProgress(value=0.0), HTML(value='')))"
            ]
          },
          "metadata": {
            "tags": []
          }
        },
        {
          "output_type": "stream",
          "text": [
            "EPOCH:1|100; loss(train/valid):0.6924/0.6895; acc(train/valid):0.5145/0.5209; auc(train/valid):0.5219/0.5341; utility(train/valid):1477.4173/378.4918\n",
            "Validation score improved (-inf --> 378.4918). Saving model!\n",
            "EPOCH:2|100; loss(train/valid):0.6900/0.6886; acc(train/valid):0.5209/0.5257; auc(train/valid):0.5311/0.5370; utility(train/valid):2100.8065/470.0132\n",
            "Validation score improved (378.4918 --> 470.0132). Saving model!\n",
            "EPOCH:3|100; loss(train/valid):0.6892/0.6882; acc(train/valid):0.5226/0.5253; auc(train/valid):0.5339/0.5389; utility(train/valid):2380.1510/435.7718\n",
            "EPOCH:4|100; loss(train/valid):0.6887/0.6880; acc(train/valid):0.5233/0.5267; auc(train/valid):0.5354/0.5406; utility(train/valid):2430.8055/511.2570\n",
            "Validation score improved (470.0132 --> 511.2570). Saving model!\n",
            "EPOCH:5|100; loss(train/valid):0.6885/0.6877; acc(train/valid):0.5238/0.5274; auc(train/valid):0.5368/0.5409; utility(train/valid):2644.8526/539.6113\n",
            "Validation score improved (511.2570 --> 539.6113). Saving model!\n",
            "EPOCH:6|100; loss(train/valid):0.6883/0.6875; acc(train/valid):0.5244/0.5268; auc(train/valid):0.5374/0.5427; utility(train/valid):2638.5513/547.2089\n",
            "Validation score improved (539.6113 --> 547.2089). Saving model!\n",
            "EPOCH:7|100; loss(train/valid):0.6880/0.6873; acc(train/valid):0.5253/0.5280; auc(train/valid):0.5388/0.5433; utility(train/valid):2685.5321/541.9048\n",
            "EPOCH:8|100; loss(train/valid):0.6879/0.6870; acc(train/valid):0.5260/0.5288; auc(train/valid):0.5393/0.5447; utility(train/valid):2763.2719/600.4909\n",
            "Validation score improved (547.2089 --> 600.4909). Saving model!\n",
            "EPOCH:9|100; loss(train/valid):0.6876/0.6869; acc(train/valid):0.5268/0.5289; auc(train/valid):0.5408/0.5457; utility(train/valid):2899.6224/636.8590\n",
            "Validation score improved (600.4909 --> 636.8590). Saving model!\n",
            "EPOCH:10|100; loss(train/valid):0.6875/0.6866; acc(train/valid):0.5274/0.5285; auc(train/valid):0.5414/0.5463; utility(train/valid):3098.9836/681.2190\n",
            "Validation score improved (636.8590 --> 681.2190). Saving model!\n",
            "EPOCH:11|100; loss(train/valid):0.6873/0.6861; acc(train/valid):0.5275/0.5314; auc(train/valid):0.5421/0.5483; utility(train/valid):2820.5116/696.7279\n",
            "Validation score improved (681.2190 --> 696.7279). Saving model!\n",
            "EPOCH:12|100; loss(train/valid):0.6871/0.6860; acc(train/valid):0.5281/0.5322; auc(train/valid):0.5433/0.5492; utility(train/valid):3267.8821/724.5641\n",
            "Validation score improved (696.7279 --> 724.5641). Saving model!\n",
            "EPOCH:13|100; loss(train/valid):0.6869/0.6858; acc(train/valid):0.5286/0.5322; auc(train/valid):0.5438/0.5501; utility(train/valid):3274.4413/739.8352\n",
            "Validation score improved (724.5641 --> 739.8352). Saving model!\n",
            "EPOCH:14|100; loss(train/valid):0.6867/0.6856; acc(train/valid):0.5292/0.5318; auc(train/valid):0.5448/0.5504; utility(train/valid):3107.6045/790.8632\n",
            "Validation score improved (739.8352 --> 790.8632). Saving model!\n",
            "EPOCH:15|100; loss(train/valid):0.6866/0.6851; acc(train/valid):0.5291/0.5339; auc(train/valid):0.5452/0.5524; utility(train/valid):3186.9238/832.6828\n",
            "Validation score improved (790.8632 --> 832.6828). Saving model!\n",
            "EPOCH:16|100; loss(train/valid):0.6864/0.6850; acc(train/valid):0.5299/0.5344; auc(train/valid):0.5462/0.5532; utility(train/valid):3744.4075/852.9205\n",
            "Validation score improved (832.6828 --> 852.9205). Saving model!\n",
            "EPOCH:17|100; loss(train/valid):0.6862/0.6848; acc(train/valid):0.5309/0.5347; auc(train/valid):0.5476/0.5540; utility(train/valid):3561.1725/926.5235\n",
            "Validation score improved (852.9205 --> 926.5235). Saving model!\n",
            "EPOCH:18|100; loss(train/valid):0.6860/0.6846; acc(train/valid):0.5304/0.5349; auc(train/valid):0.5474/0.5544; utility(train/valid):3623.6239/860.1073\n",
            "EPOCH:19|100; loss(train/valid):0.6858/0.6843; acc(train/valid):0.5312/0.5351; auc(train/valid):0.5482/0.5549; utility(train/valid):3611.4788/925.8921\n",
            "EPOCH:20|100; loss(train/valid):0.6857/0.6842; acc(train/valid):0.5318/0.5352; auc(train/valid):0.5491/0.5557; utility(train/valid):3993.8365/946.8838\n",
            "Validation score improved (926.5235 --> 946.8838). Saving model!\n",
            "EPOCH:21|100; loss(train/valid):0.6855/0.6840; acc(train/valid):0.5321/0.5359; auc(train/valid):0.5497/0.5567; utility(train/valid):3856.0901/903.6060\n",
            "EPOCH:22|100; loss(train/valid):0.6853/0.6837; acc(train/valid):0.5325/0.5367; auc(train/valid):0.5505/0.5576; utility(train/valid):3884.8307/1022.7375\n",
            "Validation score improved (946.8838 --> 1022.7375). Saving model!\n",
            "EPOCH:23|100; loss(train/valid):0.6851/0.6835; acc(train/valid):0.5328/0.5366; auc(train/valid):0.5510/0.5583; utility(train/valid):4302.9029/1003.5396\n",
            "EPOCH:24|100; loss(train/valid):0.6851/0.6834; acc(train/valid):0.5326/0.5373; auc(train/valid):0.5509/0.5589; utility(train/valid):3799.2255/945.3457\n",
            "EPOCH:25|100; loss(train/valid):0.6849/0.6832; acc(train/valid):0.5336/0.5375; auc(train/valid):0.5524/0.5599; utility(train/valid):4287.2893/1011.7066\n",
            "EPOCH:26|100; loss(train/valid):0.6848/0.6831; acc(train/valid):0.5331/0.5386; auc(train/valid):0.5520/0.5599; utility(train/valid):4191.9526/974.3809\n",
            "EPOCH:27|100; loss(train/valid):0.6846/0.6831; acc(train/valid):0.5339/0.5386; auc(train/valid):0.5531/0.5605; utility(train/valid):4146.5874/998.0639\n"
          ],
          "name": "stdout"
        }
      ]
    },
    {
      "cell_type": "code",
      "metadata": {
        "id": "3b08oipznU0s"
      },
      "source": [
        ""
      ],
      "execution_count": null,
      "outputs": []
    }
  ]
}